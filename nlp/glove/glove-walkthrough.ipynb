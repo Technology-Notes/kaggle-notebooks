{
 "cells": [
  {
   "cell_type": "markdown",
   "metadata": {},
   "source": [
    "# GloVe walkthrough"
   ]
  },
  {
   "cell_type": "markdown",
   "metadata": {},
   "source": [
    "This notebook serves as an overview of GloVe algorithm, which is an unsupervised algorithm for learning vector representations for words, otherwise known as a \"[word embedding](https://en.wikipedia.org/wiki/Word_embedding)\"."
   ]
  },
  {
   "cell_type": "code",
   "execution_count": 179,
   "metadata": {},
   "outputs": [],
   "source": [
    "import math\n",
    "from collections import defaultdict\n",
    "\n",
    "import numpy as np\n",
    "\n",
    "from sklearn.cluster import KMeans"
   ]
  },
  {
   "cell_type": "markdown",
   "metadata": {},
   "source": [
    "## Loading Pretrained Embeddings"
   ]
  },
  {
   "cell_type": "markdown",
   "metadata": {},
   "source": [
    "I downloaded glove.twitter.27B.zip from the official website, which provides a number of different dimensions aka latent factors for the vectors learned for each word in the vocab."
   ]
  },
  {
   "cell_type": "code",
   "execution_count": 182,
   "metadata": {},
   "outputs": [
    {
     "name": "stdout",
     "output_type": "stream",
     "text": [
      "-rw-rw-r--  1 lex  staff   331M  5 Aug  2014 data/glove.6B.100d.txt\r\n",
      "-rw-rw-r--  1 lex  staff   586M  5 Aug  2014 data/glove.6B.200d.txt\r\n",
      "-rw-rw-r--  1 lex  staff   163M  5 Aug  2014 data/glove.6B.50d.txt\r\n",
      "-r--r--r--  1 lex  staff   246M 14 Aug  2014 data/glove.twitter.27B.25d.txt\r\n",
      "-rw-rw-r--  1 lex  staff   487M 14 Aug  2014 data/glove.twitter.27B.50d.txt\r\n"
     ]
    }
   ],
   "source": [
    "%ls -lh data/*txt"
   ]
  },
  {
   "cell_type": "markdown",
   "metadata": {},
   "source": [
    "Each text file includes each word (or character) in the corpus as the first character on a line, followed by a number of floats (based on the dimension size of the file) which represents the trained word vector."
   ]
  },
  {
   "cell_type": "code",
   "execution_count": 183,
   "metadata": {},
   "outputs": [
    {
     "data": {
      "text/plain": [
       "'<user> 0.62415 0.62476 -0.082335 0.20101 -0.13741 -0.11431 0.77909 2.6356 -0.46351 0.57465 -0.024888 -0.015466 -2.9696 -0.49876 0.095034 -0.94879 -0.017336 -0.86349 -1.3348 0.046811 0.36999 -0.57663 -0.48469 0.40078 0.75345\\n'"
      ]
     },
     "execution_count": 183,
     "metadata": {},
     "output_type": "execute_result"
    }
   ],
   "source": [
    "fh = open('data/glove.twitter.27B.25d.txt', 'r')\n",
    "next(fh)"
   ]
  },
  {
   "cell_type": "code",
   "execution_count": 184,
   "metadata": {},
   "outputs": [
    {
     "data": {
      "text/plain": [
       "'. 0.69586 -1.1469 -0.41797 -0.022311 -0.023801 0.82358 1.2228 1.741 -0.90979 1.3725 0.1153 -0.63906 -3.2252 0.61269 0.33544 -0.57058 -0.50861 -0.16575 -0.98153 -0.8213 0.24333 -0.14482 -0.67877 0.7061 0.40833\\n'"
      ]
     },
     "execution_count": 184,
     "metadata": {},
     "output_type": "execute_result"
    }
   ],
   "source": [
    "next(fh)"
   ]
  },
  {
   "cell_type": "code",
   "execution_count": 185,
   "metadata": {},
   "outputs": [
    {
     "data": {
      "text/plain": [
       "': 1.1242 0.054519 -0.037362 0.10046 0.11923 -0.30009 1.0938 2.537 -0.072802 1.0491 1.0931 0.066084 -2.7036 -0.14391 -0.22031 -0.99347 -0.65072 -0.030948 -1.0817 -0.64701 0.32341 -0.41612 -0.5268 -0.047166 0.71549\\n'"
      ]
     },
     "execution_count": 185,
     "metadata": {},
     "output_type": "execute_result"
    }
   ],
   "source": [
    "next(fh)"
   ]
  },
  {
   "cell_type": "code",
   "execution_count": 186,
   "metadata": {},
   "outputs": [],
   "source": [
    "def build_embedding(fh, vocab_size, dims):\n",
    "    \"\"\"Function used to load embedding from disk into NumPy matrix.\"\"\"\n",
    "    embedding = np.zeros((vocab_size, dims))\n",
    "\n",
    "    labels = []\n",
    "\n",
    "    for i, line in enumerate(fh):\n",
    "        if i >= vocab_size:\n",
    "            break\n",
    "\n",
    "        sr = line.split()\n",
    "\n",
    "        if len(sr[1:]) == dims - 1:\n",
    "            sr = [' '] + sr  \n",
    "            \n",
    "        labels.append(sr[0])\n",
    "            \n",
    "        embedding[i] = np.array([float(j) for j in sr[1:]])\n",
    "        \n",
    "    return embedding, labels"
   ]
  },
  {
   "cell_type": "code",
   "execution_count": 187,
   "metadata": {},
   "outputs": [],
   "source": [
    "embedding, labels = build_embedding(\n",
    "    open('data/glove.twitter.27B.25d.txt', 'r'),\n",
    "    vocab_size=10000,\n",
    "    dims=25\n",
    ")"
   ]
  },
  {
   "cell_type": "code",
   "execution_count": 188,
   "metadata": {},
   "outputs": [
    {
     "data": {
      "text/plain": [
       "array([ 0.62415 ,  0.62476 , -0.082335,  0.20101 , -0.13741 , -0.11431 ,\n",
       "        0.77909 ,  2.6356  , -0.46351 ,  0.57465 , -0.024888, -0.015466,\n",
       "       -2.9696  , -0.49876 ,  0.095034, -0.94879 , -0.017336, -0.86349 ,\n",
       "       -1.3348  ,  0.046811,  0.36999 , -0.57663 , -0.48469 ,  0.40078 ,\n",
       "        0.75345 ])"
      ]
     },
     "execution_count": 188,
     "metadata": {},
     "output_type": "execute_result"
    }
   ],
   "source": [
    "embedding[0]"
   ]
  },
  {
   "cell_type": "code",
   "execution_count": 189,
   "metadata": {},
   "outputs": [
    {
     "data": {
      "text/plain": [
       "'<user>'"
      ]
     },
     "execution_count": 189,
     "metadata": {},
     "output_type": "execute_result"
    }
   ],
   "source": [
    "labels[0]"
   ]
  },
  {
   "cell_type": "code",
   "execution_count": 190,
   "metadata": {},
   "outputs": [
    {
     "name": "stdout",
     "output_type": "stream",
     "text": [
      "<user> . : rt , <repeat> <hashtag> <number> <url> ! i a \" the ? you to ( <allcaps> <elong> ) me de <smile> ！ que and 。 - my no 、 is it … in n for / of la 's * do n't that on y ' e o u en this el so be 'm with just > your ^ like have te at ？ love se are < m r if all b ・ not but we es ya & follow up what get lol un ♥ lo when was “ ” one por si out\n"
     ]
    }
   ],
   "source": [
    "print(' '.join(labels[:100]))"
   ]
  },
  {
   "cell_type": "code",
   "execution_count": 191,
   "metadata": {},
   "outputs": [
    {
     "name": "stdout",
     "output_type": "stream",
     "text": [
      "-rw-r--r--  1 lex  staff   1.9M 25 Mar 14:29 ./data/embedding.10000.glove.twitter.27B.npy\r\n",
      "-rw-r--r--  1 lex  staff    19M 24 Mar 23:57 ./data/embedding.100000.glove.twitter.27B.npy\r\n"
     ]
    }
   ],
   "source": [
    "np.save(f'data/embedding.{10000}.glove.twitter.27B', embedding)\n",
    "%ls -lh ./data/embedding*"
   ]
  },
  {
   "cell_type": "markdown",
   "metadata": {},
   "source": [
    "## Examples"
   ]
  },
  {
   "cell_type": "markdown",
   "metadata": {},
   "source": [
    "### Word Clustering"
   ]
  },
  {
   "cell_type": "markdown",
   "metadata": {},
   "source": [
    "Build a K-Means model to find the nearest neighbours for each word"
   ]
  },
  {
   "cell_type": "code",
   "execution_count": 17,
   "metadata": {},
   "outputs": [
    {
     "data": {
      "text/plain": [
       "KMeans(algorithm='auto', copy_x=True, init='k-means++', max_iter=300,\n",
       "    n_clusters=1000, n_init=10, n_jobs=-1, precompute_distances='auto',\n",
       "    random_state=None, tol=0.0001, verbose=0)"
      ]
     },
     "execution_count": 17,
     "metadata": {},
     "output_type": "execute_result"
    }
   ],
   "source": [
    "kmeans_model = KMeans(init='k-means++', n_clusters=1000, n_jobs=-1, n_init=10)\n",
    "kmeans_model.fit(embedding)"
   ]
  },
  {
   "cell_type": "code",
   "execution_count": 18,
   "metadata": {},
   "outputs": [],
   "source": [
    "cluster_labels = kmeans_model.labels_"
   ]
  },
  {
   "cell_type": "code",
   "execution_count": 19,
   "metadata": {},
   "outputs": [],
   "source": [
    "cluster_to_words = defaultdict(list)\n",
    "for c, i in enumerate(cluster_labels):\n",
    "    cluster_to_words[i].append(labels[c])"
   ]
  },
  {
   "cell_type": "code",
   "execution_count": 20,
   "metadata": {},
   "outputs": [
    {
     "name": "stdout",
     "output_type": "stream",
     "text": [
      "Cluster 1: <user>, rt, …, n, >, <, “, ”, >>, $, =, +, %, --, ---\n",
      "Cluster 2: ., ,, <repeat>, !, \", ?, ;, normal\n",
      "Cluster 3: :, <number>, (, <allcaps>, ), -, /, |, @\n",
      "Cluster 4: <hashtag>, <url>, #\n",
      "Cluster 5: i, you, it, n't, that, like, if, but, what, when, know, about, how, want, 're, she, why, there, really, think, never, did, say, them, someone, always, him, where, dont, tell, talk, mean, remember\n",
      "Cluster 6: a, me, no\n",
      "Cluster 7: the, and, my, for, of, 's, this, with, your, all, one, out, new, from, more, by, or, some, its, his, our, us, first, great, their, world, every, big, other, any, old, another, own, whole\n",
      "Cluster 8: to, up, get, go, back, see, ca, need, make, 'll, then, come, let, way, take, wanna, better, gonna, give, keep, call, put, try, stay, trying, leave, ill, forget, bring, lets, hold, pick\n",
      "Cluster 9: <elong>, <smile>, ya, <sadface>, <neutralface>, ah, xd, :o\n",
      "Cluster 10: de, que, te, se, nos\n",
      "Cluster 11: ！, ～, ★, ♪, ☆, ＆\n",
      "Cluster 12: 。, 、, です, 今, そして, 今日, 明日, 今日は, また\n",
      "Cluster 13: is, just, was, he, got, still, 've, been, had, ever, were, getting, made, 'd, already, actually, thought, since, gets, went, lost, probably, came, almost, took\n",
      "Cluster 14: in, we, an, am, even, man, over, school, hard, mine, half, later, glad, rest, under, warm, begin\n",
      "Cluster 15: la, un, le, bien, va, vos, vas, fin, deja, sera, venir\n",
      "Cluster 16: *, _, ´, `, •, \\, °, __\n",
      "Cluster 17: do, as, face, ask, gay, imagine, likes, whats, role\n",
      "Cluster 18: on, car, place, point, train, paris, fair, grand, france, places, force, fort, pub, route\n",
      "Cluster 19: y, es, lo, si, pero, hay, eso, siempre, dios, nadie, verdad, decir, sino\n",
      "Cluster 20: ', o, —, ''\n",
      "Cluster 21: e, nome, dela, dele, cabelo, acha, lembra, lua, deles\n",
      "Cluster 22: u, m, r, b, s, x, t, d, c, l, f, h, v, g, j\n",
      "Cluster 23: en, el, del, al\n",
      "Cluster 24: so, 'm, good, too, much, best, feel, well, yes, guys, wish, hope, nice, long, very, sure, pretty, maybe, lucky, soo\n",
      "Cluster 25: be, have, are, not, can, they, who, will, would, only, because, should, than, does, could, being, find, makes, must, anyone, might, yet, also, n’t, used, which, both, least\n",
      "Cluster 26: ^, ♥, ♡, ~, <heart>, ❤, ^_^\n",
      "Cluster 27: at, after, before, into, house, away, around, while, through, left, goes, walk, outside, behind, walking, missing, middle, leaving, along, moving, somewhere, thru, across, onto\n",
      "Cluster 28: ？, ｣, ｢, 俺\n",
      "Cluster 29: love, girl, baby, girls, little, cute, hot, boy, perfect, smile, forever, sexy, sweet, boyfriend, kiss\n",
      "Cluster 30: ・, （, ）, ／, ＿, ＞, ＜\n",
      "Cluster 31: &, everyone, friends, believe, family, boys, wants, needs, meet, wanted, proud, loves, supporting\n",
      "Cluster 32: follow, followers, retweet, ff, followback, follower, fav\n",
      "Cluster 33: lol, shit, fuck, right, look, bad, yeah, fucking, thing, same, damn, cause, though, funny, cool, crazy, hell, guess, thats, sick, dude, swear, kid, sounds, suck\n",
      "Cluster 34: por, como, todo, nada, ver, porque, nunca, algo, vez, era, estar, antes, igual, parece\n",
      "Cluster 35: mi, madre, novio, mamá, novia, hijo, hermano, hermana, niña, perro, hija, papá, abuela\n",
      "Cluster 36: من, ومن, ذكر, nمن, بوح, زاد\n",
      "Cluster 37: con, esta, hoy, ahora, hace, hasta, esto, estas, asi, creo, pasa, paso, veo, luego, ahí, casi, seguro, despues, vaya, pone, aun, acuerdo, xq\n",
      "Cluster 38: now, day, time, today, going, here, night, last, home, year, again, done, wait, next, days, fun, ready, coming, soon, finally, excited, waiting, yesterday, hopefully, hurry\n",
      "Cluster 39: ،, و, لا, ؛, ب, بـ, ف, لـ, ل, فـ, ﻻ, nو, nلا\n",
      "Cluster 40: para, ir, dar, tomar, comprar, pedir, encontrar, usar, buscar, publicar, conseguir, pagar, abrir, cuidar\n",
      "Cluster 41: los, sus, muchos, otros, nuestros, hijos, niños, algunos, padres, pocos, cuantos, hermanos, señores, muertos, malos, aquellos\n",
      "Cluster 42: haha, <lolface>, hehe, nah, bang, ahh, hmm, ohh, hehehe, ahaha, wah, hihi, ehh, duh, x_x, hahaa, hah, woo, heh, hahha, huhu, t.t, haa, hee, hahahaa, hihihi, nii, hhaha, heheh, hehehehe, hoho, hahhaha, owh\n",
      "Cluster 43: tu, ni, pa, ala, sisi, raya, jum, cita, ira, punta\n",
      "Cluster 44: people, life, hate, things, something, person, everything, nothing, true, anything, else, mind, wrong, lot, sometimes, sad, reason, understand, trust, words, matter, happen, lie, truth, act, feelings, either, ones, whatever, exactly, realize, happens, lies, alot, knowing, none, cares\n",
      "Cluster 45: yo, mama, papa, tw, yoo, mami, bobo, okey, plis, wey, tuu, papi, sal, ati, nene, eeh, loo\n",
      "Cluster 46: eu, não, tem, só, vc, nao, ela, ele, já, nem, pq, tenho, ainda, acho\n",
      "Cluster 47: di, buka, langsung, bawa, disini, motor, tempat, lewat, sambil, mobil, kamar, lampu, kosong\n",
      "Cluster 48: aku, kita, saya, kalau, semua, boleh, pergi, kawan, ingat, tolong\n",
      "Cluster 49: da, ja, vi, sai, ali, cu, mina, dai, mae, tou\n",
      "Cluster 50: una, esa, otra, buena\n",
      "Cluster 51: las, cosas, tus, personas, todas, muchas, esas, palabras, otras, tantas, mentiras, algunas, razones, dudas, pocas\n",
      "Cluster 52: k, p, pro, rs, logo, tb, sp, ri, bora, bj, ui, mor, tri, sz\n",
      "Cluster 53: في, عن, مع, بين, العالم, وفي, داخل, أمام\n",
      "Cluster 54: ･, ω, ｀, ﾟ, ｡, ＾, ∀, ∩\n",
      "Cluster 55: é, isso, muito, tudo, sem, bem, mesmo, melhor, coisa, faz, tão, assim, também, demais, gosto, verdade, jeito, sério, pior, disso, feio, graça\n",
      "Cluster 56: [, ]\n",
      "Cluster 57: yg, ada, buat, jadi, bukan, suka, punya, banyak, kata, kasih, nama, tanya, cari, pilih\n",
      "Cluster 58: her, woman, mother, girlfriend, child, wife, father, married, daughter, pregnant, husband\n",
      "Cluster 59: q, mas, sabe, qe, sabia, porq\n",
      "Cluster 60: na, po, ate, ano, tao, isa, ata, pera, dito, gabi\n",
      "Cluster 61: 笑, ；, (>_<), 泣, やばい, ノд, つд\n",
      "Cluster 62: happy, thanks, miss, thank, birthday, morning, welcome, hello, dear, luck, enjoy, bless, merry, goodbye, cheers, wishes, goodluck, darling\n",
      "Cluster 63: im, bitch, nigga, ur, tho, gotta, mad, gone, bout, lil, everybody, nobody, aint, oomf, somebody, wit, cuz, yall, fuckin, fucked, chill, broke, outta\n",
      "Cluster 64: je, dit\n",
      "Cluster 65: yang, orang, lebih, baik, lain, sendiri, mereka, diri, seseorang\n",
      "Cluster 66: oh, omg, hey, wow, aw, wtf, fine, yay, aww, alright, joke, omfg, holy, aha, yep, lool, gosh, loool, awh, awe, ikr, looool, uhm\n",
      "Cluster 67: please, hi, followed, pls, notice, plz, invite, kindly\n",
      "Cluster 68: via, online, blog, google, app, site, web, website, email, mobile, data, ios, users, mail, apps, microsoft, yahoo, links, photoshop\n",
      "Cluster 69: dia, tua, malas, muda, luar, pula, lari, pintar\n",
      "Cluster 70: الله, السلام, عليكم, تعالى, النور, حسن, الكريم, أيها\n",
      "Cluster 71: has, ’s, comes, takes, biggest, gives, huge, talks, finds\n",
      "Cluster 72: twitter, tweet, facebook, tweets, instagram, internet, ex, link, youtube, whatsapp, videos, vine\n",
      "Cluster 73: hahaha, ok, eh, hahahaha, hahah, hm, hahahahaha, oo, hahahah, o.o, hahahahahaha, hahahahah, hahahha, hahahahahahaha, hahahahha\n",
      "Cluster 74: nn, <<, ✌, ✋, ✨, ☝, ””\n",
      "Cluster 75: ¿, cuando, qué, así, donde, también, sí, cómo, mientras, quién, todavía, dónde\n",
      "Cluster 76: off, real, down, watch, play, high, playing, hit, turn, break, fall, run, beat, fight, side, stand, fire, straight, running, ball, ride, catch, round, roll, fly, kick, jump\n",
      "Cluster 77: dan, dari, dengan, pada, atau, satu, oleh, atas, lihat, bintang\n",
      "Cluster 78: w, z, co, ana, bo, ale, ty, mam\n",
      "Cluster 79: com, pra, vou, vai, hoje, agora, quero, até, lá, depois, pouco, daqui, chegar\n",
      "Cluster 80: itu, sama, siapa, kalian, mantan, ternyata, namanya, kecil, katanya, kabar, guru, mirip, menurut, elo, pacarnya\n",
      "Cluster 81: على, عليه, علي, ع, عليها, وعلى\n",
      "Cluster 82: -_-, wkwk, mah, loh, wkwkwk, yak, kek, aduh, wk, wkwkw, yee, iye, hahart, wkwkwkwk, woy, lau, wkwkrt, ajaa, wks, ckck, coy, nihh\n",
      "Cluster 83: ☺, ☹, ‹, ›, ̷, ☻, ̶\n",
      "Cluster 84: um, meu, seu, esse, pelo, ao, novo, jogo, outro, aquele, nesse, nosso, desse, primeiro, algum, nenhum\n",
      "Cluster 85: ما, لو, كنت, كم, مره, مرة\n",
      "Cluster 86: ai, mais, ta, ou, hein, fdp\n",
      "Cluster 87: ini, lagi, kenapa, masa, lama, sekarang, sekali, baca, cerita, mimpi, padahal, entah, nasib\n",
      "Cluster 88: aja, gue, lu, nih, gua, sih, deh, dong, gw, tuh, gitu, liat, gimana, apaan, doang, mulu, kaga, aje, elu, soalnya, beneran, dikit, kagak, ajah\n",
      "Cluster 89: ser, vida, amor, gente, menos, tanto, falta, pena, culpa, merece, tanta\n",
      "Cluster 90: video, tv, album, radio, official, cover, dj, dvd, cd, version, channel, studio, ep, edition, trailer, playlist, fm, poster, audio, clip, vid, theme, anime, intro, novel, sticker, recording, featuring, comic, soundcloud\n",
      "Cluster 91: em, cabeça, fora, rua, cima, cai, pé, bate, joga\n",
      "Cluster 92: ga, tp, km, udh, gk, jd, klo, jg, sma, blm, skrg, msh, kmu, uda, jdi, jga, bsa, sdh, blg, skrng, masi\n",
      "Cluster 93: ▽, ∇, (^^), ≦, ≧, (^-^), 艸, (^_^)\n",
      "Cluster 94: apa, kan, biasa, dimana, bagus, beda, jelas, bahasa, aneh, maksudnya, maksud, apanya\n",
      "Cluster 95: team, club, match, league, sport, race, fifa, camp, premier, champion, tennis, rugby, derby\n",
      "Cluster 96: ✔, تابعني, ♻, ضيفني, للتغريدة, للتغريده\n",
      "Cluster 97: ؟, بس, شي, مو, يعني, طيب, ليش, عندي, ليه, كذا, الحين, لازم, عادي, ترا, خلاص, شوي, ياخي\n",
      "Cluster 98: quiero, ¡, bueno, mucho, pues, hola, dale, tambien, extraño, entonces, suerte, cierto, oye\n",
      "Cluster 99: les, et, à, des, pour, sur, dans, avec, tous, aux, deux, leur, contre\n",
      "Cluster 100: kamu, gak, bisa, kalo, juga, pernah, pasti, terus, nggak, bilang, bakal, tetep, putus, bakalan\n",
      "Cluster 101: live, show, tour, dance, rock, pop, mix, festival, midnight, crew, halloween, rush, cinema, hollywood, fest, adventure, jazz, monsters, skate, blues, tunes, reunion, neon\n",
      "Cluster 102: tonight, tomorrow, week, party, weekend, friday, summer, sunday, saturday, monday, thursday, tuesday, wednesday, evening, afternoon, session, graduation, tmrw\n",
      "Cluster 103: work, doing, start, having, looking, myself, without, making, together, thinking, taking, stuff, working, seeing, instead, putting\n",
      "Cluster 104: ass, fat, dick, pussy, dirty, booty, nasty, chick\n",
      "Cluster 105: photo, moment, part, story, date, film, star, concert, photos, secret, stage, interview, surprise, moments, scene\n",
      "Cluster 106: god, jesus, lord, pray, peace, church, amen, christ, prayers, praying, prayer, blessing, praise, blessings, preach\n",
      "Cluster 107: son, mis\n",
      "Cluster 108: ke, baru, mana, dulu, nanti, tadi, rumah, masuk, sekolah, balik, jalan, sini, depan, kelas, kerja, tinggal, keluar, naik, tunggu, pindah\n",
      "Cluster 109: █, ░, ─, ▄, ═, ▒, ▓, ╬\n",
      "Cluster 110: ha, han, visto, haber, acaba, sido, haya, dado, ido, perdido\n",
      "Cluster 111: lmao, lmfao, smh, bruh, stfu, lmaoo, lls, naw, ctfu, idc, wassup, dawg, forreal, idgaf, lmfaoo, wyd, wut, lawd, shutup, ight, cray, asf\n",
      "Cluster 112: más, puede, tiempo, veces, sólo, aunque, él, debe, aún, sería, jamás, simplemente, debería, podría, siquiera, además\n",
      "Cluster 113: mau, lupa, ikut, minta, coba, ayo, ajak, ikutan, sekalian, nikah, ayoo\n",
      "Cluster 114: game, football, basketball, sports, nation, soccer, baseball, hockey, finals, squad, championship, volleyball, tournament, boxing, softball\n",
      "Cluster 115: pas, ce, vous, faire, vais, rien, fais, faut, veux, voir, aller, peux, envie, avoir, allez, parler, mettre\n",
      "Cluster 116: su, este, nuevo, buen, gran, nuestro, nuestra, primer, mayor, excelente\n",
      "Cluster 117: в, на, по, о, при\n",
      "Cluster 118: stop, talking, saying, shut, tweeting, telling, calling, asking, anybody, lying, quit, blame, worried, fault, hates, bother\n",
      "Cluster 119: tak, kau, pun, bila, awak, tahu, rindu, dekat, perempuan, sebab, lelaki, nampak, kerana, takkan, benda\n",
      "Cluster 120: these, most, many, those, two, years, times, few, different, three, five, four, entire, six, bunch\n",
      "Cluster 121: اللهم, يارب, ربي, رب, اجعل, العالمين\n",
      "Cluster 122: sleep, bed, crying, drunk, sleeping, asleep, laughing, woke, sitting, dying, awake, waking, laying\n",
      "Cluster 123: uma, minha, essa, sua, nossa, aquela\n",
      "Cluster 124: amo, linda, amiga, familia, bonita, adoro, princesa, tia, gata, flor, querida\n",
      "Cluster 125: todos, somos, seguir, estamos, nosotros, podemos, seguimos\n",
      "Cluster 126: justin, harry, bieber, direction, niall, demi, zayn, liam, louis, beliebers, directioners, selena, directioner, belieber\n",
      "Cluster 127: →, ：, 位\n",
      "Cluster 128: jajaja, jajajaja, jaja, jajajajaja, jajajajajaja, jajaj, jajajaj, jajajajajajaja, jajajajaj, obvio, osea, jajajajajajajaja, enserio, esque, jajajja, jajajajajaj, neta, jajajajajajajajaja, callate, broma, jajajajja\n",
      "Cluster 129: said, name, guy, told, says, called, found, wonder, liked, knows, gave, asked, thinks, calls, names, tells, brought, named, whoever, asks, stole\n",
      "Cluster 130: você, quem, mim, pode, pessoa, quer, falar, alguém, voce, ninguém, dizer, gosta, precisa, alguem, quiser, chamar, achar, gostar\n",
      "Cluster 131: tengo, voy, estoy, puedo, sueño, siento, necesito, hago, doy, sola, dejo, tenes, muero, quedo, llevo, pongo, deje, poquito, quede, dieron, vuelvo, puse, miro\n",
      "Cluster 132: كل, شيء, الا, أكبر, بكل, اكبر, شئ, قوة, مافي\n",
      "Cluster 133: free, check, open, post, join, share, account, visit, page, list, code, contact, profile, promo, contest, quiz\n",
      "Cluster 134: foto, gratis, tema, tuit, leer, tele, porno\n",
      "Cluster 135: iya, kok, emang, ngga, engga, yaudah, gpp, gatau, enggak, ngerti, makanya, nanya, gapapa, maunya, gamau, kirain, gausah, biarin, gaada, terserah, woles\n",
      "Cluster 136: music, song, watching, listen, voice, sound, listening, songs, memories, movies, singing, dancing, lyrics, sings\n",
      "Cluster 137: ne, ki\n",
      "Cluster 138: solo, mejor, ese, sea, uno, cuenta, mismo, otro, tenemos, peor, primero, cualquier, cambio, algún, tenga, ningún\n",
      "Cluster 139: udah, kapan, pulang, sampe, abis, ntar, malem, ketemu, kemana, belom, cepet, nunggu, kemaren, dateng, telat, bentar, ampe, kerumah, nyampe, entar\n",
      "Cluster 140: ＼, ﾉ, ⌒, ノ, ヽ, ー, ､, 人, ヾ, ｏ\n",
      "Cluster 141: ma, tt, mm, pr, bah, lt, ds, grave, meme, qu, prof, pk, cs, pu, tel, parti, ls, cas, stp\n",
      "Cluster 142: phone, number, line, send, bc, add, click, id, note, block, delete, button, charge, phones, lock, load, log\n",
      "Cluster 143: okay, sorry, bro, idk, bye, yea, uh, huh, nope, btw, yup, jk, kidding, ish, blah, yess, umm, dunno, yeahh, nahh, uhh, nvm, err, okayy\n",
      "Cluster 144: ik, het, niet, maar, ook, nog, wel, ze, jij, wil, moet, gaan, mij, doen, goed, gaat, dus, toch, weet, waar, hoor, alleen, eens, jullie, zou, daar, iets, laat, niks, iedereen, waarom, zie, kijk, wij\n",
      "Cluster 145: ti, ho, mia, io, ci, prima, mai, alla, sta, sto, voi\n",
      "Cluster 146: tapi, penting, masalah, cukup, berarti, perlu, kurang, butuh, gampang, niat, bebas, usaha, percuma, caranya\n",
      "Cluster 147: http, etc, ®, etc., ll, ™, mota, nno, ✗\n",
      "Cluster 148: sin, hacer, tener, ganas, hablar, salir, pasar, llegar, dejar, poner, volver, jugar, empezar, darle, trabajar, llevar, sacar, quedar, llamar, hacerme\n",
      "Cluster 149: il, non, lui, dire, quel, classe, l', quelle, donne\n",
      "Cluster 150: sa, ko, ka, mo, ba, kay\n",
      "Cluster 151: nya, pake, biar, dapet, tambah, gede, dikasih, lumayan\n",
      "Cluster 152: die, dat, wat, hoe, doe, mee, moe\n",
      "Cluster 153: اللي, اذا, الي, هذي, راح, إلي\n",
      "Cluster 154: soy, eres, mujer, hombre, chica, pareja, celosa, joven\n",
      "Cluster 155: th, pm, st, month, event, march, meeting, april, december, june, japan, july, opening, january, feb, anniversary, november, february, september, august, october, marathon, arrived, dec, nov, chapter, countdown, closing, ceremony, gig, returns, celebration, noon, oct, announcement\n",
      "Cluster 156: win, season, won, player, winning, bowl, players, wins, nfl, signed, teams, signing, draft, bucks\n",
      "Cluster 157: gracias, cumple, felicidades, hermoso, navidad, cumpleaños, regalo\n",
      "Cluster 158: lah, ade, ape, mak, adik, suruh, abg, sape, bole, akak\n",
      "Cluster 159: и, как, без, или, можно, где, ли, через\n",
      "Cluster 160: ←, わら, 笑笑, てか, 爆笑, ｗｗ, 真顔, nあ\n",
      "Cluster 161: text, reply, txt, convo, stranger, otp, facetime\n",
      "Cluster 162: ⌣, ˘, ‾, ▿, ƪ, ʃ, ˆ, ˇ, ʃƪ, ε˘, ▾\n",
      "Cluster 163: tau, knp, emg, gmn, gtu, knpa, emng, knapa, gmna\n",
      "Cluster 164: я, ты, она, моя\n",
      "Cluster 165: casa, comer, cama, comida, comiendo, tomando, piscina, comi\n",
      "Cluster 166: أن, الذي, ذلك, بأن, أنه, أفضل, حال, فهو, يريد, الحق, 박근혜\n",
      "Cluster 167: help, use, buy, support, save, pay, sign, using, order, sell, rules, spread, feed, replace, ban, protect, claim, afford, remove\n",
      "Cluster 168: feliz, mal, lindo, amigo, claro, espero, vale, tal, bonito, seria, idiota, querido\n",
      "Cluster 169: care, enough, lose, problem, means, strong, problems, rather, worry, yours, self, deserve, safe, poor, treat, appreciate, calm, unless, choose, especially, except, shame, struggle, remind, prefer, indeed, careful, worries, neither, nor, sake\n",
      "Cluster 170: bir, değil, hiç, şey, büyük, aşk, bazen, başka, kimse, yalan, asla\n",
      "Cluster 171: os, dos, dois, pros, pelos\n",
      "Cluster 172: may, end, until, far, chance, past, minutes, close, second, forward, taken, minute, due, seconds, ends, ahead, return, reach, closer\n",
      "Cluster 173: friend, mom, dad, brother, sister, bestfriend, mum, daddy, cousin, moms, grandma, momma, sisters, mommy, uncle, dads, aunt, nephew\n",
      "Cluster 174: beautiful, amazing, lovely, gorgeous, wonderful, fab, talented, fabulous, stunning\n",
      "Cluster 175: heart, dream, dreams, sun, alive, soul, earth, heaven, moon, hearts, spirit, joy, shine, someday, grace, universe, belong, glory, dreaming, brave, mercy, destiny\n",
      "Cluster 176: mundo, momento, lado, lugar, dentro, espera, futuro, junto, vive, presente, atrás, resto, pais, destino, motivo\n",
      "Cluster 177: tan, muy, demasiado, perfecto, genial, siendo, increíble, aburrido, increible, interesante\n",
      "Cluster 178: aqui, tá, vem, fica, fala, olha, falando, aí, deixa, chega, povo, querendo, vê, pessoal, achando\n",
      "Cluster 179: не, что, а, кто, если, он, вы, про, почему, знаю\n",
      "Cluster 180: رتويت, فولو, ريتويت, للي, يسوي, فلو\n",
      "Cluster 181: يا, ي, شاء, بخير, يالله, هلا, امين\n",
      "Cluster 182: mañana, noche, viernes, lunes, fiesta, vacaciones, vemos, jueves, verano, martes, finde, viaje, disfrutar, esperamos, miércoles, miercoles\n",
      "Cluster 183: }, {\n",
      "Cluster 184: día, días, años, año, concierto, febrero, diciembre, marzo, enero, junio\n",
      "Cluster 185: ve, için, ile, olan, olarak, kişi, türk, olmak, eden, polis\n",
      "Cluster 186: gameinsight, androidgames, ipadgames, iphonegames\n",
      "Cluster 187: van, met, een, op, voor, naar, bij, aan, uit, heeft, kijken, nieuwe, komt, tegen, weg, jaar, terug, vanavond\n",
      "Cluster 188: cont, cc, ii, sh, gr, ea, jj, wi, xp, cha, halo, fi, gg, bk, ro, ping, dd, poke, pj, ing, tin\n",
      "Cluster 189: money, fast, easy, less, small, grow, quick, needed, weight, works, ways, count, waste, healthy, diet, bigger, tip, lbs, expensive, shape, exercise, plenty\n",
      "Cluster 190: bu, senin, zaman, bile, tek, insan, hak, hayat, fazla, beri, ise, kere\n",
      "Cluster 191: hair, head, eyes, body, hand, cut, hands, touch, eye, clean, ring, skin, dry, wide, bottom, puts, mirror, hole, flat, penis, smooth, bone\n",
      "Cluster 192: wo, nd, move, pass, low, drop, step, finish, lay, fix, ran, push, ups, skip, prepare, abs, rid, dunk\n",
      "Cluster 193: tiene, quien, dice, ella, quiere, dijo, nombre, habla, llama, usted, cree, entiende\n",
      "Cluster 194: ولا, فيه, غير, فيها, كله, بلا, وكل, كبير, مكان, علم\n",
      "Cluster 195: c'est, est, ça, elle, fait, suis, tout, comme, même, quoi, aussi, était, vrai, mec, genre, meuf, gars, truc, tête, mort, pire\n",
      "Cluster 196: hari, tahun, bulan, pertama, ulang, tanggal, acara, terakhir, akhir, kemarin, konser, taun\n",
      "Cluster 197: cara, anda, mata, ia, bola, dada\n",
      "Cluster 198: dm, fb, tl, chat, unfollow, bio, tag, skype, mentions, snap, timeline, ig, spam, kik, msn, msg, insta, inbox\n",
      "Cluster 199: top, full, set, cup, extra, box, winter, fit, double, pack, spot, yoga, regular, solid, triple, gear\n",
      "Cluster 200: android, iphone, ipad, auto, apple, pad, pc, amazon, mini, hd, samsung, windows, galaxy, gb, mp, blackberry, sony, flash, nokia, tablet, smartphone, usb, htc\n",
      "Cluster 201: dah, nak, kena, pakai, lepas\n",
      "Cluster 202: ben, bi, sana, sen, bak, ol, az, abi, tam, gel, yer, ona, baba, ara, git, yap, bol\n",
      "Cluster 203: news, uk, national, senior, center, international, university, community, bbc, global, conference, youth, centre, forum, district\n",
      "Cluster 204: está, tipo, celular, vivo, dando, entra, aparece, imagina, abre, usando\n",
      "Cluster 205: black, white, red, gold, blue, green, brown, color, rose, golden, grey\n",
      "Cluster 206: super, vip, mega, ultra\n",
      "Cluster 207: ama, diye, bana, benim, lan, biz, mı, hala, artık, amk, şimdi, neden, bende, zaten, valla, yani, tamam, siz, evet, işte, canım, kanka, istiyorum, niye, falan, yeter, yoksa, ulan, dedim, sende, tabi, dedi\n",
      "Cluster 208: cant, hear, alone, hurt, cry, wake, kill, laugh, scared, hurts, loud, whenever, everytime, breathe, scream, 'cause\n",
      "Cluster 209: vamos, tarde, dias, semana, domingo, sábado, sabado\n",
      "Cluster 210: christmas, trip, holiday, eve, valentines, thanksgiving, celebrate, xmas, enjoying, holidays, vacation, gifts, easter, dates, celebrating\n",
      "Cluster 211: vote, fans, fan, idol, dating, trending, trend, voting, hashtag, fandom, kpop, topic\n",
      "Cluster 212: dormir, dormi\n",
      "Cluster 213: untuk, akan, tidak, adalah, hanya, karena, jika, menjadi, tanpa, seperti, membuat, mampu, memiliki, tetapi\n",
      "Cluster 214: jangan, sayang, jgn, maaf, takut, marah, sedih, malu, kenal, jahat, sombong\n",
      "Cluster 215: food, coffee, tea, beer, fresh, drinking, wine, bath, drinks, massage, farm, foods\n",
      "Cluster 216: д, ε, σ, з, ∂\n",
      "Cluster 217: feeling, tired, bored, cold, bit, mood, feels, slow, nap, lazy, sleepy, lonely, quiet, headache, nervous, raining, rough, freezing, degrees, freakin, nerves, bitter, yawn\n",
      "Cluster 218: stats, unfollowers, unfollower, details, numbers, views, accounts, recent, including, updates, updated, posts, access, worldwide, pages, trends, multiple, ads\n",
      "Cluster 219: j', j'ai, jamais, là, pense, vu, fois, déjà, avais, avait\n",
      "Cluster 220: ان, هو, هذا, كان, يكون, جميل, انه, الشخص, يبقى\n",
      "Cluster 221: niggas, bitches, hoes, ppl, females, mfs, niggaz\n",
      "Cluster 222: change, relationship, respect, important, sense, possible, relationships, reasons, difference, positive, regret, mistakes, opinion, attitude, situation, mistake, impossible, effort, certain, changes, difficult, amount, decisions, motivation, negative, actions, lack, argument, depends, choices, excuses, regardless\n",
      "Cluster 223: movie, episode, ending, episodes\n",
      "Cluster 224: xx, goodnight, goodmorning, ily, thx, thankyou, xo, xoxo, ilysm, :], tweeps, loveyou, sweetie, heyy, muah, thanx, xxx, iloveyou\n",
      "Cluster 225: allah, doa, jaga, solat, supaya, berdoa\n",
      "Cluster 226: y', plus, dis, comment, jai, sort, direct, chose, lit, arrive, attend, adore, douche, pays, bac\n",
      "Cluster 227: looks, seriously, weird, awkward, literally, kinda, sucks, honestly, definitely, seems, changed, totally, absolutely, pissed, looked, youre, tbh, basically, freaking, upset, obviously, apparently, shes, hes, clearly, surprised, obsessed, isnt, legit, reminds, ruined, messed, shocked, theyre\n",
      "Cluster 228: lg, lgi, mw, kl, bru, dlu, mlm, nnti, dtg, tdi, tdr, blum, blom\n",
      "Cluster 229: eat, drink, eating, ice, cake, cream, taste, honey, milk, sugar, strawberry, bake\n",
      "Cluster 230: class, college, course, boring, english, busy, teacher, paper, practice, period, grade, yr, lesson, graduate\n",
      "Cluster 231: single, favorite, pic, special, couple, ladies, wedding, favourite, valentine, twin, elf, fave, twins\n",
      "Cluster 232: awesome, interesting, incredible, fantastic, brilliant, exciting, events, excellent, enjoyed, decent\n",
      "Cluster 233: ¬, u.u, :@, u_u, pf, ei, vdd, aii, opa, entendi, qq\n",
      "Cluster 234: such, word, kind, rare, perfectly\n",
      "Cluster 235: quando, sei, sempre, tempo, posso, certo, quanto, deve, fosse, pensa, penso, sente, morte\n",
      "Cluster 236: ━, ┃, ┈, ┻, ┳, ┣\n",
      "Cluster 237: banget, bgt, kali, enak, bener, gini, amat, rasanya, gara, sumpah, parah, seru, kayanya, kayaknya, begini, berasa, jadinya\n",
      "Cluster 238: masih, sudah, harus, belum, siap, mulai, akhirnya, gagal, segera\n",
      "Cluster 239: qui, nous, qu'il, peut, qu'on, veut, qu'elle, quelqu'un, vient\n",
      "Cluster 240: –, », «\n",
      "Cluster 241: du, mon, au, bon, ton, petit, gros, nom, coup, manger, coeur\n",
      "Cluster 242: une, cette, vie, sans, personne, toute, fille, femme, n'est, seul\n",
      "Cluster 243: с, из, за, со, под\n",
      "Cluster 244: job, jobs, company, sales, manager, market, services, medical, insurance, customer, hiring, companies\n",
      "Cluster 245: bom, boa, noite, nova, saudades, sdds, festa, galera, natal, família\n",
      "Cluster 246: mention, sms, bb, pin, hp, bbm, twit, bm\n",
      "Cluster 247: لي, لك, منك, مني, عندك\n",
      "Cluster 248: final, euro, champions, futbol, serie, europa, londres\n",
      "Cluster 249: read, learn, answer, speak, judge, write, fail, accept, explain, teach, speaking, spell, describe, respond\n",
      "Cluster 250: alguien, gusta, tienes, sabes, quieres, encanta, haces, dime, seas, quiera, digas, quieras, hagas, queres, gustas, cualquiera, podes, pones, guste, molesta\n",
      "Cluster 251: yourself, others, each, between, lives, themselves, apart, himself, within, upon, towards, herself, itself, ourselves\n",
      "Cluster 252: che, è, della, oggi\n",
      "Cluster 253: sex, kids, children, female, rich, babies, dogs, cats, asian, virgin, mexican, animals, adult, teens, toys, homeless\n",
      "Cluster 254: yaa, yah, follback, oke, makasih, iyaa, kaka, beb, sip, mba, folback, donk, hbd, gws, okee, iyah, makasi, yahh, yaah, samasama, qaqa, doain, yaw\n",
      "Cluster 255: re, dame, ole, cn, ola, echo, uf, adios, tomo, animo, tod, fer, diablo\n",
      "Cluster 256: jam, kuliah, libur, liburan, futsal, kampus, latihan, ipa, lanjut\n",
      "Cluster 257: إلا, وما, خلق, ربك, أحسن\n",
      "Cluster 258: once, become, born, older, known, taught, ’ve, created, lied, blind, becomes, lived, becoming, became, whose, younger, treated, hated, forgotten, raised, discovered, acts, considered\n",
      "Cluster 259: ’, ‘, ♫, **, htt, ·, ***, ⁰, n., quran\n",
      "Cluster 260: cada, toda, grande, entre, parte, historia, importante, forma, nota, única, causa, frase, duda, arte, unica, memoria\n",
      "Cluster 261: 定期, 拡散希望, ＊, よろしくお願いします, 自動\n",
      "Cluster 262: seen, saw, heard, knew, ago, happened, missed, forgot, watched, ive, realized, talked, wrote, noticed, havent, cried, wasnt, laughed, showed, remembered, listened, shoulda\n",
      "Cluster 263: kak, kakak, syg, salam, adek\n",
      "Cluster 264: عمل, تابع, اشترك, مغرد, ضيف, بالرتويت, بالريتويت, لهذه, سريع, التغريدة\n",
      "Cluster 265: fue, ayer, estaba, hizo, anoche, estuvo, salio\n",
      "Cluster 266: ه, والله, انتي, صح, ذا, حلو, nه, زين, جد\n",
      "Cluster 267: ⭕, ✅, ♦, ⓜ, أضف, ⚪, ✳, ⚫\n",
      "Cluster 268: posted, checked, collected, added, completed, released, received, unlocked, recently, announced, uploaded, entered, opened, announce\n",
      "Cluster 269: men, dem, bra, dig, bare\n",
      "Cluster 270: ☀, ❄, ⛄, ☁, sunshine, ☔, ⭐, bethany, ☕\n",
      "Cluster 271: sigo, sigue, sigues, sigan, recomiendo\n",
      "Cluster 272: foi, anos, tinha, disse, ontem, deu, fez, ficou, estava, acabou, falou, chegou, passou, teve, veio, saiu\n",
      "Cluster 273: あ, あー, あっ, ああ, あぁ, おう, はぁ, ごめん, んー, あら, そうか\n",
      "Cluster 274: pagi, selamat, malam, sore, siang, puasa, sholat, waktunya, istirahat, sarapan, lebaran\n",
      "Cluster 275: hati, rasa, sangat, memang, terlalu, kadang, diam, senang, berubah, walaupun, benci, bodoh, sebenarnya, terasa\n",
      "Cluster 276: stupid, ugly, fake, annoying, serious, jealous, dumb, bullshit, weak, confused, acting, lame, rude, silly, subtweet, shits, pathetic, childish, ignorant, retarded, dumbass\n",
      "Cluster 277: hora, esperando, acabo, pensando, toca, terminar, justo, termina, paro, termine, termino\n",
      "Cluster 278: min, cm, hrs, hr, mb, kg, ab, br, thn, mei, jm\n",
      "Cluster 279: hours, late, early, hour, started, weeks, during, starting, starts, finished, mins, earlier, ended, cancelled\n",
      "Cluster 280: room, shower, floor, table, window, kitchen, bathroom, alarm, toilet, empty, cleaning, couch, clock, chair, doors, bedroom, fridge, apartment\n",
      "Cluster 281: choice, peoples, kca, musicfans, lovatics, peopleschoice, femaleartist\n",
      "Cluster 282: dead, death, killed, killing, fighting, attack, hearing, jail, faces, kills, dies, murder, suicide, guilty, rape, prison, fights, cops, hurricane\n",
      "Cluster 283: sou, mulher, menina, fã, fofa, feia, perfeita, beleza, roupa, namorada\n",
      "Cluster 284: vs, liga, tim, milan, italia, portugal, inter, roma, lima, psg, juventus, juve\n",
      "Cluster 285: انا, اني, وانا, ابي, احب, اقول, اعرف, احس\n",
      "Cluster 286: picture, type, complete, figure, showing, ship, lines, background, notes, proof, drawing, clue, twist, caps\n",
      "Cluster 287: das, sobre, fotos, noticias, últimas, redes, notas\n",
      "Cluster 288: anak, ibu, abang, ayah, bapak, calon, panggil, nenek, dokter, suami, mamah, emak\n",
      "Cluster 289: persona, cosa, misma, realidad, alguna, razón, manera, palabra, ninguna, edad, respuesta, relación, diferencia\n",
      "Cluster 290: following, gain, retweets, shoutout, follows, rts, spree, trick, favorites, votes\n",
      "Cluster 291: city, west, york, south, miami, north, boston, texas, chicago, east, florida, california, dallas, county, washington, houston, coast, campus, atlanta, michigan, kings, ohio, seattle, detroit, georgia, atl, denver, philly, rally\n",
      "Cluster 292: cinta, selalu, bahagia, indah, setia, senyum, slalu, sempurna, tersenyum, nyaman, hatinya, bersyukur, tulus, selamanya\n",
      "Cluster 293: 月, 日, 年, 第, 土, 金\n",
      "Cluster 294: kk, oi, aq, td, ae, mari, tah, neh, kd, mel, bunda, sob, qm\n",
      "Cluster 295: moi, toi, quand, oui, aime, sais, alors, monde, chez, pourquoi, parce, parle, donc, viens, vois, crois, mère, maintenant, regarde, j'aime, compte, où, sinon\n",
      "Cluster 296: sm, main, ap, jan, gt, pd, aj, ji, sd, noh, cape, kya, ky, napa, nh\n",
      "Cluster 297: ng, ang, ako, lang, yung, naman, nga, mga, mag, wala, talaga, pag, yun, tayo, kayo, daw, nalang, bukas, ung, ngayon, nag, tapos, akong, lng, nung\n",
      "Cluster 298: tidur, mandi, bangun, ngantuk, dirumah, ujan, pusing, capek, segini, laper\n",
      "Cluster 299: ➊\n",
      "Cluster 300: af, doin, sum, nothin, feelin, rite, mines, thou, thang, wats, somethin, ova, thee, mann\n",
      "Cluster 301: ku, saja, datang, lalu, tiba, hilang, terjadi, muncul\n",
      "Cluster 302: pessoas, coisas, vezes, suas, melhores, palavras, algumas, simples, muitas\n",
      "Cluster 303: anymore, everyday, anyway, everywhere, happening, lately, harder, anywhere, anytime, wasted, ages, sometime, nowhere, badly, awhile, besides\n",
      "Cluster 304: puta, loca, onda, gorda, fea, vieja, negra, maldita, tonta, perra, tranquila, pendeja, zorra\n",
      "Cluster 305: desde, centro, cine, carnaval, campo, mayo, santo, abril, parque, teatro, estadio\n",
      "Cluster 306: makan, ayam, nasi, makanan, masak, mkn, mie, bakar, kopi, goreng, susu, buah, coklat, ikan\n",
      "Cluster 307: fazer, ter, ficar, sair, passar, deixar, voltar, assistir, jogar, começar, colocar, levar, tentar\n",
      "Cluster 308: ay, gusto, puro, uy, ayy, sige\n",
      "Cluster 309: till, til\n",
      "Cluster 310: games, olympics, olympic, wwe, sochi, athletes\n",
      "Cluster 311: بعد, يوم, اليوم, قبل, عام, العمر, الثاني, العام\n",
      "Cluster 312: per, fa, chi, tra, vita, dell, forza\n",
      "Cluster 313: women, country, american, french, chinese, army, turkey, british, indian, italian, irish, japanese, african, canadian, russian, turkish, navy, fellow, southern, thai\n",
      "Cluster 314: ●, ○, ↓, ｜, ◎, ☞, □, ↑, ☜, ◇, ▼, ∞, 劣化コピー, △, ♂, ◯, │\n",
      "Cluster 315: amigos, amigas, amores, lindas, lindos, bonitas, caras, voces, vidas\n",
      "Cluster 316: favor, manda, mando, mandar, responde, responder, mande\n",
      "Cluster 317: ➌, ➋, ➍\n",
      "Cluster 318: besok, minggu, tgl, sabtu, otw, jumat, rabu, kamis\n",
      "Cluster 319: young, fact, band, quote, artist, facts, model, award, famous, hero, generation, quotes, members, celebrity, singer, lovers, hottest, korean, diary, meets\n",
      "Cluster 320: え, ｗ, あれ, おい, これ, これは\n",
      "Cluster 321: org, bkn, sapa, kira, situ, laki, tmn, orng, ank, loe\n",
      "Cluster 322: çok, daha, iyi, güzel, mutlu, zor, kötü\n",
      "Cluster 323: له, لنا, لها, لهم, لكم\n",
      "Cluster 324: indonesia, jakarta, jkt, bandung, kota, bali, jogja, jawa, wib\n",
      "Cluster 325: tú, mí, amas, cuál, piensas, conoces, cuándo\n",
      "Cluster 326: var, yok, olsun, olur, nasıl, oldu, böyle, öyle, bence, olmaz, olsa, biraz, bize, olacak, demek, gerek\n",
      "Cluster 327: er, nu, mn, tot, nee, hier, kom, nou, jaa, pff, denk, hou, komen, hele\n",
      "Cluster 328: om, den, hun, hem, ey, hallo, gek, dik\n",
      "Cluster 329: buenos, buenas, noches, besos, tardes, abrazos\n",
      "Cluster 330: sim, né, então, comigo, tbm, viu, falo, oq, cmg, ñ, pergunta, entao, u-u, falei, desculpa, oque, pfvr, rsrs, ninguem, foda-se, nois, poxa, tambem, ngm, aham\n",
      "Cluster 331: ima, tryna, imma, jus, finna, gettin, gon, gunna, lemme, needa, bouta, prolly, wana, hmu, tryin, trynna, juss, betta, gona\n",
      "Cluster 332: idea, humor, actual, ideal, material, familiar, particular, similar, taller\n",
      "Cluster 333: mierda, odio, hambre, risa, asco, joder, encima, pedo, verga, coño, carajo, chau, cago, joda, concha, bronca, orto, aguante, cojones, lpm\n",
      "Cluster 334: ugh, ew, sigh, fml, anyways, oops, lolol, brb, woah, cough, ouch, whoa, heck, joking, probs, wth, shrugs, lololol, ffs, lolz, dammit, sorrynotsorry, welp\n",
      "Cluster 335: test, sat, training, exit, semester, schedule, shift, lab, packing, mid, delay, degree\n",
      "Cluster 336: mu, ye, aa, jo, ee, toh, yeh, ari, hu, beh\n",
      "Cluster 337: sos, loco, puto, pobre, negro, culo, tio, chico, gato, gordo, chino, pibe\n",
      "Cluster 338: saber, poder, pensar, sentir, perder, querer, amar, esperar, entender, aprender, contar, motivos, fingir, confiar, evitar\n",
      "Cluster 339: غرد_بذكر_اللهn, شاهد, #كنز, #دعاء, لربي\n",
      "Cluster 340: قال, يقول, عنه, ابن, صحيح, عمر, رضي\n",
      "Cluster 341: الناس, بعض, مثل, اكثر, فيك, ترى, نفس, كلام, الكلام, كثير, ماهو, صدق\n",
      "Cluster 342: air, drive, front, driving, pool, cars, seat, bike, corner, truck, swimming, flying, riding, plane, boat, parking, mile, closet, jet, guard, lap, seats, drivers, bowling\n",
      "Cluster 343: np, disney, potter, batman, gangnam, barbie, eminem, marley, lana, adele, titanic, beatles, romeo, maroon, superman\n",
      "Cluster 344: cuma, bikin, sering, jomblo, pacaran, cuman, tiap, biasanya, spik, nyari, apalagi, ngasih, sobat, ngeliat, kebanyakan\n",
      "Cluster 345: dalam, dua, penuh, fakta, antara, secara\n",
      "Cluster 346: ▀, ║, ╗, ╔, ╚, ╝, ╩, ╦, ╠, ╣, ▐\n",
      "Cluster 347: book, reading, shows, stories, writing, books, letter, written, bible, characters, letters, teaching, shared\n",
      "Cluster 348: thirsty, ❌, ✊, ❗, ⚡\n",
      "Cluster 349: kaya, kayak, dasar, gaya, tukang, kucing, setan, anjing, bocah\n",
      "Cluster 350: لم, حتى, عندما, لن, ثم, حين, ولم, سوف\n",
      "Cluster 351: إذا, يقولون, وإذا, قالوا, مات\n",
      "Cluster 352: babe, boo, avi, bday, sis, luv, buddy, youu, bby, cutie, bff, gurl, bestie\n",
      "Cluster 353: worst, worse, scary, crap, beyond, tough, ridiculous, shitty, awful, insane, bloody, disappointed, proper, strange, usual, absolute, depressing, intense, mostly, odd, typical, unreal, unbelievable, screwed\n",
      "Cluster 354: mdr, putain, ouais, lrt, mdrr, merde, ptdr, fou, mddr, cst, jsuis, cest, mdddr\n",
      "Cluster 355: business, system, marketing, science, network, learning, tech, based, education, information, content, research, management, technology, seo, source, software, industry, development, financial, solution, leadership\n",
      "Cluster 356: wear, wearing, clothes, shoes, pants, jeans, shorts, tattoos, socks, heels, shirts, wore, leggings, wears\n",
      "Cluster 357: إلى, الى, حول, طريق\n",
      "Cluster 358: sale, bus, gas, toy, meter, moto, taxi, cable, tire, tube\n",
      "Cluster 359: poco, queda, fuera, medio, punto, cerca, libre, lleva, fondo, pierde, mitad\n",
      "Cluster 360: sakit, badan, kaki, kepala, perut, otak, darah, setengah\n",
      "Cluster 361: إن, قد, كما, وإن, وان, ولو, مهما, فإن, فقد, كلما\n",
      "Cluster 362: для, видео, фото, игры\n",
      "Cluster 363: parents, question, attention, message, sent, questions, conversation, excuse, correct, exact, compliment, phrase\n",
      "Cluster 364: saat, waktu, setiap, kembali, bersama, sebelum, setelah, selama, menunggu, menit, kedua, sejak, beberapa, hingga, tepat, saatnya, hampir\n",
      "Cluster 365: pengen, malah, males, maen, ngapain, mending, bingung, rame, diem, gabisa, deket, curhat, ngajak, duluan, nge, pgn, jadian, mikir, mikirin\n",
      "Cluster 366: social, plan, media, personal, popular, digital, agenda\n",
      "Cluster 367: future, age, human, reality, common, matters, character, language, personality, society, wise, genius, secrets, meaning, religion, powerful, dangerous, example, false, definition, speaks, opposite, types, logic, unknown\n",
      "Cluster 368: sono, dei\n",
      "Cluster 369: deus, onde, apenas, seja, fim, pois, nós, há, certeza, sorte, talvez, senhor, às, acredito, faça, tenha, passado, temos, sonhos\n",
      "Cluster 370: متابعينك, لزيادة, عدد\n",
      "Cluster 371: dog, cat, bear, pet, horse, duck, puppy, vagina, kitty, giant, monkey, molly, ginger, doll, pig, meow, bunny, spider, rat, cow\n",
      "Cluster 372: vía, libro, español, según, diario, inglés, profesor, directo\n",
      "Cluster 373: salah, susah, usah, sibuk, serius, asal, jawab, agak, berani, setuju, jarang, bukannya, rajin, paham, drpd\n",
      "Cluster 374: bet, yu, bae, aye, tha, mane, dang, gang, meh, cus, wee, dam, ck, bee, boi, wan, yuh, bud, owe, sha, yas, wid, bun, lik, doo, ting\n",
      "Cluster 375: kangen, galau, nangis, inget, asik, seneng, sepi, ngakak, bete, ketawa, bosen, kesel, nyesek, tumben, mblo\n",
      "Cluster 376: horas, minutos, meses, rápido, semanas, segundos\n",
      "Cluster 377: madrid, gol, messi, barcelona, ronaldo, cristiano, barça, neymar\n",
      "Cluster 378: paling, keren, asli, jaman, artis, murah, pinter, cocok, gaul, romantis\n",
      "Cluster 379: ，, ＝, ％, ．, －, −\n",
      "Cluster 380: giving, worth, spend, lots, finding, spending, buying, sending, checking, bringing, selling, fancy, paying, loads, saving, picking, counting, filling, searching\n",
      "Cluster 381: trop, être, toujours, vraiment, juste, peu, très, tellement, mieux, moins, beaucoup, rire, reste\n",
      "Cluster 382: deal, card, cash, rate, credit, offer, target, apply, delivery, owner, license, entry, advance, loan, lease\n",
      "Cluster 383: ➎, فولوباك, ➏\n",
      "Cluster 384: obama, president, bill, romney, law, leader, chief, justice, former, mitt, prime, bush, pope, ceo\n",
      "Cluster 385: hungry, annoyed, extremely, stressed, depressed, starving, exhausted, sober, mentally, slightly\n",
      "Cluster 386: ́, ̀, ̮, ˘̩, ̯, ², ง, ̯͡, ˛, ˘͡, ˇ_ˇ, п, ˘̯˘\n",
      "Cluster 387: weather, snow, road, town, rd, near, traffic, field, station, closed, storm, flight, accident, streets, stadium, heading, crash, headed, bridge, bound, lane\n",
      "Cluster 388: san, plaza, metro, villa, arena, valencia, francisco, costa, caracas, santiago, sevilla, norte\n",
      "Cluster 389: lady, king, queen, nowplaying, angel, princess, brothers, prince, mary, hunter, angels\n",
      "Cluster 390: venezuela, maduro, presidente, pueblo, capriles, chávez, chavez, apoyo, estudiantes, peña, venezolanos, vzla\n",
      "Cluster 391: seguidores, votos, elecciones\n",
      "Cluster 392: ๑, ◡, ╹, ۶, ❛, ٩, ᴗ, ◍\n",
      "Cluster 393: power, case, wall, key, space, view, clear, build, cloud, memory, commercial, speed, express, machine, duty, wave, led, switch, effect, edge, built, parts, map, uses, vision, connection, standard, range\n",
      "Cluster 394: hai, nan, hum, bas, ek, mere, kar, hy, koi\n",
      "Cluster 395: أنا, نفسي, بي, وأنا, احبك, أحب, أني, أحبك, أقول\n",
      "Cluster 396: dr, dgn, utk, tdk, dlm, dg, krn\n",
      "Cluster 397: rain, light, inside, deep, tears, broken, falling, blood, burn, hide, breath, heavy, ground, slowly, tear, burning, noise, clouds\n",
      "Cluster 398: aquí, después, viene, llega, vuelta, vuelve, empieza, encuentro, pasó, estará, comienza, esté, entero, llegó\n",
      "Cluster 399: water, smoke, bell, bottle, juice, bong, pot, coke, plate, drank, jelly, bars, lean, bubble, dip, pops, salt, bottles, soda, popcorn, gum, nut\n",
      "Cluster 400: als, zo, echt, mijn, jou, bent, gewoon, hij, alles, heel, altijd, iemand, zit, haar, vind, doet, nooit, helemaal\n",
      "Cluster 401: volta, dá, num, passa, mão, quarto, olho, leva, continua, corpo\n",
      "Cluster 402: semoga, semangat, sukses, sehat, lulus, lahir, umur, lancar, smoga\n",
      "Cluster 403: pizza, chocolate, pie, candy, banana, vodka, sushi, nutella, chip, cereal, pasta, mmm, salsa, cupcakes\n",
      "Cluster 404: kadar, sadece, hep, herkes, çünkü, kendi, varsa, belki, onun\n",
      "Cluster 405: fui, queria, preciso, fiz, consigo, faço, vejo, achei, perdi, tive, lembro, enfim, consegui\n",
      "Cluster 406: ┓, ┛, ┗, ┏\n",
      "Cluster 407: ↘, ↙\n",
      "Cluster 408: это, нет, есть, чем, быть, всегда, лучше, жизнь, жизни\n",
      "Cluster 409: mano, boca, saco, tiro, pega, tira, carro, pau, mato, atras, pego, chupa, dedo, mete, nariz\n",
      "Cluster 410: são, estão, sao, fãs\n",
      "Cluster 411: daily, quality, guide, creative, fitness, insight, product, professional, skills, reviews, tool, production\n",
      "Cluster 412: ✈, tfbjp, teamfollowback, tfb, aday, mustfollow, autofollow, thisn, siguemeytesigo\n",
      "Cluster 413: ⇒, ※, ■, ◆, ①, ②, ③, ④\n",
      "Cluster 414: contigo, conmigo, estás, vivir, camino, lejos, adelante, allá, tranquilo, estés, estes, estaré\n",
      "Cluster 415: será, º, segundo, ultimo, último, durante, minuto, resultado, completo\n",
      "Cluster 416: digo, sé, dije, ves, cual, entiendo, cuanto, tampoco, dices, crees, viste, fuiste, cuento, hiciste, pregunto, conozco, pensé, dijeron, eras, aveces, dijiste, sabía\n",
      "Cluster 417: against, state, police, court, government, marriage, u.s., states, campaign, rights, americans, military, politics, abuse, political, violence, foreign, leaders, countries\n",
      "Cluster 418: info, rp, member, acc, promote, admin, fanbase, agency\n",
      "Cluster 419: pictures, random, pics, texts, messages, snapchat, conversations, emoji, selfies, indirect, boyfriends, emojis, contacts\n",
      "Cluster 420: cantik, ganteng, kece, lucu, jelek, cakep, unyu, imut\n",
      "Cluster 421: بك, شر, بما, أعلم, الظالمين\n",
      "Cluster 422: ㅋ, 아, ㅠ, ㅠㅠ, ㅋㅋ, ㅎㅎ, ㅎ, 헐, ㅇ, 오빠\n",
      "Cluster 423: انت, أنت, انك, وانت, وأنت, إنك, أنك\n",
      "Cluster 424: у, меня, вас, тебя, люблю, нас, всех\n",
      "Cluster 425: pain, thoughts, stress, fear, brain, trouble, emotional, hardest, emotions, silence, distance, minds, anger, escape, cure, breathing, sight, painful, laughter, depression, sudden, habit\n",
      "Cluster 426: ich, und, wie, ist, ein, nicht, habe, für, auf, zu, auch, bei, aber, noch, jetzt, wir, eine, wenn\n",
      "Cluster 427: sing, iki, wes, wae, opo, nek, lek, iku, sek, koe, seng, kudu, wong, iso, rek, karo, sopo, kui, ono\n",
      "Cluster 428: estou, tava, tô, quase, fico, fiquei, rindo, morrendo, chorando, dormindo, sozinha, ficando\n",
      "Cluster 429: mil, tres, cinco, tantos, cuatro, seis, varios\n",
      "Cluster 430: taylor, miley, rihanna, swift, gaga, beyonce, lovato, ariana, katy, styles, gomez, cyrus, perry, britney, larry, horan, beyoncé, sheeran, perrie, carly, cher, payne, eleanor, spears\n",
      "Cluster 431: short, tattoo, adorable, selfie, outfit, haircut, perf, costume\n",
      "Cluster 432: tienen, dicen, ellos, hacen, ustedes, saben, demás, digan, quienes, hablan, creen, demas\n",
      "Cluster 433: dinner, lunch, breakfast, surveys, cooking, meal, bbq, badge\n",
      "Cluster 434: ak, nda, kn, sy, qt, tpi, dk, dri, dy, kw, dn, mna, lh, skali\n",
      "Cluster 435: segue, seguindo, sdv, segui, sigam\n",
      "Cluster 436: うん, いや, はい, でも, 大丈夫, 私, そう, ごめんなさい\n",
      "Cluster 437: sabar, makin, jauh, tenang, disana, berdua, ber\n",
      "Cluster 438: خير, الخير, لكل, بإذن\n",
      "Cluster 439: contra, país, gobierno, ante, guerra, violencia, estados\n",
      "Cluster 440: mes, par, tes, ses, ces\n",
      "Cluster 441: ×, 回, ＋, ［, ］, 本\n",
      "Cluster 442: loved, blessed, truly, thankful, wishing, grateful, happiest, happier, appreciated\n",
      "Cluster 443: mt, legal, msm, ler, aff, mto, chato, chata, massa, mlk\n",
      "Cluster 444: simple, leo, error, dare, karma, ego, virus\n",
      "Cluster 445: هي, التي, هذه, أجمل, تلك, الأشياء\n",
      "Cluster 446: london, airport, vegas, nyc, toronto, tx, dubai, downtown, sydney, nj\n",
      "Cluster 447: nie, nk, kat, mcm, dh, laa, la., kt, pon, tk, mmg, nye, kot, sbb, tgk, ckp, jom, dok, tido, kite, ngan, plak, dkt, pegi\n",
      "Cluster 448: congrats, winner, voted, congratulations, deserves, deserved\n",
      "Cluster 449: door, net, 'n, toe, hoop\n",
      "Cluster 450: ad, ny, bs, wa, mar, fe, ud, dl\n",
      "Cluster 451: سبحان, وبحمده\n",
      "Cluster 452: أو, تكون, هناك, أم, لأن, ليست, نعم, يوجد, حقيقة, معنى\n",
      "Cluster 453: gym, mate, nose, crack, pal, relax, uni, mates\n",
      "Cluster 454: hidup, hal, dunia, manusia, maka, suatu, harapan, hubungan, kenangan, buruk, tiada, itulah, kehidupan, keadaan, jiwa\n",
      "Cluster 455: shopping, bar, mac, pan, cafe, burger, restaurant, chef, basket, kfc, spa, salon, menu\n",
      "Cluster 456: おはようございます, こんばんは, さん, こんにちは\n",
      "Cluster 457: style, original, magic, classic, master, monster, iron, guitar, metal, dragon, ninja, piano, bass, slim, pokemon, mouse, robot\n",
      "Cluster 458: ps, max, ac, sub, dc, cap, ms, gm, sec, sc, ace, cb, nc, sb, rep, iv, dt, ot, cl, ct, cal\n",
      "Cluster 459: million, gun, dollar, billion, dollars, thousands, millions\n",
      "Cluster 460: chris, james, david, michael, lee, alex, joe, kevin, mike, jordan, ray, martin, jackson, cole, frank, jones, smith, tony, kelly, jason, andy, johnson, jr, williams, lewis, allen, miller, danny, anthony, blake, howard, roger, anderson, alexis, carter\n",
      "Cluster 461: sougofollow, followme, 相互フォロー, followmejp\n",
      "Cluster 462: أكثر, فقط, دون, جميع, الجميع, يستحق, سوى, الكثير, البعض, الآخرين, يجب, عدم\n",
      "Cluster 463: vídeo, favorito, disco, álbum\n",
      "Cluster 464: ih, sok, ngomong, kepo, alay, dih, ihh, tai, ngaku, lebay, ngapa, bodo, bohong, anjir, boong, modus\n",
      "Cluster 465: dark, piece, tree, bright, basic, large, mixed, flowers, tiny, filled, pieces, colors, rings, shades, plastic, painting, thin\n",
      "Cluster 466: música, musica, voz, banda, cantando, novela, canta, favorita, letra, rebelde, canto, baile\n",
      "Cluster 467: amin, alhamdulillah, insyaallah, terimakasih, bismillah, ˘ʃƪ˘, aamiin\n",
      "Cluster 468: للمتواجدين, لمتابعة, لزياده\n",
      "Cluster 469: park, beach, street, hotel, spring, island, mall, bay, hall, hill, garden, lake, square, sunny, mountain, village, tokyo, sunset, theater, valley, parade, cruise, lounge, casino, tower\n",
      "Cluster 470: ┌, ┐, ╯, ╰, ╮, ╭, └, ╋\n",
      "Cluster 471: إني, أعوذ, إنا\n",
      "Cluster 472: corazón, duele, fuerte, dolor, alma, cuerpo, orgullo, corazon, mirada, sangre, piel, espalda, sentimiento\n",
      "Cluster 473: months, paid, spent, officially, currently, passed, worked, saved, nearly, picked, gotten, held, reached, agreed, yrs, planned, confirmed, joined, gained\n",
      "Cluster 474: vo, hj, indo, agr, vamo, aki, dps, arrumar, vir, vim, ligar\n",
      "Cluster 475: يلتزم\n",
      "Cluster 476: living, losing, staying, letting, keeping, growing, wanting, helping, changing, avoid, consider, considering, worrying, wasting, focused, pushing\n",
      "Cluster 477: الدنيا, عذاب, الآخرة\n",
      "Cluster 478: sit, mess, piss, punch, knock, slap, steal, cum, pee, lick, gimme, clap, bust, smack\n",
      "Cluster 479: john, paul, coach, ryan, mark, george, legend, steve, brian, scott, eric, jim, captain, morgan, phil, henry, aaron, andrew, gary, cameron, jeff, matthew, terry\n",
      "Cluster 480: der, hat, bin, mit, von, sie, mir, nur, aus, dir, bis, kann, mein, sich, mich\n",
      "Cluster 481: homework, study, math, exam, classes, studying, exams, grades, essay, maths, tests\n",
      "Cluster 482: mtvstars, azing, janoskians\n",
      "Cluster 483: tuhan, kepada, agar, mencari, engkau, kebahagiaan, memberi, mendapatkan\n",
      "Cluster 484: قلبي, عيني, أمي, عمري, امي, عيوني, صدري, روحي, عيونك\n",
      "Cluster 485: ht, tn, ss, ch, ts, vol, sn, tc, ns, bd, gs, eng\n",
      "Cluster 486: usa, america, santa, china, hospital, local, fox, central, union, capital, sandy, german, colorado, vice, defender, mafia\n",
      "Cluster 487: yuk, openfollow, jfb, bantu, klik, buruan\n",
      "Cluster 488: ＠, akb, 速報, ライブ, キャス\n",
      "Cluster 489: shot, played, breaking, record, shooting, shots, hits, plays, draw, third, massive, row, catching, moves, crowd, pitch, beating, longest, yard, passing, dropping, kicks, sets, bench, picks, split, seasons\n",
      "Cluster 490: لما, تبي, تقول, وحده, تعرف, البنت, انها, قالت\n",
      "Cluster 491: mãe, diz, pai, chama, cade, filho, irmão, namorado, menino, filha, irmã, cadê, cala\n",
      "Cluster 492: triste, bastante, cansada, totalmente, cansado\n",
      "Cluster 493: عليك, علينا, عليهم\n",
      "Cluster 494: pacar, cewek, temen, cowok, cewe, cowo, cuek, orangnya, dibilang\n",
      "Cluster 495: able, cannot, agree, expect, shall, doubt, given, learned, hoping, whether, ’ll, although, willing, allow, possibly, expected, helped, eventually, somehow, personally, hopes, however, expecting, survive, remain, prepared, surely, understands, accepted, otherwise, granted, promised, unfortunately, therefore, perhaps\n",
      "Cluster 496: cr, kris, kai, luhan, sehun, kyuhyun, tiffany, siwon, donghae, chanyeol\n",
      "Cluster 497: importa, problema, existe, mentira, diga, caso, basta, significa, sabemos, depende, ame, sepa, definitivamente, pare, acaso\n",
      "Cluster 498: وش, قلت, وين, كثر, فيني, ودي, مدري, حبيبي, شفت\n",
      "Cluster 499: cancer, aries, libra, gemini, virgo, pisces, taurus, scorpio, aquarius, capricorn, sagittarius\n",
      "Cluster 500: gibi, şu, insanlar, bizim, aynı, fotoğraf, bazı\n",
      "Cluster 501: están, estan, chicos, siguen, quedan, pasan, fueron, ponen, faltan, vienen, salen, llegan\n",
      "Cluster 502: ☯, sigueme, sígueme, fback\n",
      "Cluster 503: mungkin, perasaan, karna, sesuatu, begitu, semuanya, apapun, segala, benar, sedikit, terkadang, adanya, tentu, pikiran, artinya\n",
      "Cluster 504: download, update, status, limit, copy, pen, bing, dp, edit, upload, request, password, atm, beta, username, dot, connect, demo, tab, hack\n",
      "Cluster 505: art, project, presents, photography, artists, entertainment, modern, guest, host, author, upcoming, urban, arts\n",
      "Cluster 506: tf, fool, talkin, lookin, hella, mf, sayin, shawty, thinkin, lowkey, bein, trippin, slick\n",
      "Cluster 507: محمد, بن, الملك, الشيخ, رحمه, عبد, عبدالله, خالد\n",
      "Cluster 508: ―, ¨, ³, †, ¤\n",
      "Cluster 509: مي, باك, زيادة\n",
      "Cluster 510: المسلم, قام, يقوم, يعمل\n",
      "Cluster 511: dek, pak, mbak, lho, iyo, kah, neng, hha, ndak, bos, ayu, hayo, iy\n",
      "Cluster 512: мне, тебе, спасибо, всем, вам\n",
      "Cluster 513: didnt, tried, meant, wont, supposed, doesnt, cos, theres, suppose, decided, wondering, barely, suddenly, prob, atleast, wouldnt, realise, figured, couldnt, hardly\n",
      "Cluster 514: mira, pregunta, hablo, mensaje, diciendo, hable, llamo, hablas, escribe, perdon, andas, hablame\n",
      "Cluster 515: tumblr, icon, avatar, user, header, dms, gif, banner\n",
      "Cluster 516: crush, bf, cam, gf, handsome, ➜, beg, twitcon\n",
      "Cluster 517: nueva, primera, ciudad, tras, imagen, marcha, situación, carrera, campaña, cadena, salida\n",
      "Cluster 518: ﾟдﾟ, ≡, ∠, ⊂, ⊃, ゝ, ∧, ゞ, ﾟωﾟ, ｰ, θ, へ, ﾉｼ\n",
      "Cluster 519: tickets, bought, ticket, sold, ordered, tix\n",
      "Cluster 520: group, store, service, public, bank, office, report, travel, area, student, search, building, program, private, security, driver, board, alert, library, staff, location, section\n",
      "Cluster 521: dapat, kami, bagi, terima, jodoh, mohon, harap\n",
      "Cluster 522: به, بها, قلوبنا, عنها, قلوب, بهم\n",
      "Cluster 523: все, больше, но, то, когда, только, его, свои, они, чтобы, всё, даже, их, могу, люди, себя, ничего, ни, себе\n",
      "Cluster 524: drama, teen, horror, musical, liars, harlem, romance, vampire, comedy, gossip, teenage, hardcore\n",
      "Cluster 525: 円, ￥, 送料無料\n",
      "Cluster 526: lagu, nonton, bareng, nyanyi, denger, dengerin, nntn\n",
      "Cluster 527: beli, berapa, duit, buku, jual, uang, ambil, bayar, isi, barang, tutup, sehari, paket\n",
      "Cluster 528: lead, major, loss, career, trade, signs, defense, leads, fastest, victory, safety, leading, highest\n",
      "Cluster 529: heat, lebron, nba, vs., kobe, lakers, thunder, cowboys, ers, espn, okc, playoffs, giants, knicks, ravens, bulls, bears, eagles, celtics, broncos, ufc, rangers, duke, nhl, alabama, seahawks\n",
      "Cluster 530: £, coins, available, price, cheap, cards, stock, deals, products, prices, shipping, offers, discount, ebay, purchase, package\n",
      "Cluster 531: esos, unos, estos, unas, huevos, putos\n",
      "Cluster 532: unfollowed, tweeted, texted, blocked, deleted, accidentally, retweeted, randomly, replied, mentioned, hacked, favorited\n",
      "Cluster 533: ん, っ, お, ね, う, わ, ふ, そ\n",
      "Cluster 534: vcs, vocês, eles, elas, meninas, meninos\n",
      "Cluster 535: miedo, momentos, silencio, celos, errores, sentimientos, daño, pesar, luchar\n",
      "Cluster 536: brasil, fc, rio, paulo, corinthians, globo\n",
      "Cluster 537: heb, zijn, geen, meer, mensen, deze, hebben, veel, maken, ons, hebt, worden, wordt, wilt\n",
      "Cluster 538: goal, points, score, goals, scored, quarter, pts, contract, scores, passes, injury, penalty\n",
      "Cluster 539: gift, giveaway, enter, instant, competition, earned, receive, earn, winners, prize, charity, donate\n",
      "Cluster 540: goin, homie, nite, chillin, chilling, grind, playin, comin, omw, holla, crib, watchin, turnt, whoop, tonite, homies, havin, lovin, mornin\n",
      "Cluster 541: dress, shirt, pair, suit, boots, tie, jacket, t-shirt, sweater, colour, leather, hoodie, belt\n",
      "Cluster 542: mouth, feet, legs, butt, lips, stomach, arms, tight, neck, wet, balls, teeth, leg, finger, fingers, arm, tongue, lip, throat, chest, bum, ear, belly, ears, knee, eyebrows, shoulder, knees, toes, shave, beard, chin\n",
      "Cluster 543: kim, adam, anne, alan, muhammad\n",
      "Cluster 544: loving, hug, hugs, friendship, birth, pleasure, romantic, precious, goodness, sweetheart, weakness, flawless, sweetest, mothers\n",
      "Cluster 545: united, chelsea, arsenal, manchester, liverpool, barca, bayern, spurs, mufc, lfc, cfc\n",
      "Cluster 546: ｒｅｔｗｅｅｔ, ☑, ►, ➡, ▬, ✓, ◄, √, ✖, rr, ♣, ♠\n",
      "Cluster 547: puedes, cambiar, olvidar, conocer, debes, escribir, pueda, hacerlo, recordar, darte, despertar, verlo, hacerte, prometo, necesario, cumplir\n",
      "Cluster 548: mejores, grandes, nuevos, nuestras, nuevas\n",
      "Cluster 549: الف, متابع, ريال, مليون, ألف, günlük\n",
      "Cluster 550: mujeres, ven, hombres, chicas, gustan, felices, ellas, putas, niñas, eran, existen, sois, novios, locos, valen, perros, tetas\n",
      "Cluster 551: promise, nme, nni, strangers, nit, nyou, nnme, nand\n",
      "Cluster 552: control, total, base, zero, moral, anti, balance, core, terror, interior, universal, virtual\n",
      "Cluster 553: شخص, أحد, احد\n",
      "Cluster 554: hang, awk, dye, guna, confirm\n",
      "Cluster 555: amanhã, escola, amanha, aula, trabalho, estudar, sexta, praia, academia, cidade\n",
      "Cluster 556: ojos, sueños, recuerdos, labios, lágrimas, sonrisas\n",
      "Cluster 557: boss, rip, sir, mr, mr., jay, aka, sarah, jb, r.i.p, kate, eva, w., keeper, amber, lisa, pat, mrs, mrs.\n",
      "Cluster 558: mio, cielo, señor, padre, niño, tuyo, bello, muere, pequeño, mío, aquel, bebé\n",
      "Cluster 559: sampai, esok, awal, tengah, pukul, cuti\n",
      "Cluster 560: скачать, бесплатно, онлайн, смотреть\n",
      "Cluster 561: awards, exo, junior, preview, beast, gd, comeback, mv, snsd, trans, debut, hq, shinee, infinite, sj, teaser, bigbang\n",
      "Cluster 562: seni, beni, onu, bunu, seviyorum, bizi, kendini, sizi\n",
      "Cluster 563: belajar, tugas, selesai, ujian, nilai, uas, pelajaran, ngerjain, ulangan\n",
      "Cluster 564: t_t, ♬, ww, >_<, (-_-), zz, ツ, t-t, orz, =_=\n",
      "Cluster 565: واحد, عنده, اسمه\n",
      "Cluster 566: ’m, afraid, forgive, admit, exist, pretend, complain, argue, dislike, flirt, apologize, annoy, cared, cheated, secretly\n",
      "Cluster 567: throw, handle, pull, stick, blow, foot, grab, chase, carry, 'em, blunt, wash, bite, loose, screw, fill, sweat, lift, tap, laid, mans, slip\n",
      "Cluster 568: ありがとう, おめでとう, おめでとうございます\n",
      "Cluster 569: gila, weh, untung, lahh, typo, doh, woi, sial, babi, payah, kesian, ehem, alah\n",
      "Cluster 570: так, да, ну, еще, уже, же, тоже, бы, мы, вот, сегодня, просто, теперь, очень, было, там, сейчас, завтра, вообще, тут, раз, хорошо, дома\n",
      "Cluster 571: pasado, hecho, dicho, recuerdo, había, gustado, hemos, hubiera, habrá, muerto, tuve, tenido, llegado, dormido\n",
      "Cluster 572: ft, drake, feat, ft., remix, wayne, nicki, kanye, minaj, ross, rick, prod, wiz, chainz, kendrick, montana, trey, keef, rocky, pac, lamar\n",
      "Cluster 573: texting, hating, cheating, constantly, hurting, complaining, liking, ignored, retweeting, arguing, ignoring, flirting, pretending, judging, messing, pissing, eachother\n",
      "Cluster 574: mati, habis, cepat, bosan, turun, puas, tahan\n",
      "Cluster 575: meus, seus, outros, esses, aos, muitos\n",
      "Cluster 576: عند, أبي, صوت, البيت, حي, وجه, باب, بيت\n",
      "Cluster 577: وهو, نفسه, مسلم\n",
      "Cluster 578: nas, uns, minhas, essas, umas, duas, musicas\n",
      "Cluster 579: م, مَ, مآ\n",
      "Cluster 580: العظيم, استغفر, استغفرالله, أستغفر, خلقه\n",
      "Cluster 581: paz, muerte, fuerza, respeto, lucha, libertad, ejemplo, patria, esperanza, justicia, cáncer\n",
      "Cluster 582: smart, tips, present, advice, interested, sharing, planning, successful, partner, friendly, patient, active, independent, dedicated, parent\n",
      "Cluster 583: sol, frente, sala, vista, madrugada, monte, mora, porta, bomba, terra, parada\n",
      "Cluster 584: الحمد, لله, الحمدلله, ولك\n",
      "Cluster 585: perfil, lista, página, pagina, carta\n",
      "Cluster 586: history, series, greatest, performance, epic, title, raw, wars, fantasy, ultimate, chemistry, theory\n",
      "Cluster 587: وَ, فَ, بِ, بَ, لِ, سَ\n",
      "Cluster 588: cek, ganti, pulsa, akun, aktif, hape, kode, nambah\n",
      "Cluster 589: لآ, ولآ\n",
      "Cluster 590: shout, fam, prom, cheer, tbt, folks, c'mon, babes, parties, salute, freshman, bestfriends, cousins, lads, lad, invited, whos, homecoming, peeps\n",
      "Cluster 591: chicken, cook, bread, beef, egg, rice, meat, eggs, fried, potato\n",
      "Cluster 592: partido, gana, ganar, equipo, juego, fútbol, juega, gano, jugador, gane, campeón\n",
      "Cluster 593: level, war, action, challenge, talent, battle, mission, hunger, strike, bond, culture, madness, continues, extreme, activity, movement, revolution\n",
      "Cluster 594: automatically, longer, seem, ’re, completely, usually, often, easily, simply, easier, faster, quickly, fully, tend, attached, instantly, highly\n",
      "Cluster 595: viendo, haciendo, hablando, acá, jugando, pasando, buscando, mirando, llorando\n",
      "Cluster 596: shop, fashion, design, brand, collection, kit, print, vintage, limited, item, clothing, models, jewelry, custom, designer, premium\n",
      "Cluster 597: وسلم, صلى, رسول, ﷺ, صل, النبي, نبينا\n",
      "Cluster 598: sonrisa, felicidad, amistad, locura, belleza, actitud, alegría\n",
      "Cluster 599: ingin, tetap, merasa, berharap, namun, hatiku, walau, hatimu, bertahan, kini, meski, berada\n",
      "Cluster 600: pink, orange, yellow, purple, flower, rainbow, cherry\n",
      "Cluster 601: إله, اله, سبحانك, توكلت\n",
      "Cluster 602: كيف, هل, لقد, ماذا, لماذا\n",
      "Cluster 603: cabeza, calle, luz, hacia, cae, lluvia, manos, arriba, aire, bajo, frío, tierra, puerta, cuarto, saca, baño, lleno, llena, abajo, fuego, piso, detrás, sube, basura, viento, calles, coche\n",
      "Cluster 604: dnt, kno, ion, wen, dey, tht, knw, dats, fck, neva, fuk, shyt, cnt\n",
      "Cluster 605: serio, juro, xdd, posta, e.e, imagino, bue, tmb\n",
      "Cluster 606: weed, alcohol, smoking, drugs, drug, marijuana, addiction\n",
      "Cluster 607: beauty, perfection, nature, inspiration, lover, unique, inspired, comfort\n",
      "Cluster 608: 時, 分, ℃, 時間\n",
      "Cluster 609: died, fell, felt, caught, turned, twice, stopped, walked, kept, dropped, threw, moved, slept, pulled, stayed, locked, kicked, grew, knocked, blown, sucked\n",
      "Cluster 610: teh, atuh, nang, ath, euy, tong, naon, mang, maneh, pisan, anu\n",
      "Cluster 611: 三, ՞, ՞ਊ\n",
      "Cluster 612: happiness, success, faith, stronger, strength, passion, purpose, loyalty, patience, failure, courage, confidence, wisdom, knowledge, ability, honesty, desire, understanding, greater\n",
      "Cluster 613: qual, pela, outra, muita, dessa, nessa, prova, alguma, mesma, primeira, amizade, palavra, história, nenhuma, numa\n",
      "Cluster 614: cie, ava, ciee, tante, mimin, ultah, ciye, anniv\n",
      "Cluster 615: فى, مش, حد, ده, اللى, كده\n",
      "Cluster 616: track, rap, dope, hop, hip, flow, mixtape, punk, twerk, thug, rapper, hype, trap, vibe, joint, hustle, freestyle, rappers, shorty\n",
      "Cluster 617: weer, morgen, slapen, lekker, vandaag, uur, wakker, thuis\n",
      "Cluster 618: おはよう, おはよー, おかえり, おはよ, ただいま\n",
      "Cluster 619: hermosa, bella, perfecta, guapa, pequeña, preciosa\n",
      "Cluster 620: size, thousand, seven, nine, hundred\n",
      "Cluster 621: porn, boobs, slut, asshole, cunt, blonde, whore, tits, gross, horny, disgusting, cock, lesbian, faggot, fag, anal, bastard\n",
      "Cluster 622: teu, ora, ojo, aya, loro\n",
      "Cluster 623: photoset, stars, mars, wolf, glue, cast, finale, premiere, performing, films, twilight, acoustic, revenge, carpet, castle, dawn, scenes, knight, albums, sons, diaries\n",
      "Cluster 624: takip, geri, hadi, lütfen, hemen\n",
      "Cluster 625: mala, dio, mucha, malo, envidia, razon, rara, gracia, pana\n",
      "Cluster 626: beso, abrazo, deseo, tengas, cariño, bendiciones, disfruta, bendiga, tengan, pases\n",
      "Cluster 627: din, yan, kasi, kang, mahal, pala, sya, nyo, rin, kong, e., pang, muna, pa.\n",
      "Cluster 628: الآن, الان, قم, بشكل, تم, خلال, عبر\n",
      "Cluster 629: calor, frio, fome, preguiça, chuva\n",
      "Cluster 630: det, som, av, har, og, alle, ju, jeg, dom, ut, ikke, meg, vet\n",
      "Cluster 631: او, اي, أي, ممكن, بدون, حق, كلمة, اسم\n",
      "Cluster 632: bag, nails, makeup, soft, glasses, paint, pocket, flip, shoe, bow, nail, bags, tank, pillow, wrap, weave, chain, clutch, piercing, polish\n",
      "Cluster 633: عشان, ناس, مين, زي, البنات, بنات, احسن, احنا, عندنا\n",
      "Cluster 634: tom, jack, bob, rob, johnny, charlie, patrick, jerry, jimmy, simon, chuck, dave, robin, ted, ron, bryan, jon, jeremy, brad, andre, billy, jamie, kenny, bobby, dean\n",
      "Cluster 635: ed, male, pure, stare, fame, fate\n",
      "Cluster 636: merci, beau, bonjour\n",
      "Cluster 637: macam, pulak, tengok, budak, cakap, jugak, pasal, jumpa, takde, ramai, dengar, layan, cikgu, korang\n",
      "Cluster 638: ketika, sedang, jatuh, melihat, menangis, kehilangan, disaat\n",
      "Cluster 639: quite, horrible, terrible, miserable\n",
      "Cluster 640: ありがとうございます, フォローありがとうございます, ありがと, ありがとー, いえいえ\n",
      "Cluster 641: hujan, panas, dingin, lapar, angin, kenyang\n",
      "Cluster 642: الحياة, حياتي, اجمل, حياتك, السعادة, حياة, جمال, تبقى, الحياه, قمة\n",
      "Cluster 643: swag, yolo, idiot, freak, stalker, dudes, loser, liar, hater, nerd, homo, hush, fucker, creep\n",
      "Cluster 644: stuck, keeps, holding, turning, standing, screaming, walks, throwing, heads, hitting, staring, blowing, cutting, stops, hiding, stairs, stays, jumping, yelling, pulling, beside, kicking, touching, shaking\n",
      "Cluster 645: ليس, لكن, ولكن, بل, جداً, نحن, رغم, كثيراً, وليس, كثيرا\n",
      "Cluster 646: på, att, jag, är, med, och, så, inte, för, ska, mig\n",
      "Cluster 647: は, と, で, の, が, を, に\n",
      "Cluster 648: plans, energy, issues, decision, results, current, opportunity, value, option, position, interest, process, progress, potential, improve, impact, advantage, demand, despite, further, levels, physical, testing, boost, terms, growth\n",
      "Cluster 649: فولومي, اضافة, رتويتn, ريتويتn, فولوباكn\n",
      "Cluster 650: merda, porra, foda, caralho, pqp, mds, vei, socorro, bosta, vish, véi, velho\n",
      "Cluster 651: sky, cross, ocean, land, planet, quest, lion, paradise, stone, tiger, royal, zoo, flag, temple, kingdom, empire, hunt, fallen\n",
      "Cluster 652: おやすみ, おやすみなさい, おやすみー, おかえりなさい\n",
      "Cluster 653: health, raise, helps, risk, benefits, medicine, aid\n",
      "Cluster 654: sii, bebe, jeje, ami, jejeje, nena, jiji, amoo, teamo, tq, kiero\n",
      "Cluster 655: hindi, kung, alam, ikaw, wag, sila, nasa, walang, kahit, bakit, ganda, baka, parang\n",
      "Cluster 656: ra, ge, jak, eta, kon, mh, asa, apo, mun, sg, gen, ado\n",
      "Cluster 657: estudiar, clase, colegio, clases, examen, escuela, tarea, ingles, estudio, paja, prueba, lengua, estudiando, profe\n",
      "Cluster 658: trabajo, estado, información, proyecto, servicio, consejo\n",
      "Cluster 659: pronto, cel, partir, curso, rapido, entro, aviso, funciona\n",
      "Cluster 660: nf, bot, ----, rt., uu, -----, rtn, nrt, nfb, ru, »», hii, ------\n",
      "Cluster 661: naked, cuddle, hanging, dressed, cuddling, rocking\n",
      "Cluster 662: ten, pre, hs\n",
      "Cluster 663: صباح, الليل, مساء, الصباح, نور\n",
      "Cluster 664: honest, loyal, caring, faithful, shy, selfish, humble, attracted, mature, sensitive\n",
      "Cluster 665: trus, kyk, ilang, bales, trs, gag, php, ato, doi, pke, bls, gada, ane, pending\n",
      "Cluster 666: nights, workout, productive, pumped, mondays, weekends, mornings, relaxing, packed\n",
      "Cluster 667: sonra, yeni, gün, önce, ilk, gelen, ders\n",
      "Cluster 668: sam, bruno, ian, amanda, diva, nina, santana, anna, nicole, julia, arthur, alice, sophia, carol, rita, vanessa\n",
      "Cluster 669: fácil, difícil, realmente, diferente, trata, capaz, dificil, facil, aprende, inteligente, suficiente, humano, parecer\n",
      "Cluster 670: ✰, ✿, ✧, ¸, ◕, ♩, ❀, ☼, ❁, ✩, ♔, ♛, ͟, ❥\n",
      "Cluster 671: 楽天, rakuten, ichiba, を見る\n",
      "Cluster 672: к, будет, может\n",
      "Cluster 673: shoot, asap, tune, repeat, perform, blast, smash, cop, bros, hook, hangout, ina, slide, sneak, strip, mic, bash, hunting\n",
      "Cluster 674: bg, pe, ar, pi, gi, bla, cite, mat, leh, pg, jah, mimi\n",
      "Cluster 675: hilarious, cutest, funniest, creepy, accent, throwback, badass, naughty, wcw, coolest\n",
      "Cluster 676: pt, pp, mg, md, ksa, sr, pri, cv, bh, ue\n",
      "Cluster 677: от, до, во, время, после\n",
      "Cluster 678: sont, ils, gens, ont, font, filles, ceux\n",
      "Cluster 679: bird, shake, angry, wild, addicted, flappy, birds, bands, guns, ghost, bull, trash, chasing, commercials, zombies\n",
      "Cluster 680: ◦, ˙, ¯, ˚, ╥, ͡, ̅\n",
      "Cluster 681: mc, boom, cena, perfume, rica, panda, tee, coco, jean, noel, coma, vaca, marina\n",
      "Cluster 682: llorar, escuchar, verte, morir, sonreír, mirar, bailar, reír, caer, soñar, reir, sufrir\n",
      "Cluster 683: laptop, camera, screen, computer, wifi, ipod, battery, charger, cell, notebook, volume, fone\n",
      "Cluster 684: rn, nw, fo, fr, tru, def, gn, sup, fu, goo, bbl, offline, jp, cx, js, foo\n",
      "Cluster 685: wanita, teman, seorang, sahabat, remaja, sebagai, pria, keluarga, pribadi, pasangan, sejati\n",
      "Cluster 686: هم, الذين, وهم\n",
      "Cluster 687: iba, tenia, hice, tenía, puso, habia, puesto\n",
      "Cluster 688: luke, austin, josh, matt, tyler, ashley, jake, michelle, lauren, drew, joey, brandon, kyle, ricky, nash\n",
      "Cluster 689: juntos, nosotras, juntas, amamos\n",
      "Cluster 690: ◠, ‿, ⊙, ◔, ◉, ┘, ˘ω˘, ‸\n",
      "Cluster 691: saludos, saludo, porfavor, porfa, invito\n",
      "Cluster 692: don, mario, sean, victoria, oscar, rey, luna, reina, reyes, gloria\n",
      "Cluster 693: besar, mudah, kuat, semakin, tinggi, berat, hebat, sulit, keras, dewasa, emosi, rela\n",
      "Cluster 694: queremos, voto, siga, votar, meta, vota, tropa\n",
      "Cluster 695: mtv, brazil, factor, vma, jonas, glee, oscars, twitcam, pll, xfactor, grammy, grammys, avril, supernatural, paramore, tvd\n",
      "Cluster 696: españa, mexico, argentina, viva, méxico, chile, colombia, unidos, ecuador\n",
      "Cluster 697: €, euros\n",
      "Cluster 698: attractive, skinny, grown, tall, comfortable, thick, classy, messy, asses\n",
      "Cluster 699: بالله, حسبي, قل, قول, بسم\n",
      "Cluster 700: cok, icin, degil, guzel\n",
      "Cluster 701: smell, fish, bomb, smells, nuts, trees, covered, rolls, eats, poop\n",
      "Cluster 702: ▂, ▇, ▅\n",
      "Cluster 703: ignore, continue, decide, prove, ruin, chances, assume, refuse, serve, compare, urge\n",
      "Cluster 704: rb, transfer, rm, bonus, cp, jt, hub\n",
      "Cluster 705: pueden, quieren, dejan, hicieron, hagan, dejen, deben, deberían\n",
      "Cluster 706: canción, cancion, escuchando, película, suena, escucha, pelicula, peli, escucho, lloro\n",
      "Cluster 707: ahi, rato, llego, aca, listo, ando, todavia, ase, durmiendo, nomas, ahorita, hablamos, salgo, aburro, recien, duermo, aver, levanto, vengo, aburrida, vete, despierta\n",
      "Cluster 708: vontade, saudade, odeio, medo, dor, sinto, rir, morrer, raiva, vergonha, prefiro\n",
      "Cluster 709: especial, programa, grupo, canal, oficial, visita, entrevista, publicado, próximo, inicio, aniversario, participar, evento\n",
      "Cluster 710: сможет, tribez, еды, stardoll\n",
      "Cluster 711: o_o, ahahaha, ahah, ooh, ahahah, ow, aah, aaah, oooh, :\\, asdfghjkl, ahahahaha, ahahahah, aaaah, hahahahahah\n",
      "Cluster 712: rico, café, vino, dulce, coca, helado, huevo, pollo, carne\n",
      "Cluster 713: собрал, золотых\n",
      "Cluster 714: lights, beats, pandora, rolling, rocks, headphones, circle, keys, gucci, &amp;, mill, covers, diamonds, wheel, bump, ink, tracks, deck, walls\n",
      "Cluster 715: монет\n",
      "Cluster 716: pase, haga, venga, ojala, llegue, ojalá, algun, pido, hacemos, vea, salga, vuelva\n",
      "Cluster 717: صورة, جديدة, غرد_بصورة, فيديو, صور, برنامج, الصورة, قناة\n",
      "Cluster 718: الحب, القلب, القلوب, الحزن, حبك, النفس, العين, الشوق\n",
      "Cluster 719: muka, bau, mulut, gigi, buang\n",
      "Cluster 720: único, unico, verdadero, ídolo, estilo, eterno, secreto, idolo, artista, fiel, universo, talento, famoso, falso\n",
      "Cluster 721: review, release, latest, press, article, magazine, image, exclusive, kindle, launch, records, images, weekly, feature\n",
      "Cluster 722: doctor, spanish, honor, actor, director, mass, professor, funeral, pastor\n",
      "Cluster 723: li, nun, sia, dun, bat, oy, bel, tara, tsk, ding\n",
      "Cluster 724: agua, ropa, leche\n",
      "Cluster 725: cheese, cookies, bacon, sandwich, chips, fruit, cookie, butter, fries, sauce, pancakes, steak, toast, peanut\n",
      "Cluster 726: problemas, mente, sentido, valor, distancia, tristeza, confianza, paciencia\n",
      "Cluster 727: experience, beginning, brings, journey, begins, lessons, childhood, mystery, reminder, lifetime, miracle, endless, discover, worlds, unexpected\n",
      "Cluster 728: السعودية, الكويت, الرياض, البحرين, новости, العرب, قطر\n",
      "Cluster 729: entrar, matar, parar, tirar, acordar, pegar, acabar, cantar, subir, tocar, gritar, continuar\n",
      "Cluster 730: feo, raro, pinche, viejo, guapo, pendejo, típico, tonto, maldito, pelotudo, tío, tipico, chiste, genio\n",
      "Cluster 731: toma, cuidado, calma, corre, segura, cuida, cansa, ó\n",
      "Cluster 732: oppa, bias, hyung, gomawo, eon\n",
      "Cluster 733: noo, mii, dee, naa, ash, chu, sho, shi\n",
      "Cluster 734: класс, гдз\n",
      "Cluster 735: baju, manis, panjang, putih, rambut, merah, warna, hitam\n",
      "Cluster 736: canada, england, australia, italy, spain, ham, europe, germany, ireland, amsterdam\n",
      "Cluster 737: maria, daniel, lucas, laura, bravo, dani, sara, marco, camila, andrea, rafa, paula, gabriel, victor, manu, gil, clara, karen, franco, nico\n",
      "Cluster 738: marry, nick, jennifer, jessica, malik, emma, cody, hannah, amy, kristen, lou, danielle, emily, megan, ellen, nathan, rachel, kardashian, lawrence, elena, kurt, dylan, zac, kendall, edward, lea, stewart, damon\n",
      "Cluster 739: الجنة, الجنه\n",
      "Cluster 740: فلا, الموت, منا, تجعل, وأن\n",
      "Cluster 741: dpt, smua, bnyk, lbh, byk, bnyak, bwt\n",
      "Cluster 742: ©, ¼, ▸, ▲, ▶, ¥, ¦, ☎\n",
      "Cluster 743: ideas, miles, pies, planes\n",
      "Cluster 744: natural, animal, mental, sexual, define, bullying, bipolar, cruel, invisible\n",
      "Cluster 745: haters, jokes, cheat, couples, racist, innocent, desperate, idiots, nowadays, humans, fools, rumors, scare, gays\n",
      "Cluster 746: بيستفيد\n",
      "Cluster 747: bn, aman, pos, mk, juli\n",
      "Cluster 748: demain, encore, soir, temps, ans, après, jour, avant, passe, cours, aujourd, depuis, matin, enfin, jours, semaine, été, devant, passer, vite\n",
      "Cluster 749: xbox, itunes, netflix, minecraft, stream, ops, streaming, abc, gta, wii, cod\n",
      "Cluster 750: bonne, nuit, journée, petite\n",
      "Cluster 751: bsk, brp, kpn, dmn, bsok, ntr, rmh, plg, skolah, smpe, kmrn, kls\n",
      "Cluster 752: india, africa, israel, iran, russia, egypt, philippines, nigeria, reuters\n",
      "Cluster 753: jersey, nike, racing, golf, ford, polo, bikini, adidas, elite, vans, honda\n",
      "Cluster 754: الهلال, النصر, الاتحاد, مباراة, مبروك\n",
      "Cluster 755: telah, berusaha, tuk, lakukan, melakukan, kesalahan\n",
      "Cluster 756: نفسك, قلبك, وجهك\n",
      "Cluster 757: ̩, щ, ۳, ºдºщ\n",
      "Cluster 758: canciones, frases, tiempos, letras, libros, infancia, temas, películas, hechos\n",
      "Cluster 759: obrigada, obg, obrigado, awn, amr, olá, anjo, valeu\n",
      "Cluster 760: terbaik, tentang, soal, sebuah, apakah, hasil, negara, agama, pilihan, kisah, selain\n",
      "Cluster 761: korea, malaysia, asia, singapore, thailand\n",
      "Cluster 762: كانت, كلها, وهي, واحدة, جميلة\n",
      "Cluster 763: sexo, pura, moda, papel, droga, cabe, falsa\n",
      "Cluster 764: juan, carlos, diego, luis, jose, santos, pedro, miguel, jorge, cruz, pablo, antonio, julio, josé, silva, fernando, miranda, hugo, rafael, maría, pepe, nicolas, roberto, sergio\n",
      "Cluster 765: vendo, filme, fazendo, começa, ouvindo, passando, funk, assistindo, começou\n",
      "Cluster 766: يَ, ۈ, ۆ, گل\n",
      "Cluster 767: ＃, さんから, まとめ, パズドラ\n",
      "Cluster 768: pienso, imposible, creer, quisiera, perdón, prefiero, quería, olvido, gustaría, jamas, debo, decirle, adiós, decirte, pude, aprendí, solamente, olvide\n",
      "Cluster 769: ｙｏｕ, ｉｆ, ｏｎｌｙ, ｆｏｌｌｏｗ\n",
      "Cluster 770: coração, sorriso, beijo, perfeito, sonho, orgulho, abraço, fofo\n",
      "Cluster 771: menang, kalah, pemain, lawan, inggris, juara, musim, dukung\n",
      "Cluster 772: wind, mph, temp, rising, temperature, humidity\n",
      "Cluster 773: river, playa, cali, puerto, df\n",
      "Cluster 774: ╱, ╲, ┊, ▔, ▕, ▉\n",
      "Cluster 775: い, つ, な, か, ま, す, や, だ, し, こ, た\n",
      "Cluster 776: سوريا, الجيش\n",
      "Cluster 777: nacional, mundial, copa, internacional, américa\n",
      "Cluster 778: percaya, jujur, yakin, saling, cemburu, janji, sadar, peduli, perhatian, bangga, kecewa, ikhlas, peka\n",
      "Cluster 779: 이, 전, 제\n",
      "Cluster 780: ➒\n",
      "Cluster 781: لمن, مما, حيث, وقد\n",
      "Cluster 782: gostei, ``, capa, livro, veja, amei, clipe\n",
      "Cluster 783: türkiye, nin, ın, i̇stanbul, ı, yi, erdoğan, başbakan\n",
      "Cluster 784: 私は, って, とか, しかし, だから\n",
      "Cluster 785: turns, above, runs, falls, leaves, sees, breaks, drops, warning, steps, below, fixed, opens, surgery, stands, holds, throws, crossed, misses\n",
      "Cluster 786: focus, form, create, result, path, confident, settle, manage, setting\n",
      "Cluster 787: daripada, kamus, teguh\n",
      "Cluster 788: segunda, última, ultima, temporada, noticia, fecha, próxima, ª\n",
      "Cluster 789: starbucks, taco, mcdonald, mcdonalds, subway, tacos, walmart, chipotle\n",
      "Cluster 790: 내가, 그, 난, 내, 나는\n",
      "Cluster 791: acabei, cheguei, cedo, acordei, manhã, férias, chegando, passei\n",
      "Cluster 792: متابعينكn\n",
      "Cluster 793: mesti, dak, lha, tok, kene, lak, nian, seh\n",
      "Cluster 794: betul, comel, sikit, pandai, sgt, kan.\n",
      "Cluster 795: debate, general, crisis, crime, cnn, civil, criminal, federal, anonymous\n",
      "Cluster 796: dinero, busca, necesita, ayuda, pide, salud, atención, urgente, necesitamos\n",
      "Cluster 797: ganhar, dinheiro, reais, ganhei, r$\n",
      "Cluster 798: منه, منهم, النار, منها\n",
      "Cluster 799: ◞, ◟, ิ, ౪, ◝, ◜, ‵\n",
      "Cluster 800: smiling, kisses, smiles, kissing, laughs, kissed, cries\n",
      "Cluster 801: evil, devil, zombie, killer, silent, shock, flu, hangover, pit, envy, nightmare, fever\n",
      "Cluster 802: mode, zone, tape, suite, pose, rage, bug, buzz, pause, replay\n",
      "Cluster 803: تحب, غيرك, تعلم, تريد\n",
      "Cluster 804: أول, اول, آخر, جديد, اخر, افضل\n",
      "Cluster 805: مصر, ضد, مرسي, رئيس\n",
      "Cluster 806: مِن, كُل, مَن\n",
      "Cluster 807: 일, 월, 시, 년, 이벤트\n",
      "Cluster 808: 수, 있는, 것, 하는, 할\n",
      "Cluster 809: ربنا\n",
      "Cluster 810: tangan, duduk, batu, belakang, sebelah, api, bawah, pintu\n",
      "Cluster 811: أسألك, ارزقني, نسألك, وخير, اسألك\n",
      "Cluster 812: 金運, 恋愛運\n",
      "Cluster 813: vão, podem, fazem, foram, querem\n",
      "Cluster 814: عني, عنك, عنا, العفو\n",
      "Cluster 815: students, teachers, schools\n",
      "Cluster 816: alto, duro, alta, largo, dura, modo, corta, larga, toque, enorme, corte, bateria, corto, clima\n",
      "Cluster 817: più, anche, fare, poi, bene, questo, tutto, perché, fatto, essere, così, voglio\n",
      "Cluster 818: 健康運, 仕事運\n",
      "Cluster 819: ﾗｯｷｰｱｲﾃﾑ\n",
      "Cluster 820: اضف\n",
      "Cluster 821: yine, bugün, gece, sabah, yarın, geldi, günaydın\n",
      "Cluster 822: glass, silver, inch, diamond, oz, wood, electric, crystal, steel\n",
      "Cluster 823: قلب, حب, عين, روح, انسان\n",
      "Cluster 824: banho, volto, saindo, voltei, flw, partiu\n",
      "Cluster 825: 더, 너무, 많이, 정말, 우리, 좋은\n",
      "Cluster 826: nivel, móvil, cerebro, teléfono, quita\n",
      "Cluster 827: millones, puntos, goles, partidos, jugadores\n",
      "Cluster 828: あと, もう, よし, さて, なるほど, まぁ, うーん, なんか, まあ, 眠い, じゃあ, とりあえず\n",
      "Cluster 829: peter, walker, christian, dr., robert, thomas, mandela, nelson, richard, william, charles, saint, jonathan, j.\n",
      "Cluster 830: えっ, えー, おお, まじか, ちょ, なんで, nえ\n",
      "Cluster 831: να\n",
      "Cluster 832: hood, ratchet, fucks, ghetto, wack, chicks\n",
      "Cluster 833: 진짜, 왜, 나, 근데, 그냥, 나도, 저, 제가, 네, 그럼, 이런\n",
      "Cluster 834: το, και, για, με, τα, που, δεν, θα, μου, στο\n",
      "Cluster 835: bt, u., hw, nt, abt, coz, gud, ain, yh, jst, hav\n",
      "Cluster 836: kasian, maap, ampun, awas, sembuh, yaallah\n",
      "Cluster 837: tas, tar, gan\n",
      "Cluster 838: ➐\n",
      "Cluster 839: rise, freedom, pride, rule, destroy, families, enemy, promises, seek, among, enemies, gods\n",
      "Cluster 840: хочу, надо, буду, спать\n",
      "Cluster 841: seguimi, seguo, profilo\n",
      "Cluster 842: 다, 잘, 좀, 안, 뭐\n",
      "Cluster 843: بالاتيn\n",
      "Cluster 844: temprano, siesta, irme, descansar\n",
      "Cluster 845: smp, pede, serem, galo\n",
      "Cluster 846: allowed, likely, involved, arrested, illegal, tries, fed, attempt, fired, doctors, injured, forced\n",
      "Cluster 847: syria, bahrain, عاجل, saudi, tcot\n",
      "Cluster 848: meio, maior, homem, ruim, sendo, feito, doce, cor\n",
      "Cluster 849: سورة, رمضان, الجمعة, الفجر, الساعة\n",
      "Cluster 850: وقت, النوم, بسبب, شعور, سبب, سؤال\n",
      "Cluster 851: 오늘, 지금, 이제, 또, 그리고, 하고, 다시\n",
      "Cluster 852: ا, ال, سنة, آل\n",
      "Cluster 853: للمتواجدينnلزيادة\n",
      "Cluster 854: متى, يمكن, الوقت, صار, عاد, طول, تدري, لين, محد, باقي, يبي, يصير, يجي\n",
      "Cluster 855: день, мой, человек, был, новый, этот, один\n",
      "Cluster 856: za, od, iz, ovo\n",
      "Cluster 857: معك, معي, معه, بعيد\n",
      "Cluster 858: lv, ml, инструкция\n",
      "Cluster 859: siente, tuya, enamora, mía, enamorado, sientes, dile, sonríe, llora, extraña, enamorada\n",
      "Cluster 860: st., carolina, angeles, shore, ave, fl, orlando, charlotte\n",
      "Cluster 861: تويتر, هنا, جدا, شكرا\n",
      "Cluster 862: 回呟きました, 以降, 前日比\n",
      "Cluster 863: minum, obat\n",
      "Cluster 864: فوق, تحت, الأرض, السماء, المطر, الارض, الشمس\n",
      "Cluster 865: votebieber, voteonedirection, breakoutartist, voteaustinmahone, votearianagrande\n",
      "Cluster 866: issue, speech, failed, response, according, answers, term, comments, reaction, scandal, statement, address, sentence, reports, related, fails, trial, plot\n",
      "Cluster 867: ley, cuba, derecho, educación, política, seguridad, sociedad, cultura\n",
      "Cluster 868: للجميع\n",
      "Cluster 869: ⁾, ु, ੭, ̥, ˆoˆ\n",
      "Cluster 870: ouvir, chorar, viver, olhar, esquecer, lembrar, sorrir\n",
      "Cluster 871: wings, swim, roses, frozen, bones\n",
      "Cluster 872: countkun\n",
      "Cluster 873: islam, muslim, arab\n",
      "Cluster 874: اغفر, ارحم, برحمتك\n",
      "Cluster 875: cola, compra, marca, plata, mesa, zona, entrada, mercado, ponte\n",
      "Cluster 876: recuerda, piensa, cambia, dejes, haz, necesitas, conoce, olvida, dejas, encuentra, hará, busco\n",
      "Cluster 877: إليه, إليك, وأتوب, اليه, اليك, واتوب\n",
      "Cluster 878: ⓔ, ⓣ, ฺ, ⓞ, ⓡ, ⓦ, ⓛ\n",
      "Cluster 879: dirimu, bahwa, mencintai, alasan, bagaimana, mencintaimu, mengerti, memilih\n",
      "Cluster 880: oro, baja, precio, doble, peso\n",
      "Cluster 881: dag, leuk, eten, zin, mooi, kut\n",
      "Cluster 882: primo, numero, banco, caro, paga, compro\n",
      "Cluster 883: الصلاة, القرآن, صلاة\n",
      "Cluster 884: luan, parabéns, aniversário\n",
      "Cluster 885: autotweet, だれでも簡単\n",
      "Cluster 886: azul, rosa, verde, blanco, cabello, camiseta, rojo, camisa, flores, vestido\n",
      "Cluster 887: belle, hui, dur, pendant\n",
      "Cluster 888: harvested\n",
      "Cluster 889: ايه, حاجة, دي\n",
      "Cluster 890: فِي, مِنْ, مَا\n",
      "Cluster 891: المسلمين, أهل, الدين\n",
      "Cluster 892: tax, average, higher, cost, oil, pressure, pounds, lower, increase, bills, budget, cuts, economy\n",
      "Cluster 893: qualquer, conta, mudar, errado, direito, tiver, agente, conversa\n",
      "Cluster 894: مـن\n",
      "Cluster 895: حساب, الحساب, خاص\n",
      "Cluster 896: harga, ribu, tiga, juta, resmi\n",
      "Cluster 897: się, że, jest\n",
      "Cluster 898: آن, لاا\n",
      "Cluster 899: التلقائي, متابعين, ⇦\n",
      "Cluster 900: تطبيق_قرآنى\n",
      "Cluster 901: a., k., ken, i., d., c., l., maya, s., nana, b., o., abu, khan, m., eli\n",
      "Cluster 902: suara, musik, gambar, berita, iklan\n",
      "Cluster 903: ブログを更新しました\n",
      "Cluster 904: بنت, ام, ابو, ولد\n",
      "Cluster 905: andar, correr, levantar, beber, viajar, cagar, caminar\n",
      "Cluster 906: biri, kız, erkek, mesaj, diyen, kadın\n",
      "Cluster 907: tchau, bjs, beijos\n",
      "Cluster 908: rtした人全員フォローする, フォロー, 相互希望\n",
      "Cluster 909: yum, craving, delicious, yummy, salad, soup, recipe\n",
      "Cluster 910: share-worthy\n",
      "Cluster 911: galatasaray, fenerbahçe\n",
      "Cluster 912: tutti, gli\n",
      "Cluster 913: sang, spongebob, jane, hart, noah, blink\n",
      "Cluster 914: لمدة, ساعة, ساعه, ساعات\n",
      "Cluster 915: sougo, teamhitfollow, followngain, thf\n",
      "Cluster 916: رجل, الرجل, الإنسان, المرأة\n",
      "Cluster 917: takipçi, takipedenitakipederim\n",
      "Cluster 918: اللہ\n",
      "Cluster 919: ⚽, ⚾\n",
      "Cluster 920: التزم, بالشروط, يضيفك\n",
      "Cluster 921: util, preguntas, mensajes, sociales, usuarios, cuentas, entérate\n",
      "Cluster 922: البشر, الرجال, النساء\n",
      "Cluster 923: forte, alegria, felicidade, fé, força\n",
      "Cluster 924: grazie, ciao, amore\n",
      "Cluster 925: اضغط_فولو\n",
      "Cluster 926: uso, número, sistema, público\n",
      "Cluster 927: とつい\n",
      "Cluster 928: العرش, الحي, القيوم\n",
      "Cluster 929: كن, دائماً, يوماً, دائما, تكن, شيئاً\n",
      "Cluster 930: torres, mourinho, suarez, bale, rooney, melo, xi\n",
      "Cluster 931: pakistan, gop, election, congress, poll\n",
      "Cluster 932: posible, oportunidad, éxito, placer, experiencia\n",
      "Cluster 933: banjir, macet\n",
      "Cluster 934: aracılığıyla, ’d, bey\n",
      "Cluster 935: ∵, ′, ｔ, 彡, ヮ, ››\n",
      "Cluster 936: nel, sul, tuo, dal\n",
      "Cluster 937: 한, 중\n",
      "Cluster 938: ثلاث, مرات, أيام\n",
      "Cluster 939: ◾, فرصتك\n",
      "Cluster 940: 生放送, マイリスト\n",
      "Cluster 941: devam, ediyorum, ederim, nefret\n",
      "Cluster 942: ｆｏｌｌｏｗｅｒｓ\n",
      "Cluster 943: kuis, kirim, tiket, minat, daftar, wajib, hadiah\n",
      "Cluster 944: rtsn, backn, gainn\n",
      "Cluster 945: publiquei\n",
      "Cluster 946: проверь\n",
      "Cluster 947: olhos, enquanto, perto, embora, longe, céu, sozinho\n",
      "Cluster 948: を開始しました\n",
      "Cluster 949: урожай\n",
      "Cluster 950: kesehatan, asmara\n",
      "Cluster 951: грядки\n",
      "Cluster 952: собран\n",
      "Cluster 953: الشعب, الشباب, السعودي\n",
      "Cluster 954: podia, deveria, poderia, consegue, tivesse, gostaria\n",
      "Cluster 955: seri, hafta, takibi, günü\n",
      "Cluster 956: notre, nouvelle, votre, d'un, vidéo, nouveau\n",
      "Cluster 957: لتستفيد\n",
      "Cluster 958: ｗａｎｔ, ｎｅｗ\n",
      "Cluster 959: متابعينn\n",
      "Cluster 960: かわいい, 可愛い\n",
      "Cluster 961: embarrassing, sarcasm, pointless, obvious, curious, complicated, pisses, accurate, useless, irrelevant, confusing\n",
      "Cluster 962: sirve, cuesta\n",
      "Cluster 963: posting, stalk, bully, stalking\n",
      "Cluster 964: sayo, siya, mo., lahat, niya, mong, sakin\n",
      "Cluster 965: η, ο, του, την\n",
      "Cluster 966: دعاء, الدعاء\n",
      "Cluster 967: tüm, dünya, bütün\n",
      "Cluster 968: كريم, شريك, الرحمن, قدير, وله\n",
      "Cluster 969: dosa, tanda, balas, luka, tawa\n",
      "Cluster 970: を受け取りました\n",
      "Cluster 971: سكس\n",
      "Cluster 972: å\n",
      "Cluster 973: berhenti, lelah, biarkan, lupakan\n",
      "Cluster 974: lei, és, devo, finalmente\n",
      "Cluster 975: premio, entradas, juegos, premios\n",
      "Cluster 976: ajuda, conhecer, atenção, conversar, ajudar\n",
      "Cluster 977: ممن\n",
      "Cluster 978: achievement\n",
      "Cluster 979: 歳\n",
      "Cluster 980: россии, года, год\n",
      "Cluster 981: رتويتr\n",
      "Cluster 982: يعرف, يعلم, يحب\n",
      "Cluster 983: polisi, korban, warga\n",
      "Cluster 984: poland\n",
      "Cluster 985: نعمة\n",
      "Cluster 986: بوك, الفيس\n",
      "Cluster 987: twitter自動つぶやき設定ができるサイト\n",
      "Cluster 988: オートツイート\n",
      "Cluster 989: 定期的につぶやくbotやurlの宣伝にも使えます\n",
      "Cluster 990: طاعتك\n",
      "Cluster 991: doğru, olduğunu, göre\n",
      "Cluster 992: ポイント, ランキング\n",
      "Cluster 993: кредит\n",
      "Cluster 994: peluk, cium, pipi\n",
      "Cluster 995: わたしの今日の運勢です\n",
      "Cluster 996: ciúmes, ciumes\n",
      "Cluster 997: بالاتي\n",
      "Cluster 998: السماوات\n",
      "Cluster 999: ❶, ❷, ❸\n",
      "Cluster 1000: آمنوا\n"
     ]
    }
   ],
   "source": [
    "for i, words in enumerate(cluster_to_words.values()):\n",
    "    words_str = ', '.join(words)\n",
    "    print(f'Cluster {i + 1}: {words_str}')"
   ]
  },
  {
   "cell_type": "code",
   "execution_count": 42,
   "metadata": {},
   "outputs": [],
   "source": [
    "big_embedding, big_labels = build_embedding(\n",
    "    open('data/glove.twitter.27B.25d.txt', 'r'),\n",
    "    100000,\n",
    "    25\n",
    ")"
   ]
  },
  {
   "cell_type": "code",
   "execution_count": 43,
   "metadata": {},
   "outputs": [
    {
     "name": "stdout",
     "output_type": "stream",
     "text": [
      "-rw-r--r--  1 lex  staff   1.9M 24 Mar 23:37 ./data/embedding.10000.glove.twitter.27B.npy\r\n",
      "-rw-r--r--  1 lex  staff    19M 24 Mar 23:57 ./data/embedding.100000.glove.twitter.27B.npy\r\n"
     ]
    }
   ],
   "source": [
    "np.save(f'data/embedding.{100000}.glove.twitter.27B', big_embedding)\n",
    "%ls -lh ./data/embedding*"
   ]
  },
  {
   "cell_type": "markdown",
   "metadata": {},
   "source": [
    "### Nearest Neighbours"
   ]
  },
  {
   "cell_type": "markdown",
   "metadata": {},
   "source": [
    "Few examples of finding the nearest neighbours of the vectors. In the examples, we use cosine similarity as the distance metric between the two vectors.\n",
    "\n",
    "#### Cosine similarity\n",
    "\n",
    "From Wikipedia:\n",
    "\n",
    "\"\n",
    "Given two vectors of attributes, A and B, the cosine similarity, cos(θ), is represented using a dot product and magnitude as\n",
    "\n",
    "$$ \\frac{\\mathbf{A}*\\mathbf{B}}{||\\mathbf{A}||\\mathbf{B}||} = \\frac{\\sum\\limits_{i=1}^{n} A_i B_i}{\\sqrt{\\sum\\limits_{i=1}^{n} A_i^2} \\sqrt{\\sum\\limits_{i=1}^{n} B_i^2}} $$"
   ]
  },
  {
   "cell_type": "markdown",
   "metadata": {},
   "source": [
    "It returns a number between -1 (exact opposite) and 1 (the same). In information retrieval, a TF-IDF vector would not have negative numbers in the vector, so the cosine similarity would be between 0 and 1."
   ]
  },
  {
   "cell_type": "markdown",
   "metadata": {},
   "source": [
    "If we had two Tweets represented as simple word count, let's calculate the distance by hand, then with NumPy and then using the Scipy cosine function:\n",
    "\n",
    "* Tweet 1: \"Hello world, what's up?\"\n",
    "* Tweet 2: \"What's up, world?\"\n",
    "\n",
    "Word    |  Vec 1  | Vec 2\n",
    "--------|:-------:|-------:\n",
    "        |         |\n",
    "hello   | 1       | 0     \n",
    "world   | 1       | 1\n",
    "what's  | 1       | 1\n",
    "up      | 1       | 1"
   ]
  },
  {
   "cell_type": "code",
   "execution_count": 175,
   "metadata": {},
   "outputs": [
    {
     "data": {
      "text/plain": [
       "0.8660254037844387"
      ]
     },
     "execution_count": 175,
     "metadata": {},
     "output_type": "execute_result"
    }
   ],
   "source": [
    "# Solution in pure Python\n",
    "\n",
    "vect_1 = [1, 1, 1, 1]\n",
    "vect_2 = [0, 1, 1, 1]\n",
    "\n",
    "dot = sum([a * b for (a, b) in zip(vect_1, vect_2)])\n",
    "\n",
    "norm_1 = math.sqrt(sum([i**2 for i in vect_1]))\n",
    "norm_2 = math.sqrt(sum([i**2 for i in vect_2]))\n",
    "\n",
    "dot / (norm_1 * norm_2)"
   ]
  },
  {
   "cell_type": "code",
   "execution_count": 176,
   "metadata": {},
   "outputs": [
    {
     "data": {
      "text/plain": [
       "0.8660254037844387"
      ]
     },
     "execution_count": 176,
     "metadata": {},
     "output_type": "execute_result"
    }
   ],
   "source": [
    "# Solution in Numpy\n",
    "\n",
    "from numpy import dot\n",
    "from numpy.linalg import norm\n",
    "\n",
    "a = np.array(vect_1)\n",
    "b = np.array(vect_2)\n",
    "\n",
    "dot(a, b)/(norm(a)*norm(b))"
   ]
  },
  {
   "cell_type": "code",
   "execution_count": 177,
   "metadata": {},
   "outputs": [
    {
     "data": {
      "text/plain": [
       "0.8660254037844387"
      ]
     },
     "execution_count": 177,
     "metadata": {},
     "output_type": "execute_result"
    }
   ],
   "source": [
    "# Solution in Scipy\n",
    "from scipy.spatial.distance import cosine\n",
    "\n",
    "# Computes distance, not similarity, so you need to subtract from 1 to get the latter.\n",
    "1 - cosine(a, b)"
   ]
  },
  {
   "cell_type": "markdown",
   "metadata": {},
   "source": [
    "#### Finding NN of words in the embedding"
   ]
  },
  {
   "cell_type": "markdown",
   "metadata": {},
   "source": [
    "Firstly need to build a mapping of labels to ids."
   ]
  },
  {
   "cell_type": "code",
   "execution_count": 65,
   "metadata": {},
   "outputs": [],
   "source": [
    "label_to_id = {label: i for (i, label) in enumerate(big_labels)}"
   ]
  },
  {
   "cell_type": "code",
   "execution_count": 68,
   "metadata": {},
   "outputs": [
    {
     "data": {
      "text/plain": [
       "array([-1.0618e+00, -7.4601e-01, -2.8375e-01, -1.2646e+00,  1.2012e+00,\n",
       "        1.1948e-01,  7.5129e-01,  2.2459e-01,  4.2224e-01, -7.7092e-01,\n",
       "        3.5408e-01, -2.2724e-01, -3.4628e+00, -5.4871e-01, -8.1186e-01,\n",
       "        1.6895e-01,  1.1222e-03, -7.4510e-01, -1.4037e-01,  1.1259e+00,\n",
       "       -1.1187e+00, -7.8684e-01, -1.2874e+00, -8.4603e-01, -2.5663e-01])"
      ]
     },
     "execution_count": 68,
     "metadata": {},
     "output_type": "execute_result"
    }
   ],
   "source": [
    "big_embedding[label_to_id['fashion']]"
   ]
  },
  {
   "cell_type": "code",
   "execution_count": 123,
   "metadata": {},
   "outputs": [],
   "source": [
    "def get_closest_n_for_word(word, n, label_to_id, embedding, labels):    \n",
    "    word_id = label_to_id[word]\n",
    "    word_vector = embedding[word_id]\n",
    "    \n",
    "    return get_closest_n(word_vector, n, label_to_id, embedding, labels)\n",
    "    \n",
    "\n",
    "def get_closest_n(word_vector, n, label_to_id, embedding, labels):\n",
    "    distances = []\n",
    "        \n",
    "    for i, vect in enumerate(embedding):\n",
    "        dist = cosine(word_vector, vect)\n",
    "        distances.append((dist, i))\n",
    "        \n",
    "    top_n = sorted(distances, key=lambda r: r[0])[:n]\n",
    "        \n",
    "    return [(dist, labels[word_id]) for dist, word_id in top_n]"
   ]
  },
  {
   "cell_type": "markdown",
   "metadata": {},
   "source": [
    "##### Twitter set"
   ]
  },
  {
   "cell_type": "code",
   "execution_count": 124,
   "metadata": {},
   "outputs": [
    {
     "data": {
      "text/plain": [
       "[(0.0, 'fashion'),\n",
       " (0.11190469989651741, 'clothing'),\n",
       " (0.1187808663462051, 'designer'),\n",
       " (0.12109410226928441, 'art'),\n",
       " (0.12462542597575377, 'design'),\n",
       " (0.12729323025077588, 'photography'),\n",
       " (0.12768769439763372, 'models'),\n",
       " (0.13050617357645844, 'style'),\n",
       " (0.13300507371641712, 'collection'),\n",
       " (0.13377968671232177, 'urban')]"
      ]
     },
     "execution_count": 124,
     "metadata": {},
     "output_type": "execute_result"
    }
   ],
   "source": [
    "get_closest_n_for_word('fashion', 10, label_to_id, big_embedding, big_labels)"
   ]
  },
  {
   "cell_type": "code",
   "execution_count": 126,
   "metadata": {},
   "outputs": [
    {
     "data": {
      "text/plain": [
       "[(0.0, 'technology'),\n",
       " (0.05116892368819159, 'systems'),\n",
       " (0.059884984791405804, 'development'),\n",
       " (0.06896174308464964, 'tech'),\n",
       " (0.07422950971306108, 'management'),\n",
       " (0.07441314944022426, 'system'),\n",
       " (0.07464261828360197, 'based'),\n",
       " (0.07930825619577364, 'industry'),\n",
       " (0.0821470074938977, 'solutions'),\n",
       " (0.08470183076648641, 'resources')]"
      ]
     },
     "execution_count": 126,
     "metadata": {},
     "output_type": "execute_result"
    }
   ],
   "source": [
    "get_closest_n_for_word('technology', 10, label_to_id, big_embedding, big_labels)"
   ]
  },
  {
   "cell_type": "code",
   "execution_count": 127,
   "metadata": {},
   "outputs": [
    {
     "data": {
      "text/plain": [
       "[(0.0, 'food'),\n",
       " (0.07890411373118678, 'coffee'),\n",
       " (0.09949482327427706, 'wine'),\n",
       " (0.10243739947630437, 'breakfast'),\n",
       " (0.10485338571785352, 'drink'),\n",
       " (0.1071093788351859, 'tea'),\n",
       " (0.11201323994634982, 'starbucks'),\n",
       " (0.11314538035245958, 'beer'),\n",
       " (0.11525931057212013, 'eat'),\n",
       " (0.12103496672975256, 'drinks')]"
      ]
     },
     "execution_count": 127,
     "metadata": {},
     "output_type": "execute_result"
    }
   ],
   "source": [
    "get_closest_n_for_word('food', 10, label_to_id, big_embedding, big_labels)"
   ]
  },
  {
   "cell_type": "code",
   "execution_count": 128,
   "metadata": {},
   "outputs": [
    {
     "data": {
      "text/plain": [
       "[(0.0, 'sports'),\n",
       " (0.0655900492228515, 'football'),\n",
       " (0.08204431781553279, 'soccer'),\n",
       " (0.08520921025986539, 'tech'),\n",
       " (0.09501407059278166, 'games'),\n",
       " (0.09730687129513615, 'baseball'),\n",
       " (0.09952443942114464, 'basketball'),\n",
       " (0.11310389857437686, 'golf'),\n",
       " (0.11485610398447621, 'player'),\n",
       " (0.11901453714009425, 'teams')]"
      ]
     },
     "execution_count": 128,
     "metadata": {},
     "output_type": "execute_result"
    }
   ],
   "source": [
    "get_closest_n_for_word('sports', 10, label_to_id, big_embedding, big_labels)"
   ]
  },
  {
   "cell_type": "code",
   "execution_count": 129,
   "metadata": {},
   "outputs": [
    {
     "data": {
      "text/plain": [
       "[(0.0, 'drugs'),\n",
       " (0.09824980130172845, 'drug'),\n",
       " (0.11359491972249869, 'meth'),\n",
       " (0.11480835569515646, 'smoking'),\n",
       " (0.11861642222632496, 'weed'),\n",
       " (0.12874489890566798, 'feed'),\n",
       " (0.1312791384324209, 'cocaine'),\n",
       " (0.13276736076344542, 'marijuana'),\n",
       " (0.13398141374625738, 'junk'),\n",
       " (0.13968763029470954, 'illegal')]"
      ]
     },
     "execution_count": 129,
     "metadata": {},
     "output_type": "execute_result"
    }
   ],
   "source": [
    "get_closest_n_for_word('drugs', 10, label_to_id, big_embedding, big_labels)"
   ]
  },
  {
   "cell_type": "code",
   "execution_count": 130,
   "metadata": {},
   "outputs": [
    {
     "data": {
      "text/plain": [
       "[(0.0, 'frog'),\n",
       " (0.057426365817694225, 'turtle'),\n",
       " (0.08396356648444625, 'rabbit'),\n",
       " (0.08423825426104536, 'monkey'),\n",
       " (0.0845456071455245, 'dinosaur'),\n",
       " (0.08893787816517595, 'unicorn'),\n",
       " (0.09344485925733348, 'demon'),\n",
       " (0.0974034543947101, 'snake'),\n",
       " (0.10358710139020255, 'goat'),\n",
       " (0.10431914282370536, 'witch')]"
      ]
     },
     "execution_count": 130,
     "metadata": {},
     "output_type": "execute_result"
    }
   ],
   "source": [
    "get_closest_n_for_word('frog', 10, label_to_id, big_embedding, big_labels)"
   ]
  },
  {
   "cell_type": "markdown",
   "metadata": {},
   "source": [
    "##### Wikipedia 2014 + Gigaword 5 set"
   ]
  },
  {
   "cell_type": "code",
   "execution_count": 194,
   "metadata": {},
   "outputs": [],
   "source": [
    "embedding_6b, labels_6b = build_embedding(\n",
    "    open('data/glove.6B.50d.txt', 'r'),\n",
    "    vocab_size=1000000,\n",
    "    dims=50\n",
    ")"
   ]
  },
  {
   "cell_type": "code",
   "execution_count": 195,
   "metadata": {},
   "outputs": [],
   "source": [
    "label_to_id_6b = {label: i for (i, label) in enumerate(labels_6b)}"
   ]
  },
  {
   "cell_type": "code",
   "execution_count": 196,
   "metadata": {},
   "outputs": [
    {
     "name": "stderr",
     "output_type": "stream",
     "text": [
      "//anaconda/envs/glove/lib/python3.6/site-packages/scipy/spatial/distance.py:644: RuntimeWarning: invalid value encountered in double_scalars\n",
      "  dist = 1.0 - uv / np.sqrt(uu * vv)\n"
     ]
    },
    {
     "data": {
      "text/plain": [
       "[(0.0, 'president'),\n",
       " (0.14428115871894032, 'vice'),\n",
       " (0.1830153983848719, 'met'),\n",
       " (0.1904861477448797, 'secretary'),\n",
       " (0.22021414207893242, 'presidency'),\n",
       " (0.23046086977833125, 'chairman'),\n",
       " (0.23805329181108092, 'leader'),\n",
       " (0.23959343258166754, 'administration'),\n",
       " (0.24563664635866045, 'former'),\n",
       " (0.2545339628159693, 'clinton')]"
      ]
     },
     "execution_count": 196,
     "metadata": {},
     "output_type": "execute_result"
    }
   ],
   "source": [
    "get_closest_n_for_word('president', 10, label_to_id_6b, embedding_6b, labels_6b)"
   ]
  },
  {
   "cell_type": "code",
   "execution_count": 197,
   "metadata": {},
   "outputs": [
    {
     "name": "stderr",
     "output_type": "stream",
     "text": [
      "//anaconda/envs/glove/lib/python3.6/site-packages/scipy/spatial/distance.py:644: RuntimeWarning: invalid value encountered in double_scalars\n",
      "  dist = 1.0 - uv / np.sqrt(uu * vv)\n"
     ]
    },
    {
     "data": {
      "text/plain": [
       "[(0.0, 'king'),\n",
       " (0.17638203066643, 'prince'),\n",
       " (0.21609569890358837, 'queen'),\n",
       " (0.2253769969364895, 'ii'),\n",
       " (0.2263752375127076, 'emperor'),\n",
       " (0.2332806045393414, 'son'),\n",
       " (0.23728490559349258, 'uncle'),\n",
       " (0.2457838875991536, 'kingdom'),\n",
       " (0.24600857317183578, 'throne'),\n",
       " (0.250758815387503, 'brother')]"
      ]
     },
     "execution_count": 197,
     "metadata": {},
     "output_type": "execute_result"
    }
   ],
   "source": [
    "get_closest_n_for_word('king', 10, label_to_id_6b, embedding_6b, labels_6b)"
   ]
  },
  {
   "cell_type": "code",
   "execution_count": 198,
   "metadata": {},
   "outputs": [
    {
     "name": "stderr",
     "output_type": "stream",
     "text": [
      "//anaconda/envs/glove/lib/python3.6/site-packages/scipy/spatial/distance.py:644: RuntimeWarning: invalid value encountered in double_scalars\n",
      "  dist = 1.0 - uv / np.sqrt(uu * vv)\n"
     ]
    },
    {
     "data": {
      "text/plain": [
       "[(0.0, 'fashion'),\n",
       " (0.23926544544129025, 'style'),\n",
       " (0.24712236850455038, 'fashions'),\n",
       " (0.24841786388296982, 'designer'),\n",
       " (0.24885286852908617, 'chic'),\n",
       " (0.2549340749641188, 'designers'),\n",
       " (0.2778697451660558, 'shows'),\n",
       " (0.28345347853858394, 'couture'),\n",
       " (0.2844381708689645, 'glamour'),\n",
       " (0.28575764985460117, 'show')]"
      ]
     },
     "execution_count": 198,
     "metadata": {},
     "output_type": "execute_result"
    }
   ],
   "source": [
    "get_closest_n_for_word('fashion', 10, label_to_id_6b, embedding_6b, labels_6b)"
   ]
  },
  {
   "cell_type": "markdown",
   "metadata": {},
   "source": [
    "### Word arithmetic"
   ]
  },
  {
   "cell_type": "markdown",
   "metadata": {},
   "source": [
    "Another really interesting property of word embeddings is their ability to support word arithmetic. Common examples:\n",
    "\n",
    "* king - man + woman = queen\n",
    "* wolf + pet = dog"
   ]
  },
  {
   "cell_type": "code",
   "execution_count": 199,
   "metadata": {},
   "outputs": [],
   "source": [
    "result_vector = (\n",
    "    embedding_6b[label_to_id_6b['king']] - embedding_6b[label_to_id_6b['man']] + embedding_6b[label_to_id_6b['woman']])"
   ]
  },
  {
   "cell_type": "code",
   "execution_count": 202,
   "metadata": {},
   "outputs": [
    {
     "name": "stderr",
     "output_type": "stream",
     "text": [
      "//anaconda/envs/glove/lib/python3.6/site-packages/scipy/spatial/distance.py:644: RuntimeWarning: invalid value encountered in double_scalars\n",
      "  dist = 1.0 - uv / np.sqrt(uu * vv)\n"
     ]
    },
    {
     "data": {
      "text/plain": [
       "(0.1390418741421059, 'queen')"
      ]
     },
     "execution_count": 202,
     "metadata": {},
     "output_type": "execute_result"
    }
   ],
   "source": [
    "# Note that the nearest neighbour is usually the actual reference word, so we're most interested in the 2 word, usually.\n",
    "get_closest_n(result_vector, 2, label_to_id_6b, embedding_6b, labels_6b)[1]"
   ]
  },
  {
   "cell_type": "code",
   "execution_count": 218,
   "metadata": {},
   "outputs": [
    {
     "name": "stderr",
     "output_type": "stream",
     "text": [
      "//anaconda/envs/glove/lib/python3.6/site-packages/scipy/spatial/distance.py:644: RuntimeWarning: invalid value encountered in double_scalars\n",
      "  dist = 1.0 - uv / np.sqrt(uu * vv)\n"
     ]
    },
    {
     "data": {
      "text/plain": [
       "(0.1336948473612377, 'dog')"
      ]
     },
     "execution_count": 218,
     "metadata": {},
     "output_type": "execute_result"
    }
   ],
   "source": [
    "result_vector = (\n",
    "    embedding_6b[label_to_id_6b['wolf']] +\n",
    "    embedding_6b[label_to_id_6b['pet']])\n",
    "get_closest_n(result_vector, 4, label_to_id_6b, embedding_6b, labels_6b)[1]"
   ]
  }
 ],
 "metadata": {
  "kernelspec": {
   "display_name": "Python 3",
   "language": "python",
   "name": "python3"
  },
  "language_info": {
   "codemirror_mode": {
    "name": "ipython",
    "version": 3
   },
   "file_extension": ".py",
   "mimetype": "text/x-python",
   "name": "python",
   "nbconvert_exporter": "python",
   "pygments_lexer": "ipython3",
   "version": "3.6.4"
  }
 },
 "nbformat": 4,
 "nbformat_minor": 2
}
