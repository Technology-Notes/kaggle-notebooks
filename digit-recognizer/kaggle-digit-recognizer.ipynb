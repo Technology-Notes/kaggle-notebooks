{
 "cells": [
  {
   "cell_type": "code",
   "execution_count": 62,
   "metadata": {
    "collapsed": true
   },
   "outputs": [],
   "source": [
    "import math\n",
    "import csv\n",
    "from io import BytesIO\n",
    "\n",
    "import tensorflow as tf\n",
    "import numpy as np\n",
    "import PIL.Image\n",
    "import IPython.display\n",
    "import matplotlib.pyplot as plt\n",
    "\n",
    "from utils import load_training_set, one_hot, norm_imgs, split_train_test\n",
    "from utils import get_random_minibatches\n",
    "\n",
    "%matplotlib inline"
   ]
  },
  {
   "cell_type": "code",
   "execution_count": 125,
   "metadata": {
    "collapsed": true
   },
   "outputs": [],
   "source": [
    "def show_digit(a, fmt='png'):\n",
    "    \"\"\"To do: optionally show label here.\"\"\"\n",
    "    a = a.reshape((28, 28))\n",
    "    f = BytesIO()\n",
    "    PIL.Image.fromarray(a).save(f, fmt)\n",
    "    IPython.display.display(IPython.display.Image(data=f.getvalue()))\n",
    "    \n",
    "def plot_costs(costs):\n",
    "    plt.plot(np.squeeze(costs))\n",
    "    plt.ylabel('cost')\n",
    "    plt.xlabel('iterations (per 5)')\n",
    "    plt.title(\"Learning rate =\" + str(learning_rate))\n",
    "    plt.show()\n",
    "    \n",
    "def predict(x, weights, biases, forward_prop):\n",
    "    weights = {key: tf.convert_to_tensor(var) for key, var in weights.items()}\n",
    "    biases = {key: tf.convert_to_tensor(var) for key, var in biases.items()}\n",
    "    \n",
    "    x_ = tf.placeholder(tf.float32, [None, x.shape[1]])\n",
    "    \n",
    "    out_layer = forward_prop(x_, weights, biases)\n",
    "    p = tf.argmax(out_layer, 1)\n",
    "    \n",
    "    sess = tf.Session()\n",
    "    prediction = sess.run(p, feed_dict = {x_: x})\n",
    "    sess.close()\n",
    "    return prediction\n",
    "\n",
    "def load_test_set(filepath):\n",
    "    fh = open('./data/test.csv')\n",
    "    test_reader = csv.reader(fh)\n",
    "    \n",
    "    # Skip header line\n",
    "    _ = next(test_reader)\n",
    "\n",
    "    test_imgs = [line for line in test_reader]\n",
    "\n",
    "    return np.uint8(test_imgs)\n",
    "\n",
    "def save_predictions(predictions, filepath='output.csv'):\n",
    "    \"\"\"Save predictions to an output path.\"\"\"\n",
    "    output = open(filepath, 'w')\n",
    "    output.write(u'ImageId,Label\\n')\n",
    "    [output.write(u'{0},{1}\\n'.format(count + 1, pred)) \n",
    "        for count, pred in enumerate(predictions)]\n",
    "    output.close()\n",
    "    \n",
    "   \n",
    "class Epochs(object):\n",
    "    \n",
    "    def __init__(\n",
    "        self, sess, optimizer, cost, accuracy, num_epochs=100,\n",
    "        mini_batch_size=64, print_every=10\n",
    "    ):\n",
    "        self.sess = sess\n",
    "        self.optimizer = optimizer\n",
    "        self.cost = cost\n",
    "        self.accuracy = accuracy\n",
    "        self.num_epochs = num_epochs\n",
    "        self.mini_batch_size = mini_batch_size\n",
    "        self.print_every = print_every\n",
    "        \n",
    "    def run(self, train_x, train_y):\n",
    "        num_mini_batches = train_x.shape[0] / self.mini_batch_size\n",
    "        \n",
    "        costs = []\n",
    "        \n",
    "        for epoch in range(1, self.num_epochs + 1):\n",
    "            epoch_cost = 0.\n",
    "            for mini_x, mini_y in get_random_minibatches(train_x, train_y, self.mini_batch_size):\n",
    "                _, batch_cost = sess.run([optimizer, cost], feed_dict={x: mini_x, y: mini_y})\n",
    "                epoch_cost += batch_cost / num_mini_batches\n",
    "\n",
    "            if epoch % print_every == 0:\n",
    "                print(\"Cost at {0} epochs = {1}.\".format(epoch, epoch_cost))\n",
    "            if epoch % 5 == 0:\n",
    "                costs.append(epoch_cost)\n",
    "\n",
    "        return costs"
   ]
  },
  {
   "cell_type": "markdown",
   "metadata": {},
   "source": [
    "## Data Preparation\n",
    "\n",
    "Data comes in CSV format, where the first column is the label and the others represent a pixel intensity value between 0 and 255, in cells 0 to 783 (allowing for 784 cells or 28 x 28).\n",
    "\n",
    "Going to load the labels and pixel values into a list, then create a numpy array for them both."
   ]
  },
  {
   "cell_type": "code",
   "execution_count": 3,
   "metadata": {
    "collapsed": true
   },
   "outputs": [],
   "source": [
    "imgs, labels = load_training_set('./data/train.csv')"
   ]
  },
  {
   "cell_type": "code",
   "execution_count": 4,
   "metadata": {},
   "outputs": [
    {
     "data": {
      "image/png": "[encoded data removed]",
      "text/plain": [
       "<IPython.core.display.Image object>"
      ]
     },
     "metadata": {},
     "output_type": "display_data"
    }
   ],
   "source": [
    "show_digit(imgs[305])"
   ]
  },
  {
   "cell_type": "markdown",
   "metadata": {},
   "source": [
    "Next, converting the labels into a one hot matrix and normalising the pixel values by dividing by the max."
   ]
  },
  {
   "cell_type": "code",
   "execution_count": 5,
   "metadata": {
    "collapsed": true
   },
   "outputs": [],
   "source": [
    "labels_one_hot = one_hot(labels, 10)\n",
    "imgs_norm = norm_imgs(imgs)"
   ]
  },
  {
   "cell_type": "code",
   "execution_count": 6,
   "metadata": {
    "collapsed": true
   },
   "outputs": [],
   "source": [
    "assert labels_one_hot.shape == (len(labels), 10)"
   ]
  },
  {
   "cell_type": "markdown",
   "metadata": {},
   "source": [
    "Then split into train/test."
   ]
  },
  {
   "cell_type": "code",
   "execution_count": 7,
   "metadata": {
    "collapsed": true
   },
   "outputs": [],
   "source": [
    "train_x, train_y, dev_x, dev_y = split_train_test(imgs_norm, labels_one_hot, ratio=0.2)"
   ]
  },
  {
   "cell_type": "markdown",
   "metadata": {},
   "source": [
    "## Simple Neural Net\n",
    "\n",
    "Going to start with a baseline 3-layer NN and see what sort of performance I get."
   ]
  },
  {
   "cell_type": "code",
   "execution_count": 45,
   "metadata": {},
   "outputs": [],
   "source": [
    "learning_rate = 0.0001\n",
    "num_epochs = 100\n",
    "print_every = 10\n",
    "mini_batch_size = 64\n",
    "sample_size = 2000"
   ]
  },
  {
   "cell_type": "code",
   "execution_count": 83,
   "metadata": {},
   "outputs": [],
   "source": [
    "tf.reset_default_graph()\n",
    "\n",
    "def dense_model(x, weights, biases):\n",
    "    \"\"\"Simple 3 layer neural net.\"\"\"\n",
    "    z1 = tf.matmul(x, weights['wd1']) + biases['bd1']\n",
    "    fc1 = tf.nn.relu(z1)\n",
    "    z2 = tf.matmul(fc1, weights['wd2']) + biases['bd2']\n",
    "    fc2 = tf.nn.relu(z2)\n",
    "    out = tf.matmul(fc2, weights['out']) + biases['bout']\n",
    "    return out\n",
    "\n",
    "xavier = tf.contrib.layers.xavier_initializer(seed=1)\n",
    "weights = {\n",
    "    'wd1': tf.get_variable('wd1', shape=[784, 256], initializer=xavier),\n",
    "    'wd2': tf.get_variable('wd2', shape=[256, 256], initializer=xavier),\n",
    "    'out': tf.get_variable('out', shape=[256, 10], initializer=xavier)\n",
    "}\n",
    "\n",
    "zeros_initer = tf.zeros_initializer()\n",
    "biases = {\n",
    "    'bd1': tf.get_variable('bd1', shape=[1, 256], initializer=zeros_initer),\n",
    "    'bd2': tf.get_variable('bd2', shape=[1, 256], initializer=zeros_initer),\n",
    "    'bout': tf.get_variable('bout', shape=[1, 10], initializer=zeros_initer)\n",
    "}\n",
    "\n",
    "# Graph input\n",
    "x = tf.placeholder(tf.float32, shape=(None, 784), name='x')\n",
    "y = tf.placeholder(tf.float32, shape=(None, 10), name='y')\n",
    "\n",
    "# Forward prop\n",
    "pred = dense_model(x, weights, biases)\n",
    "\n",
    "# Define loss and optimizer\n",
    "cost = tf.reduce_mean(tf.nn.softmax_cross_entropy_with_logits(logits=pred, labels=y))\n",
    "optimizer = tf.train.AdamOptimizer(learning_rate=learning_rate).minimize(cost)\n",
    "\n",
    "# Evaluate model\n",
    "correct_prediction = tf.equal(tf.argmax(pred, 1), tf.argmax(y, 1))\n",
    "accuracy = tf.reduce_mean(tf.cast(correct_prediction, tf.float32))\n",
    "\n",
    "# Add ops to save and restore all the variables.\n",
    "saver = tf.train.Saver()"
   ]
  },
  {
   "cell_type": "code",
   "execution_count": 87,
   "metadata": {},
   "outputs": [
    {
     "name": "stdout",
     "output_type": "stream",
     "text": [
      "Cost at 10 epochs = 0.08304346367539395.\n",
      "Cost at 20 epochs = 0.02703981552029117.\n",
      "Cost at 30 epochs = 0.006789704098732073.\n",
      "Cost at 40 epochs = 0.0012074729951910693.\n",
      "Cost at 50 epochs = 0.00016943211571829336.\n",
      "Cost at 60 epochs = 1.9304285045493675e-05.\n",
      "Cost at 70 epochs = 1.9428063540347235e-06.\n",
      "Cost at 80 epochs = 1.8789602894729378e-07.\n",
      "Cost at 90 epochs = 2.3866685042040978e-08.\n",
      "Cost at 100 epochs = 6.2336516898618176e-09.\n"
     ]
    },
    {
     "data": {
      "image/png": "[encoded data removed]",
      "text/plain": [
       "<matplotlib.figure.Figure at 0x7fa444873da0>"
      ]
     },
     "metadata": {},
     "output_type": "display_data"
    },
    {
     "name": "stdout",
     "output_type": "stream",
     "text": [
      "Train Accuracy: 0.999999\n",
      "Test Accuracy: 0.974524\n"
     ]
    }
   ],
   "source": [
    "with tf.Session() as sess:\n",
    "    sess.run(tf.global_variables_initializer())\n",
    "    \n",
    "    costs = Epochs(sess, optimizer, cost, accuracy).run(train_x, train_y)\n",
    "\n",
    "    plot_costs(costs)\n",
    "\n",
    "    # Save params\n",
    "    saved_weights = sess.run(weights)\n",
    "    saved_biases = sess.run(biases)\n",
    "    \n",
    "    # Save checkpoint\n",
    "    saver.save(sess, './3_layer_nn.ckpt')\n",
    "\n",
    "    print (\"Train Accuracy:\", accuracy.eval({x: train_x, y: train_y}))\n",
    "    print (\"Test Accuracy:\", accuracy.eval({x: dev_x, y: dev_y}))"
   ]
  },
  {
   "cell_type": "markdown",
   "metadata": {},
   "source": [
    "Can't really beat that for train accuracy! Let's see how the model does on the test data."
   ]
  },
  {
   "cell_type": "code",
   "execution_count": 88,
   "metadata": {},
   "outputs": [],
   "source": [
    "test_imgs = load_test_set('./data/train.csv')\n",
    "test_imgs_norm = test_imgs / 255."
   ]
  },
  {
   "cell_type": "code",
   "execution_count": 94,
   "metadata": {},
   "outputs": [],
   "source": [
    "predictions = predict(test_imgs_norm, saved_weights, saved_biases, dense_model)"
   ]
  },
  {
   "cell_type": "code",
   "execution_count": 95,
   "metadata": {},
   "outputs": [
    {
     "data": {
      "image/png": "[encoded data removed]",
      "text/plain": [
       "<IPython.core.display.Image object>"
      ]
     },
     "metadata": {},
     "output_type": "display_data"
    },
    {
     "data": {
      "text/plain": [
       "(None, 2)"
      ]
     },
     "execution_count": 95,
     "metadata": {},
     "output_type": "execute_result"
    }
   ],
   "source": [
    "show_digit(test_imgs[0]), predictions[0]"
   ]
  },
  {
   "cell_type": "code",
   "execution_count": 96,
   "metadata": {
    "collapsed": true
   },
   "outputs": [],
   "source": [
    "save_predictions(predictions)"
   ]
  },
  {
   "cell_type": "markdown",
   "metadata": {},
   "source": [
    "Achieved 0.97285, which puts me at 919th. Let's see what happens when I add another 2 layers."
   ]
  },
  {
   "cell_type": "markdown",
   "metadata": {},
   "source": [
    "## Slightly Larger Neural Net"
   ]
  },
  {
   "cell_type": "code",
   "execution_count": 100,
   "metadata": {},
   "outputs": [],
   "source": [
    "tf.reset_default_graph()\n",
    "\n",
    "def dense_model_5l(x, weights, biases):\n",
    "    \"\"\"Simple 3 layer neural net.\"\"\"\n",
    "    z1 = tf.matmul(x, weights['wd1']) + biases['bd1']\n",
    "    fc1 = tf.nn.relu(z1)\n",
    "    z2 = tf.matmul(fc1, weights['wd2']) + biases['bd2']\n",
    "    fc2 = tf.nn.relu(z2)\n",
    "    z3 = tf.matmul(fc2, weights['wd3']) + biases['bd3']\n",
    "    fc3 = tf.nn.relu(z3)\n",
    "    z4 = tf.matmul(fc3, weights['wd4']) + biases['bd4']\n",
    "    fc4 = tf.nn.relu(z4)\n",
    "    out = tf.matmul(fc4, weights['out']) + biases['bout']\n",
    "    return out\n",
    "\n",
    "weights = {\n",
    "    'wd1': tf.get_variable('wd1', shape=[784, 256], initializer=xavier),\n",
    "    'wd2': tf.get_variable('wd2', shape=[256, 256], initializer=xavier),\n",
    "    'wd3': tf.get_variable('wd3', shape=[256, 256], initializer=xavier),\n",
    "    'wd4': tf.get_variable('wd4', shape=[256, 256], initializer=xavier),\n",
    "    'out': tf.get_variable('out', shape=[256, 10], initializer=xavier)\n",
    "}\n",
    "\n",
    "zeros_initer = tf.zeros_initializer()\n",
    "biases = {\n",
    "    'bd1': tf.get_variable('bd1', shape=[1, 256], initializer=zeros_initer),\n",
    "    'bd2': tf.get_variable('bd2', shape=[1, 256], initializer=zeros_initer),\n",
    "    'bd3': tf.get_variable('bd3', shape=[1, 256], initializer=zeros_initer),\n",
    "    'bd4': tf.get_variable('bd4', shape=[1, 256], initializer=zeros_initer),\n",
    "    'bout': tf.get_variable('bout', shape=[1, 10], initializer=zeros_initer)\n",
    "}\n",
    "\n",
    "# Graph input\n",
    "x = tf.placeholder(tf.float32, shape=(None, 784), name='x')\n",
    "y = tf.placeholder(tf.float32, shape=(None, 10), name='y')\n",
    "\n",
    "# Forward prop\n",
    "pred = dense_model_5l(x, weights, biases)\n",
    "\n",
    "# Define loss and optimizer\n",
    "cost = tf.reduce_mean(tf.nn.softmax_cross_entropy_with_logits(logits=pred, labels=y))\n",
    "optimizer = tf.train.AdamOptimizer(learning_rate=learning_rate).minimize(cost)\n",
    "\n",
    "# Evaluate model\n",
    "correct_prediction = tf.equal(tf.argmax(pred, 1), tf.argmax(y, 1))\n",
    "accuracy = tf.reduce_mean(tf.cast(correct_prediction, tf.float32))\n",
    "\n",
    "# Add ops to save and restore all the variables.\n",
    "saver = tf.train.Saver()"
   ]
  },
  {
   "cell_type": "code",
   "execution_count": 101,
   "metadata": {},
   "outputs": [
    {
     "name": "stdout",
     "output_type": "stream",
     "text": [
      "Cost at 10 epochs = 0.038024624761726154.\n",
      "Cost at 20 epochs = 0.007882580723006466.\n",
      "Cost at 30 epochs = 0.0025960843369756733.\n",
      "Cost at 40 epochs = 8.784673342306963e-05.\n",
      "Cost at 50 epochs = 8.656716566425033e-06.\n",
      "Cost at 60 epochs = 5.958022685339942e-07.\n",
      "Cost at 70 epochs = 3.57414783953252e-08.\n",
      "Cost at 80 epochs = 2.9944235785130857e-09.\n",
      "Cost at 90 epochs = 0.005330799816619947.\n",
      "Cost at 100 epochs = 3.07011244511183e-05.\n"
     ]
    },
    {
     "data": {
      "image/png": "[encoded data removed]",
      "text/plain": [
       "<matplotlib.figure.Figure at 0x7fa4446430f0>"
      ]
     },
     "metadata": {},
     "output_type": "display_data"
    },
    {
     "name": "stdout",
     "output_type": "stream",
     "text": [
      "Train Accuracy: 0.999999\n",
      "Test Accuracy: 0.975357\n"
     ]
    }
   ],
   "source": [
    "with tf.Session() as sess:\n",
    "    sess.run(tf.global_variables_initializer())\n",
    "    \n",
    "    costs = Epochs(sess, optimizer, cost, accuracy).run(train_x, train_y)\n",
    "\n",
    "    plot_costs(costs)\n",
    "\n",
    "    # Save params\n",
    "    saved_weights = sess.run(weights)\n",
    "    saved_biases = sess.run(biases)\n",
    "    \n",
    "    # Save checkpoint\n",
    "    saver.save(sess, './5_layer_nn.ckpt')\n",
    "\n",
    "    print (\"Train Accuracy:\", accuracy.eval({x: train_x, y: train_y}))\n",
    "    print (\"Test Accuracy:\", accuracy.eval({x: dev_x, y: dev_y}))"
   ]
  },
  {
   "cell_type": "markdown",
   "metadata": {},
   "source": [
    "Slightly better. Gets me a score of 0.97357, which gets me to 911 place - about 8 places better than before.\n",
    "\n",
    "Looks like I'm overfitting, since the training accuracy is close to 100%, so let's think about:\n",
    "\n",
    "  * Regularisation (L2 norm, dropout)\n",
    "  * Maybe data augmentation?\n",
    "  * Different architecture? CNN etc.\n",
    "\n",
    "Let's start with regularisation. Regularisation is a technique for encouraging weights to be smaller by basically adding the weights to the cost function. The point of it is to ensure a single weight doesn't get too big, thus overfitting the training data, and therefore we hope it generalises better on the dev/test set. L2 regularisation is simply the sum of the squared weights. Something like:\n",
    "\n",
    "$\\sum\\limits_{i=1}^{k} {w_i}^2$\n",
    "\n",
    "You also provide a \"lambda\" component that represents how much regularisation you want. A very high lambda, will ensure regularisation has a huge impact. A lambda of 0, will ensure regularisation has no impact. Tensorflow provides a method for implementing L2 regularisation in the cost function in `tf.nn.l2_loss` and would be implemented as follows:\n",
    "\n",
    "```\n",
    "cost = tf.reduce_mean(tf.nn.softmax_cross_entropy_with_logits(logits=logits, labels=labels)\n",
    "cost += 0.01 * tf.nn.l2_loss(weights)\n",
    "```\n",
    "\n",
    "Note: generally you don't need to regularise the bias term. I have gone back and refactored the `get_cost` method to add l2 reg."
   ]
  },
  {
   "cell_type": "markdown",
   "metadata": {},
   "source": [
    "## Neural Net with L2 Reg"
   ]
  },
  {
   "cell_type": "code",
   "execution_count": 104,
   "metadata": {
    "collapsed": true
   },
   "outputs": [],
   "source": [
    "# Cost with L2 penalty.\n",
    "cost = tf.reduce_mean(tf.nn.softmax_cross_entropy_with_logits(logits=pred, labels=y))\n",
    "for key, val in weights.items():\n",
    "    cost += 0.001 * tf.nn.l2_loss(val)\n",
    "optimizer = tf.train.AdamOptimizer(learning_rate=learning_rate).minimize(cost)"
   ]
  },
  {
   "cell_type": "code",
   "execution_count": 105,
   "metadata": {},
   "outputs": [
    {
     "name": "stdout",
     "output_type": "stream",
     "text": [
      "Cost at 10 epochs = 0.3689410477025169.\n",
      "Cost at 20 epochs = 0.22481579613117963.\n",
      "Cost at 30 epochs = 0.14487573879105708.\n",
      "Cost at 40 epochs = 0.10991901735464742.\n",
      "Cost at 50 epochs = 0.09348163339353749.\n",
      "Cost at 60 epochs = 0.08667908610332578.\n",
      "Cost at 70 epochs = 0.07979310047058827.\n",
      "Cost at 80 epochs = 0.07807796430020106.\n",
      "Cost at 90 epochs = 0.07642236336356113.\n",
      "Cost at 100 epochs = 0.07902042764992945.\n"
     ]
    },
    {
     "data": {
      "image/png": "[encoded data removed]",
      "text/plain": [
       "<matplotlib.figure.Figure at 0x7fa444470160>"
      ]
     },
     "metadata": {},
     "output_type": "display_data"
    },
    {
     "name": "stdout",
     "output_type": "stream",
     "text": [
      "Train Accuracy: 0.99854\n",
      "Test Accuracy: 0.972381\n"
     ]
    }
   ],
   "source": [
    "with tf.Session() as sess:\n",
    "    sess.run(tf.global_variables_initializer())\n",
    "    \n",
    "    costs = Epochs(sess, optimizer, cost, accuracy).run(train_x, train_y)\n",
    "\n",
    "    plot_costs(costs)\n",
    "\n",
    "    # Save params\n",
    "    saved_weights = sess.run(weights)\n",
    "    saved_biases = sess.run(biases)\n",
    "    \n",
    "    # Save checkpoint\n",
    "    saver.save(sess, './5_layer_nn_l2.ckpt')\n",
    "\n",
    "    print (\"Train Accuracy:\", accuracy.eval({x: train_x, y: train_y}))\n",
    "    print (\"Test Accuracy:\", accuracy.eval({x: dev_x, y: dev_y}))"
   ]
  },
  {
   "cell_type": "markdown",
   "metadata": {},
   "source": [
    "It appears to take much longer to converge and training accuracy has decreased. Seems to have helped with overfitting a lil but hasn't helped with dev accuracy. Let's get drastic and introduce a conv layer with dropout."
   ]
  },
  {
   "cell_type": "markdown",
   "metadata": {},
   "source": [
    "## Small Convolution Neural Network\n",
    "\n",
    "Conv layers are essentially a tool for performing automated feature engineering, discovering stand out patterns an dd the like in the image content. They can be implemented in Tensorflow using `tf.nn.conv2d`.\n",
    "\n",
    "Going to see if I can improve upon the dev accuracy with a simple 2 conv and 3 FC network."
   ]
  },
  {
   "cell_type": "code",
   "execution_count": 111,
   "metadata": {},
   "outputs": [],
   "source": [
    "tf.reset_default_graph()\n",
    "\n",
    "def conv_2d_block(x, weight, bias, strides=1):\n",
    "    # Strides refers to the \"stride of the sliding window for each dimension of input\"\n",
    "    x = tf.nn.conv2d(x, weight, strides=[1, strides, strides, 1], padding='SAME')\n",
    "    x = tf.nn.bias_add(x, bias)\n",
    "    x = tf.nn.relu(x)\n",
    "    return x\n",
    "\n",
    "\n",
    "def maxpool2d(x, k=2):\n",
    "    return tf.nn.max_pool(x, ksize=[1, k, k, 1], strides=[1, k, k, 1], padding='SAME')\n",
    "\n",
    "\n",
    "def conv_net(x, weights, biases, keep_prob=1):\n",
    "    # Need to be reshaped from flattened format for some reason?\n",
    "    # Tensorflow is 4d: (height, width, num channels, dataset size)\n",
    "    x = tf.reshape(x, shape=[-1, 28, 28, 1])\n",
    "    \n",
    "    conv1 = conv_2d_block(x, weights['wc1'], biases['bc1'])\n",
    "    conv1 = maxpool2d(conv1, k=2)\n",
    "    \n",
    "    conv2 = conv_2d_block(conv1, weights['wc2'], biases['bc2'])\n",
    "    conv2 = maxpool2d(conv2, k=2)\n",
    "    \n",
    "    # Need to flatten out the output for the fully connected layers\n",
    "    fc1 = tf.reshape(conv2, [-1, weights['wd1'].get_shape().as_list()[0]])\n",
    "    fc1 = tf.add(tf.matmul(fc1, weights['wd1']), biases['bd1'])\n",
    "    fc1 = tf.nn.relu(fc1)\n",
    "    \n",
    "    # Apply Dropout in fully-connected layer\n",
    "    fc1 = tf.nn.dropout(fc1, keep_prob)\n",
    "    \n",
    "    # Output, class prediction\n",
    "    out = tf.add(tf.matmul(fc1, weights['out']), biases['bout'])\n",
    "    \n",
    "    return out\n",
    "\n",
    "\n",
    "weights = {\n",
    "    'wc1': tf.get_variable('wc1', [5, 5, 1, 32], initializer=xavier),\n",
    "    'wc2': tf.get_variable('wc2', [5, 5, 32, 64], initializer=xavier),\n",
    "    'wd1': tf.get_variable('wd1', [7*7*64, 1024], initializer=xavier),\n",
    "    'out': tf.get_variable('out', [1024, 10], initializer=xavier)\n",
    "}\n",
    "\n",
    "biases = {\n",
    "    'bc1': tf.get_variable('bc1', [32], initializer=zeros_initer),\n",
    "    'bc2': tf.get_variable('bc2', [64], initializer=zeros_initer),\n",
    "    'bd1': tf.get_variable('bd1', [1024], initializer=zeros_initer),\n",
    "    'bout': tf.get_variable('bout', [10], initializer=zeros_initer)\n",
    "}\n",
    "\n",
    "# Graph input\n",
    "x = tf.placeholder(tf.float32, shape=(None, 784), name='x')\n",
    "y = tf.placeholder(tf.float32, shape=(None, 10), name='y')\n",
    "\n",
    "# Forward prop\n",
    "pred = conv_net(x, weights, biases)\n",
    "\n",
    "# Define loss and optimizer\n",
    "cost = tf.reduce_mean(tf.nn.softmax_cross_entropy_with_logits(logits=pred, labels=y))\n",
    "optimizer = tf.train.AdamOptimizer(learning_rate=learning_rate).minimize(cost)\n",
    "\n",
    "# Evaluate model\n",
    "correct_prediction = tf.equal(tf.argmax(pred, 1), tf.argmax(y, 1))\n",
    "accuracy = tf.reduce_mean(tf.cast(correct_prediction, tf.float32))\n",
    "\n",
    "# Add ops to save and restore all the variables.\n",
    "saver = tf.train.Saver()"
   ]
  },
  {
   "cell_type": "code",
   "execution_count": 112,
   "metadata": {},
   "outputs": [
    {
     "name": "stdout",
     "output_type": "stream",
     "text": [
      "Cost at 10 epochs = 0.017056850735430725.\n",
      "Cost at 20 epochs = 0.006346759873551838.\n",
      "Cost at 30 epochs = 0.0060927267088421435.\n",
      "Cost at 40 epochs = 6.565905221851234e-05.\n",
      "Cost at 50 epochs = 0.00015860413668425123.\n",
      "Cost at 60 epochs = 8.268312847394508e-06.\n",
      "Cost at 70 epochs = 8.101901206558104e-07.\n",
      "Cost at 80 epochs = 8.699604760698285e-06.\n",
      "Cost at 90 epochs = 9.510804320054348e-07.\n",
      "Cost at 100 epochs = 9.441619282402061e-08.\n"
     ]
    },
    {
     "data": {
      "image/png": "[encoded data removed]",
      "text/plain": [
       "<matplotlib.figure.Figure at 0x7fa41ec60828>"
      ]
     },
     "metadata": {},
     "output_type": "display_data"
    },
    {
     "name": "stdout",
     "output_type": "stream",
     "text": [
      "Train Accuracy: 0.999999\n",
      "Test Accuracy: 0.98881\n"
     ]
    }
   ],
   "source": [
    "with tf.Session() as sess:\n",
    "    sess.run(tf.global_variables_initializer())\n",
    "    \n",
    "    costs = Epochs(sess, optimizer, cost, accuracy).run(train_x, train_y)\n",
    "\n",
    "    plot_costs(costs)\n",
    "\n",
    "    # Save params\n",
    "    saved_weights = sess.run(weights)\n",
    "    saved_biases = sess.run(biases)\n",
    "    \n",
    "    # Save checkpoint\n",
    "    saver.save(sess, './cnn.ckpt')\n",
    "\n",
    "    print (\"Train Accuracy:\", accuracy.eval({x: train_x, y: train_y}))\n",
    "    print (\"Test Accuracy:\", accuracy.eval({x: dev_x, y: dev_y}))"
   ]
  },
  {
   "cell_type": "code",
   "execution_count": 114,
   "metadata": {},
   "outputs": [],
   "source": [
    "predictions = predict(test_imgs_norm, saved_weights, saved_biases, conv_net)"
   ]
  },
  {
   "cell_type": "code",
   "execution_count": 115,
   "metadata": {
    "collapsed": true
   },
   "outputs": [],
   "source": [
    "save_predictions(predictions, 'conv_predictions.csv')"
   ]
  },
  {
   "cell_type": "markdown",
   "metadata": {},
   "source": [
    "Holy shit!\n",
    "\n",
    "You advanced 546 places on the leaderboard!\n",
    "Your submission scored 0.99128, which is an improvement of your previous score of 0.97357.\n",
    "\n",
    "Next up, let's try pseudo-labelling. Where our model is \"trained in a supervised fashion with labeled and unlabeled data simultaneously. For unlabeled data, Pseudo-Labels, just picking up the class which has the maximum predicted probability every weights update, are used as if they were true labels.\""
   ]
  },
  {
   "cell_type": "markdown",
   "metadata": {},
   "source": [
    "## Pseudo labelling"
   ]
  },
  {
   "cell_type": "code",
   "execution_count": 116,
   "metadata": {
    "collapsed": true
   },
   "outputs": [],
   "source": [
    "pseudo_test_labels = one_hot(predictions, 10)"
   ]
  },
  {
   "cell_type": "code",
   "execution_count": 118,
   "metadata": {},
   "outputs": [
    {
     "name": "stdout",
     "output_type": "stream",
     "text": [
      "(28000, 784)\n",
      "(33600, 784)\n",
      "(33600, 10)\n",
      "(28000, 10)\n"
     ]
    }
   ],
   "source": [
    "print(test_imgs_norm.shape)\n",
    "print(train_x.shape)\n",
    "print(train_y.shape)\n",
    "print(pseudo_test_labels.shape)"
   ]
  },
  {
   "cell_type": "code",
   "execution_count": 119,
   "metadata": {
    "collapsed": true
   },
   "outputs": [],
   "source": [
    "# Create a new x and y concatenating the train and test data.\n",
    "pseudo_x = np.concatenate([train_x, test_imgs_norm])\n",
    "pseudo_y = np.concatenate([train_y, pseudo_test_labels])"
   ]
  },
  {
   "cell_type": "code",
   "execution_count": 121,
   "metadata": {},
   "outputs": [
    {
     "name": "stdout",
     "output_type": "stream",
     "text": [
      "(61600, 784)\n",
      "(61600, 10)\n"
     ]
    }
   ],
   "source": [
    "print(pseudo_x.shape)\n",
    "print(pseudo_y.shape)"
   ]
  },
  {
   "cell_type": "markdown",
   "metadata": {},
   "source": [
    "So we are almost doubling our training set. Let's see how we go!"
   ]
  },
  {
   "cell_type": "code",
   "execution_count": 317,
   "metadata": {},
   "outputs": [
    {
     "name": "stdout",
     "output_type": "stream",
     "text": [
      "Cost at 10 epochs = 0.007954768680713388.\n",
      "Cost at 20 epochs = 0.002819270832757993.\n",
      "Cost at 30 epochs = 0.0017868660449980118.\n",
      "Cost at 40 epochs = 0.0016041284174197086.\n",
      "Cost at 50 epochs = 2.4763114098218713e-05.\n",
      "Cost at 60 epochs = 2.0077586010575573e-05.\n",
      "Cost at 70 epochs = 0.0018829280603535282.\n",
      "Cost at 80 epochs = 6.87268844323451e-07.\n",
      "Cost at 90 epochs = 0.00013379176008166207.\n",
      "Cost at 100 epochs = 4.5902159885259003e-07.\n"
     ]
    },
    {
     "data": {
      "image/png": "[encoded data removed]",
      "text/plain": [
       "<matplotlib.figure.Figure at 0x7fa41ecc2208>"
      ]
     },
     "metadata": {},
     "output_type": "display_data"
    },
    {
     "name": "stdout",
     "output_type": "stream",
     "text": [
      "Test Accuracy: 0.990715\n"
     ]
    }
   ],
   "source": [
    "with tf.Session() as sess:\n",
    "    sess.run(tf.global_variables_initializer())\n",
    "    \n",
    "    costs = Epochs(sess, optimizer, cost, accuracy).run(pseudo_x, pseudo_y)\n",
    "\n",
    "    plot_costs(costs)\n",
    "\n",
    "    # Save params\n",
    "    saved_weights = sess.run(weights)\n",
    "    saved_biases = sess.run(biases)\n",
    "    \n",
    "    # Save checkpoint\n",
    "    saver.save(sess, './cnn_pseudo.ckpt')\n",
    "\n",
    "    print (\"Test Accuracy:\", accuracy.eval({x: dev_x, y: dev_y}))"
   ]
  },
  {
   "cell_type": "code",
   "execution_count": 319,
   "metadata": {
    "collapsed": true
   },
   "outputs": [],
   "source": [
    "pseudo_predictions = predict(test_imgs_norm, saved_weights, saved_biases, conv_net)\n",
    "save_predictions(pseudo_predictions, 'pseudo_label_conv_predictions.csv')"
   ]
  },
  {
   "cell_type": "markdown",
   "metadata": {},
   "source": [
    "## Model Evaluation\n",
    "\n",
    "Didn't help at all...let's look at some of the bad predictions from the dev set."
   ]
  },
  {
   "cell_type": "code",
   "execution_count": 320,
   "metadata": {
    "collapsed": true
   },
   "outputs": [],
   "source": [
    "dev_predictions = predict(dev_x, saved_weights, saved_biases, conv_net)"
   ]
  },
  {
   "cell_type": "code",
   "execution_count": 321,
   "metadata": {},
   "outputs": [],
   "source": [
    "bad_predictions = dev_predictions != np.argmax(dev_y, 1)"
   ]
  },
  {
   "cell_type": "code",
   "execution_count": 322,
   "metadata": {
    "collapsed": true
   },
   "outputs": [],
   "source": [
    "dev_imgs = dev_x * 255\n",
    "dev_labels = np.argmax(dev_y, 1)"
   ]
  },
  {
   "cell_type": "code",
   "execution_count": 323,
   "metadata": {},
   "outputs": [],
   "source": [
    "bad_imgs = dev_imgs[bad_predictions]\n",
    "bad_labels = dev_predictions[bad_predictions]\n",
    "actual_labels = dev_labels[bad_predictions]"
   ]
  },
  {
   "cell_type": "code",
   "execution_count": 325,
   "metadata": {},
   "outputs": [
    {
     "name": "stdout",
     "output_type": "stream",
     "text": [
      "Predicted 8, actual 5\n"
     ]
    },
    {
     "data": {
      "image/png": "[encoded data removed]",
      "text/plain": [
       "<IPython.core.display.Image object>"
      ]
     },
     "metadata": {},
     "output_type": "display_data"
    },
    {
     "name": "stdout",
     "output_type": "stream",
     "text": [
      "Predicted 4, actual 1\n"
     ]
    },
    {
     "data": {
      "image/png": "[encoded data removed]",
      "text/plain": [
       "<IPython.core.display.Image object>"
      ]
     },
     "metadata": {},
     "output_type": "display_data"
    },
    {
     "name": "stdout",
     "output_type": "stream",
     "text": [
      "Predicted 2, actual 3\n"
     ]
    },
    {
     "data": {
      "image/png": "[encoded data removed]",
      "text/plain": [
       "<IPython.core.display.Image object>"
      ]
     },
     "metadata": {},
     "output_type": "display_data"
    },
    {
     "name": "stdout",
     "output_type": "stream",
     "text": [
      "Predicted 9, actual 4\n"
     ]
    },
    {
     "data": {
      "image/png": "[encoded data removed]",
      "text/plain": [
       "<IPython.core.display.Image object>"
      ]
     },
     "metadata": {},
     "output_type": "display_data"
    },
    {
     "name": "stdout",
     "output_type": "stream",
     "text": [
      "Predicted 5, actual 8\n"
     ]
    },
    {
     "data": {
      "image/png": "[encoded data removed]",
      "text/plain": [
       "<IPython.core.display.Image object>"
      ]
     },
     "metadata": {},
     "output_type": "display_data"
    },
    {
     "name": "stdout",
     "output_type": "stream",
     "text": [
      "Predicted 0, actual 9\n"
     ]
    },
    {
     "data": {
      "image/png": "[encoded data removed]",
      "text/plain": [
       "<IPython.core.display.Image object>"
      ]
     },
     "metadata": {},
     "output_type": "display_data"
    },
    {
     "name": "stdout",
     "output_type": "stream",
     "text": [
      "Predicted 7, actual 2\n"
     ]
    },
    {
     "data": {
      "image/png": "[encoded data removed]",
      "text/plain": [
       "<IPython.core.display.Image object>"
      ]
     },
     "metadata": {},
     "output_type": "display_data"
    },
    {
     "name": "stdout",
     "output_type": "stream",
     "text": [
      "Predicted 3, actual 7\n"
     ]
    },
    {
     "data": {
      "image/png": "[encoded data removed]",
      "text/plain": [
       "<IPython.core.display.Image object>"
      ]
     },
     "metadata": {},
     "output_type": "display_data"
    },
    {
     "name": "stdout",
     "output_type": "stream",
     "text": [
      "Predicted 2, actual 1\n"
     ]
    },
    {
     "data": {
      "image/png": "[encoded data removed]",
      "text/plain": [
       "<IPython.core.display.Image object>"
      ]
     },
     "metadata": {},
     "output_type": "display_data"
    },
    {
     "name": "stdout",
     "output_type": "stream",
     "text": [
      "Predicted 8, actual 9\n"
     ]
    },
    {
     "data": {
      "image/png": "[encoded data removed]",
      "text/plain": [
       "<IPython.core.display.Image object>"
      ]
     },
     "metadata": {},
     "output_type": "display_data"
    }
   ],
   "source": [
    "for i in range(0, 10):\n",
    "    print('Predicted {0}, actual {1}'.format(bad_labels[i], actual_labels[i]))\n",
    "    show_digit(np.uint8(bad_imgs[i]))"
   ]
  },
  {
   "cell_type": "markdown",
   "metadata": {},
   "source": [
    "Seems to be struggling with the poorly written labels. I'm thinking some light data augmentation may help a little bit?\n",
    "\n",
    "Start with rotation range."
   ]
  },
  {
   "cell_type": "markdown",
   "metadata": {},
   "source": [
    "## Data augmentation"
   ]
  },
  {
   "cell_type": "code",
   "execution_count": 318,
   "metadata": {},
   "outputs": [
    {
     "data": {
      "image/png": "[encoded data removed]",
      "text/plain": [
       "<IPython.core.display.Image object>"
      ]
     },
     "metadata": {},
     "output_type": "display_data"
    }
   ],
   "source": [
    "gen = tf.contrib.keras.preprocessing.image.ImageDataGenerator(rotation_range=0.1)\n",
    "random = gen.random_transform(train_x.reshape(-1, 784, 1), seed=42)\n",
    "show_digit(np.uint8(random[10] * 255))"
   ]
  },
  {
   "cell_type": "markdown",
   "metadata": {},
   "source": [
    "Play with zoom range too."
   ]
  },
  {
   "cell_type": "code",
   "execution_count": 291,
   "metadata": {},
   "outputs": [
    {
     "data": {
      "image/png": "[encoded data removed]",
      "text/plain": [
       "<IPython.core.display.Image object>"
      ]
     },
     "metadata": {},
     "output_type": "display_data"
    }
   ],
   "source": [
    "gen = tf.contrib.keras.preprocessing.image.ImageDataGenerator(zoom_range=0.03)\n",
    "random = gen.random_transform(train_x.reshape(-1, 28, 28, 1), seed=42)\n",
    "show_digit(np.uint8(random[10] * 255))"
   ]
  },
  {
   "cell_type": "code",
   "execution_count": 296,
   "metadata": {
    "collapsed": true
   },
   "outputs": [],
   "source": [
    "gen = tf.contrib.keras.preprocessing.image.ImageDataGenerator(zoom_range=0.03, rotation_range=0.1)"
   ]
  },
  {
   "cell_type": "code",
   "execution_count": 315,
   "metadata": {},
   "outputs": [
    {
     "name": "stdout",
     "output_type": "stream",
     "text": [
      "Cost at 10 epochs = 0.018868892244589947.\n",
      "Cost at 20 epochs = 0.0044688371736646346.\n",
      "Cost at 30 epochs = 0.0012921704514270629.\n",
      "Cost at 40 epochs = 0.000813735379515492.\n",
      "Cost at 50 epochs = 0.004499603806870287.\n",
      "Cost at 60 epochs = 9.888685709936013e-05.\n",
      "Cost at 70 epochs = 0.00019204514981416705.\n",
      "Cost at 80 epochs = 1.007818992651349e-05.\n",
      "Cost at 90 epochs = 8.14517833379655e-06.\n",
      "Cost at 100 epochs = 1.2189900996006288e-05.\n"
     ]
    },
    {
     "data": {
      "image/png": "[encoded data removed]",
      "text/plain": [
       "<matplotlib.figure.Figure at 0x7fa444bfaf98>"
      ]
     },
     "metadata": {},
     "output_type": "display_data"
    },
    {
     "name": "stdout",
     "output_type": "stream",
     "text": [
      "Test Accuracy: 0.989524\n"
     ]
    }
   ],
   "source": [
    "class EpochsFromBatches(Epochs):\n",
    "    \n",
    "    \"\"\"To do: clean me up.\"\"\"\n",
    "    \n",
    "    def run(self, train_x, train_y, gen):\n",
    "        num_mini_batches = train_x.shape[0] / self.mini_batch_size\n",
    "        \n",
    "        costs = []\n",
    "        \n",
    "        for epoch in range(1, self.num_epochs + 1):\n",
    "            epoch_cost = 0.\n",
    "            \n",
    "            batch_count = 0\n",
    "            for mini_x, mini_y in gen.flow(train_x, train_y, batch_size=self.mini_batch_size):\n",
    "                mini_x = mini_x.reshape((-1, 784))\n",
    "                _, batch_cost = sess.run([optimizer, cost], feed_dict={x: mini_x, y: mini_y})\n",
    "                epoch_cost += batch_cost / num_mini_batches\n",
    "                batch_count += 1\n",
    "                \n",
    "                if batch_count > (num_mini_batches):\n",
    "                    break\n",
    "\n",
    "            if epoch % print_every == 0:\n",
    "                print(\"Cost at {0} epochs = {1}.\".format(epoch, epoch_cost))\n",
    "            if epoch % 5 == 0:\n",
    "                costs.append(epoch_cost)\n",
    "\n",
    "        return costs\n",
    "        \n",
    "train_x_3d = train_x.reshape(-1, 28, 28, 1)\n",
    "with tf.Session() as sess:\n",
    "    sess.run(tf.global_variables_initializer())\n",
    "    \n",
    "    costs = EpochsFromBatches(sess, optimizer, cost, accuracy).run(train_x_3d, train_y, gen)\n",
    "\n",
    "    plot_costs(costs)\n",
    "\n",
    "    # Save params\n",
    "    saved_weights = sess.run(weights)\n",
    "    saved_biases = sess.run(biases)\n",
    "    \n",
    "    # Save checkpoint\n",
    "    saver.save(sess, './cnn_pseudo_aug.ckpt')\n",
    "\n",
    "    print (\"Test Accuracy:\", accuracy.eval({x: dev_x, y: dev_y}))"
   ]
  },
  {
   "cell_type": "code",
   "execution_count": 316,
   "metadata": {
    "collapsed": true
   },
   "outputs": [],
   "source": [
    "aug_predictions = predict(test_imgs_norm, saved_weights, saved_biases, conv_net)\n",
    "save_predictions(aug_predictions, 'aug_predictions.csv')"
   ]
  },
  {
   "cell_type": "markdown",
   "metadata": {},
   "source": [
    "Didn't help at all :(\n",
    "\n",
    "Let's try a bigger architecture."
   ]
  },
  {
   "cell_type": "markdown",
   "metadata": {},
   "source": [
    "## Larger CNN (5 conv and 3 FC)\n",
    "\n",
    "To do."
   ]
  },
  {
   "cell_type": "code",
   "execution_count": null,
   "metadata": {
    "collapsed": true
   },
   "outputs": [],
   "source": []
  }
 ],
 "metadata": {
  "kernelspec": {
   "display_name": "Python 3",
   "language": "python",
   "name": "python3"
  },
  "language_info": {
   "codemirror_mode": {
    "name": "ipython",
    "version": 3
   },
   "file_extension": ".py",
   "mimetype": "text/x-python",
   "name": "python",
   "nbconvert_exporter": "python",
   "pygments_lexer": "ipython3",
   "version": "3.6.2"
  }
 },
 "nbformat": 4,
 "nbformat_minor": 2
}
