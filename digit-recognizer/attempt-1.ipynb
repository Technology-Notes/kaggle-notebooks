{
 "cells": [
  {
   "cell_type": "code",
   "execution_count": 1,
   "metadata": {
    "collapsed": true
   },
   "outputs": [],
   "source": [
    "import math\n",
    "from io import BytesIO\n",
    "\n",
    "import tensorflow as tf\n",
    "import numpy as np\n",
    "import PIL.Image\n",
    "import IPython.display\n",
    "import matplotlib.pyplot as plt\n",
    "\n",
    "%matplotlib inline"
   ]
  },
  {
   "cell_type": "markdown",
   "metadata": {},
   "source": [
    "## Preparing the data\n",
    "\n",
    "Data comes in CSV format, where the first column is the label and the others represent a pixel intensity value between 0 and 255, in cells 0 to 783 (allowing for 784 cells or 28 x 28).\n",
    "\n",
    "Going to load the labels and pixel values into a list, then create a numpy array for them both."
   ]
  },
  {
   "cell_type": "code",
   "execution_count": 2,
   "metadata": {
    "collapsed": true
   },
   "outputs": [],
   "source": [
    "import csv\n",
    "\n",
    "fh = open('./data/train.csv')\n",
    "reader = csv.reader(fh)\n",
    "\n",
    "# Skip header line\n",
    "_ = next(reader)"
   ]
  },
  {
   "cell_type": "code",
   "execution_count": 3,
   "metadata": {
    "collapsed": true
   },
   "outputs": [],
   "source": [
    "labels = []\n",
    "imgs = []\n",
    "\n",
    "for line in reader:\n",
    "    label, img = line[0], line[1:]\n",
    "    \n",
    "    labels.append(label)\n",
    "    imgs.append(img)"
   ]
  },
  {
   "cell_type": "code",
   "execution_count": 4,
   "metadata": {},
   "outputs": [
    {
     "data": {
      "text/plain": [
       "784"
      ]
     },
     "execution_count": 4,
     "metadata": {},
     "output_type": "execute_result"
    }
   ],
   "source": [
    "len(imgs[0])"
   ]
  },
  {
   "cell_type": "code",
   "execution_count": 5,
   "metadata": {
    "collapsed": true
   },
   "outputs": [],
   "source": [
    "imgs = np.uint8(imgs)"
   ]
  },
  {
   "cell_type": "code",
   "execution_count": 6,
   "metadata": {},
   "outputs": [
    {
     "name": "stdout",
     "output_type": "stream",
     "text": [
      "(42000, 784)\n"
     ]
    }
   ],
   "source": [
    "print(imgs.shape)"
   ]
  },
  {
   "cell_type": "code",
   "execution_count": 7,
   "metadata": {
    "collapsed": true
   },
   "outputs": [],
   "source": [
    "def show_digit(a, fmt='png'):\n",
    "    \"\"\"To do: optionally show label here.\"\"\"\n",
    "    a = a.reshape((28, 28))\n",
    "    f = BytesIO()\n",
    "    PIL.Image.fromarray(a).save(f, fmt)\n",
    "    IPython.display.display(IPython.display.Image(data=f.getvalue()))"
   ]
  },
  {
   "cell_type": "code",
   "execution_count": 8,
   "metadata": {},
   "outputs": [
    {
     "data": {
      "image/png": "[encoded data removed]",
      "text/plain": [
       "<IPython.core.display.Image object>"
      ]
     },
     "metadata": {},
     "output_type": "display_data"
    }
   ],
   "source": [
    "show_digit(imgs[500])"
   ]
  },
  {
   "cell_type": "code",
   "execution_count": 9,
   "metadata": {},
   "outputs": [
    {
     "data": {
      "image/png": "[encoded data removed]",
      "text/plain": [
       "<IPython.core.display.Image object>"
      ]
     },
     "metadata": {},
     "output_type": "display_data"
    }
   ],
   "source": [
    "show_digit(imgs[305])"
   ]
  },
  {
   "cell_type": "code",
   "execution_count": 10,
   "metadata": {},
   "outputs": [
    {
     "data": {
      "text/plain": [
       "array([1, 0, 1, 4, 0], dtype=uint8)"
      ]
     },
     "execution_count": 10,
     "metadata": {},
     "output_type": "execute_result"
    }
   ],
   "source": [
    "labels = np.uint8(labels)\n",
    "labels_sample = labels[:1000]\n",
    "labels_sample[:5]"
   ]
  },
  {
   "cell_type": "markdown",
   "metadata": {},
   "source": [
    "Next, converting the labels into a one hot matrix and normalising the pixel values by dividing by the max."
   ]
  },
  {
   "cell_type": "code",
   "execution_count": 11,
   "metadata": {
    "collapsed": true
   },
   "outputs": [],
   "source": [
    "C = tf.constant(10, name='c')\n",
    "one_hot_matrix = tf.one_hot(labels, C, axis=1, dtype=tf.uint8)\n",
    "\n",
    "sess = tf.Session()\n",
    "labels_one_hot = sess.run(one_hot_matrix)\n",
    "sess.close()\n",
    "\n",
    "imgs_norm = imgs / 255"
   ]
  },
  {
   "cell_type": "code",
   "execution_count": 12,
   "metadata": {
    "collapsed": true
   },
   "outputs": [],
   "source": [
    "assert labels_one_hot.shape == (len(labels), 10)"
   ]
  },
  {
   "cell_type": "code",
   "execution_count": 13,
   "metadata": {
    "collapsed": true
   },
   "outputs": [],
   "source": [
    "dev_set_size = int(len(imgs_norm) * 0.2)\n",
    "\n",
    "training_imgs_X = imgs_norm[dev_set_size:,:]\n",
    "training_labels_y = labels_one_hot[dev_set_size:,:]\n",
    "\n",
    "dev_imgs_X = imgs_norm[:dev_set_size,:]\n",
    "dev_labels_y = labels_one_hot[:dev_set_size,:]"
   ]
  },
  {
   "cell_type": "code",
   "execution_count": 14,
   "metadata": {},
   "outputs": [
    {
     "name": "stdout",
     "output_type": "stream",
     "text": [
      "Training X shape:  (33600, 784)\n",
      "Training y shape:  (33600, 10)\n",
      "Dev X shape:  (8400, 784)\n",
      "Dev y shape:  (8400, 10)\n"
     ]
    }
   ],
   "source": [
    "print(\"Training X shape: \", training_imgs_X.shape)\n",
    "print(\"Training y shape: \", training_labels_y.shape)\n",
    "\n",
    "print(\"Dev X shape: \", dev_imgs_X.shape)\n",
    "print(\"Dev y shape: \", dev_labels_y.shape)"
   ]
  },
  {
   "cell_type": "markdown",
   "metadata": {},
   "source": [
    "## Simple Neural Net\n",
    "\n",
    "Going to build a simple 3-layer NN and see what sort of performance I get. Setting the mini batch size to 64."
   ]
  },
  {
   "cell_type": "code",
   "execution_count": 15,
   "metadata": {
    "collapsed": true
   },
   "outputs": [],
   "source": [
    "num_digits = 10\n",
    "learning_rate = 0.0001\n",
    "num_epochs = 1000\n",
    "print_every = 100\n",
    "mini_batch_size = 64\n",
    "sample_size = 2000"
   ]
  },
  {
   "cell_type": "code",
   "execution_count": 16,
   "metadata": {
    "collapsed": true
   },
   "outputs": [],
   "source": [
    "def get_random_minibatches(X, Y, mini_batch_size=64, seed=0):\n",
    "    \"\"\"Return a list of minibatches in format ([x...], [y...]).\"\"\"\n",
    "    np.random.seed(seed)\n",
    "    m = X.shape[0]\n",
    "    \n",
    "    # Create a random list of numbers\n",
    "    permutations = list(np.random.permutation(m))\n",
    "    shuffled_X = X[permutations,:]\n",
    "    shuffled_Y = Y[permutations,:]\n",
    "    \n",
    "    num_mini_batches = math.floor(m / mini_batch_size)\n",
    "    \n",
    "    for i in range(num_mini_batches):\n",
    "        start_pos = i * mini_batch_size\n",
    "        end_pos = start_pos + mini_batch_size\n",
    "        \n",
    "        mini_batch_X = shuffled_X[start_pos:end_pos,:]\n",
    "        mini_batch_Y = shuffled_Y[start_pos:end_pos,:]\n",
    "        \n",
    "        yield (mini_batch_X, mini_batch_Y)\n",
    "        \n",
    "    if m % mini_batch_size != 0:\n",
    "        mini_batch_X = shuffled_X[m - mini_batch_size :,:]\n",
    "        mini_batch_Y = shuffled_Y[m - mini_batch_size :,:]\n",
    "        yield (mini_batch_X, mini_batch_Y)"
   ]
  },
  {
   "cell_type": "markdown",
   "metadata": {},
   "source": [
    "Create a simple 3 layer network, by initialising weight vectors and defining simple cost function."
   ]
  },
  {
   "cell_type": "code",
   "execution_count": 19,
   "metadata": {
    "collapsed": true
   },
   "outputs": [],
   "source": [
    "def init_params(input_size, num_layers=3, num_nodes=256):\n",
    "    params = {}\n",
    "    \n",
    "    previous_layer_size = input_size\n",
    "    for layer in range(1, num_layers):\n",
    "        weights = tf.get_variable('W{0}'.format(layer), [previous_layer_size, num_nodes], initializer=tf.contrib.layers.xavier_initializer(seed=1))\n",
    "        bias = tf.get_variable('b{0}'.format(layer), [1, num_nodes], initializer=tf.zeros_initializer())\n",
    "        params['W{0}'.format(layer)] = weights\n",
    "        params['b{0}'.format(layer)] = bias\n",
    "        previous_layer_size = num_nodes\n",
    "\n",
    "    out = tf.get_variable('out', [previous_layer_size, 10], initializer=tf.contrib.layers.xavier_initializer(seed=1))\n",
    "    bout = tf.get_variable('bout', [1, 10], initializer=tf.zeros_initializer())\n",
    "    \n",
    "    params.update({'out': out, 'bout': bout})\n",
    "                   \n",
    "    return params"
   ]
  },
  {
   "cell_type": "code",
   "execution_count": 20,
   "metadata": {
    "collapsed": true
   },
   "outputs": [],
   "source": [
    "def forward_prop(X, params, num_layers):\n",
    "    previous_layer = X\n",
    "    \n",
    "    for layer in range(1, num_layers):   \n",
    "        # Hidden fully connected layer with 256 neurons\n",
    "        Z = tf.matmul(previous_layer, params['W{0}'.format(layer)]) + params['b{0}'.format(layer)]\n",
    "        previous_layer = tf.nn.relu(Z)\n",
    "\n",
    "    # Output fully connected layer with a neuron for each class\n",
    "    out_layer = tf.add(tf.matmul(previous_layer, params['out']), params['bout'])\n",
    "    \n",
    "    return out_layer"
   ]
  },
  {
   "cell_type": "code",
   "execution_count": 21,
   "metadata": {
    "collapsed": true
   },
   "outputs": [],
   "source": [
    "def get_cost(out_layer, Y, params, l2_lambda=0):\n",
    "    logits = out_layer\n",
    "    labels = Y\n",
    "\n",
    "    cost = tf.reduce_mean(tf.nn.softmax_cross_entropy_with_logits(logits=logits, labels=labels))\n",
    "    for key, val in params.items():\n",
    "        if key.startswith('W') or key == 'out':\n",
    "            cost += l2_lambda * tf.nn.l2_loss(val)\n",
    "    \n",
    "    return cost"
   ]
  },
  {
   "cell_type": "code",
   "execution_count": null,
   "metadata": {
    "collapsed": true
   },
   "outputs": [],
   "source": [
    "X = tf.placeholder(tf.float32, shape=(None, X_train.shape[1]), name='X')\n",
    "Y = tf.placeholder(tf.float32, shape=(None, Y_train.shape[1]), name='Y')\n",
    "\n",
    "costs = []\n",
    "num_mini_batches = m / mini_batch_size\n",
    "\n",
    "params = init_params(X_train.shape[1], num_layers=num_layers)\n",
    "\n",
    "logits = forward_prop(X, params, num_layers=num_layers)\n",
    "\n",
    "cost = get_cost(logits, Y, params, l2_lambda=l2_lambda)\n",
    "\n",
    "optimizer = tf.train.AdamOptimizer(learning_rate=learning_rate).minimize(cost)"
   ]
  },
  {
   "cell_type": "code",
   "execution_count": 22,
   "metadata": {
    "collapsed": true
   },
   "outputs": [],
   "source": [
    "def train_model(X_train, Y_train, X_test, Y_test, learning_rate=0.0001, num_epochs=100, print_every=10, num_layers=3, l2_lambda=0):\n",
    "    m = X_train.shape[0]\n",
    "\n",
    "    tf.reset_default_graph()\n",
    "\n",
    "    with tf.Session() as sess:\n",
    "        sess.run(tf.global_variables_initializer())\n",
    "\n",
    "        for epoch in range(1, num_epochs + 1):\n",
    "            epoch_cost = 0.\n",
    "            for X_mini, y_mini in get_random_minibatches(X_train, Y_train, mini_batch_size):\n",
    "                _, batch_cost = sess.run([optimizer, cost], feed_dict={X: X_mini, Y: y_mini})\n",
    "                epoch_cost += batch_cost / num_mini_batches\n",
    "\n",
    "            if epoch % print_every == 0:\n",
    "                print(\"Cost at {0} epochs is {1}\".format(epoch, epoch_cost))\n",
    "            if epoch % 5 == 0:\n",
    "                costs.append(epoch_cost)\n",
    "\n",
    "        plt.plot(np.squeeze(costs))\n",
    "        plt.ylabel('cost')\n",
    "        plt.xlabel('iterations (per 5)')\n",
    "        plt.title(\"Learning rate =\" + str(learning_rate))\n",
    "        plt.show()\n",
    "\n",
    "        # Save params\n",
    "        params = sess.run(params)\n",
    "\n",
    "        correct_prediction = tf.equal(tf.argmax(logits, 1), tf.argmax(Y, 1))\n",
    "        accuracy = tf.reduce_mean(tf.cast(correct_prediction, \"float\"))\n",
    "\n",
    "        print (\"Train Accuracy:\", accuracy.eval({X: X_train, Y: Y_train}))\n",
    "        print (\"Test Accuracy:\", accuracy.eval({X: X_test, Y: Y_test}))\n",
    "\n",
    "        return params"
   ]
  },
  {
   "cell_type": "code",
   "execution_count": 94,
   "metadata": {},
   "outputs": [
    {
     "name": "stdout",
     "output_type": "stream",
     "text": [
      "Cost at 10 epochs is 0.31448265266418457\n",
      "Cost at 20 epochs is 0.12275664329528808\n",
      "Cost at 30 epochs is 0.06387345504760743\n",
      "Cost at 40 epochs is 0.03622783446311951\n",
      "Cost at 50 epochs is 0.02206498664617538\n",
      "Cost at 60 epochs is 0.01433120214939117\n",
      "Cost at 70 epochs is 0.00982926371693611\n",
      "Cost at 80 epochs is 0.007055454492568969\n",
      "Cost at 90 epochs is 0.005244057685136796\n",
      "Cost at 100 epochs is 0.004007218718528748\n"
     ]
    },
    {
     "data": {
      "image/png": "[encoded data removed]",
      "text/plain": [
       "<matplotlib.figure.Figure at 0x12e3e1e10>"
      ]
     },
     "metadata": {},
     "output_type": "display_data"
    },
    {
     "name": "stdout",
     "output_type": "stream",
     "text": [
      "Train Accuracy: 0.9385\n",
      "Test Accuracy: 0.888929\n"
     ]
    }
   ],
   "source": [
    "# Try it on a sample\n",
    "parameters = train_model(training_imgs_X[:sample_size,:], training_labels_y[:sample_size,:], dev_imgs_X, dev_labels_y)"
   ]
  },
  {
   "cell_type": "code",
   "execution_count": 102,
   "metadata": {},
   "outputs": [
    {
     "name": "stdout",
     "output_type": "stream",
     "text": [
      "Cost at 10 epochs is 0.08301672039997017\n",
      "Cost at 20 epochs is 0.027002864043849245\n",
      "Cost at 30 epochs is 0.006765189715051315\n",
      "Cost at 40 epochs is 0.0012021945392882022\n",
      "Cost at 50 epochs is 0.00016747965083725697\n",
      "Cost at 60 epochs is 1.9053406206104396e-05\n",
      "Cost at 70 epochs is 1.9051057296878982e-06\n",
      "Cost at 80 epochs is 1.8469939395481826e-07\n",
      "Cost at 90 epochs is 2.3362884449897267e-08\n",
      "Cost at 100 epochs is 6.247843265395599e-09\n"
     ]
    },
    {
     "data": {
      "image/png": "[encoded data removed]",
      "text/plain": [
       "<matplotlib.figure.Figure at 0x12f76eb38>"
      ]
     },
     "metadata": {},
     "output_type": "display_data"
    },
    {
     "name": "stdout",
     "output_type": "stream",
     "text": [
      "Train Accuracy: 1.0\n",
      "Test Accuracy: 0.974405\n"
     ]
    }
   ],
   "source": [
    "parameters = train_model(training_imgs_X, training_labels_y, dev_imgs_X, dev_labels_y)"
   ]
  },
  {
   "cell_type": "markdown",
   "metadata": {},
   "source": [
    "Can't really beat that for train accuracy! Let's see how the model does on the test data."
   ]
  },
  {
   "cell_type": "code",
   "execution_count": 17,
   "metadata": {
    "collapsed": true
   },
   "outputs": [],
   "source": [
    "def predict(X, parameters, num_layers):\n",
    "    params = {}\n",
    "    \n",
    "    for param in parameters:\n",
    "        converted = tf.convert_to_tensor(parameters[param])\n",
    "        params[param] = converted\n",
    "    \n",
    "    x = tf.placeholder(\"float\", [None, X.shape[1]])\n",
    "    \n",
    "    out_layer = forward_prop(x, params, num_layers)\n",
    "    p = tf.argmax(out_layer, 1)\n",
    "    \n",
    "    sess = tf.Session()\n",
    "    prediction = sess.run(p, feed_dict = {x: X})\n",
    "        \n",
    "    return prediction"
   ]
  },
  {
   "cell_type": "code",
   "execution_count": 18,
   "metadata": {
    "collapsed": true
   },
   "outputs": [],
   "source": [
    "fh = open('./data/test.csv')\n",
    "test_reader = csv.reader(fh)\n",
    "\n",
    "# Skip header line\n",
    "_ = next(test_reader)\n",
    "\n",
    "test_imgs = [line for line in test_reader]\n",
    "\n",
    "test_imgs = np.float32(test_imgs)\n",
    "test_imgs_norm = test_imgs / 255."
   ]
  },
  {
   "cell_type": "code",
   "execution_count": 111,
   "metadata": {
    "collapsed": true
   },
   "outputs": [],
   "source": [
    "predictions = predict(test_imgs_norm, parameters, num_layers=3)"
   ]
  },
  {
   "cell_type": "code",
   "execution_count": 112,
   "metadata": {},
   "outputs": [
    {
     "data": {
      "image/png": "[encoded data removed]",
      "text/plain": [
       "<IPython.core.display.Image object>"
      ]
     },
     "metadata": {},
     "output_type": "display_data"
    },
    {
     "data": {
      "text/plain": [
       "(None, 2)"
      ]
     },
     "execution_count": 112,
     "metadata": {},
     "output_type": "execute_result"
    }
   ],
   "source": [
    "show_digit(test_imgs[0]), predictions[0]"
   ]
  },
  {
   "cell_type": "code",
   "execution_count": 70,
   "metadata": {
    "collapsed": true
   },
   "outputs": [],
   "source": [
    "def save_predictions(predictions, filepath='output.csv'):\n",
    "    \"\"\"Save predictions to an output path.\"\"\"\n",
    "    output = open(filepath, 'w')\n",
    "    output.write(u'ImageId,Label\\n')\n",
    "    [output.write(u'{0},{1}\\n'.format(count + 1, pred)) \n",
    "        for count, pred in enumerate(predictions)]\n",
    "    output.close()"
   ]
  },
  {
   "cell_type": "code",
   "execution_count": 116,
   "metadata": {
    "collapsed": true
   },
   "outputs": [],
   "source": [
    "save_predictions(predictions)"
   ]
  },
  {
   "cell_type": "markdown",
   "metadata": {},
   "source": [
    "Achieved 0.97285, which puts me at 919th. Let's see what happens when I add another 2 layers."
   ]
  },
  {
   "cell_type": "code",
   "execution_count": 117,
   "metadata": {},
   "outputs": [
    {
     "name": "stdout",
     "output_type": "stream",
     "text": [
      "Cost at 10 epochs is 0.20724493384361267\n",
      "Cost at 20 epochs is 0.07069047206640244\n",
      "Cost at 30 epochs is 0.029948371142148975\n",
      "Cost at 40 epochs is 0.010436168044805525\n",
      "Cost at 50 epochs is 0.0037129726372659203\n",
      "Cost at 60 epochs is 0.002236641701310873\n",
      "Cost at 70 epochs is 0.0014628027491271492\n",
      "Cost at 80 epochs is 0.0010065924720838667\n",
      "Cost at 90 epochs is 0.000715516055934131\n",
      "Cost at 100 epochs is 0.0005222483812831341\n"
     ]
    },
    {
     "data": {
      "image/png": "[encoded data removed]",
      "text/plain": [
       "<matplotlib.figure.Figure at 0x10fd25e10>"
      ]
     },
     "metadata": {},
     "output_type": "display_data"
    },
    {
     "name": "stdout",
     "output_type": "stream",
     "text": [
      "Train Accuracy: 1.0\n",
      "Test Accuracy: 0.922143\n"
     ]
    }
   ],
   "source": [
    "parameters = train_model(training_imgs_X[:sample_size,:], training_labels_y[:sample_size,:], dev_imgs_X, dev_labels_y, num_layers=5)"
   ]
  },
  {
   "cell_type": "code",
   "execution_count": 119,
   "metadata": {},
   "outputs": [
    {
     "name": "stdout",
     "output_type": "stream",
     "text": [
      "Cost at 10 epochs is 0.03797345446600095\n",
      "Cost at 20 epochs is 0.006432536671802936\n",
      "Cost at 30 epochs is 0.006839779336961714\n",
      "Cost at 40 epochs is 7.001626531250949e-05\n",
      "Cost at 50 epochs is 6.809914106079925e-06\n",
      "Cost at 60 epochs is 4.328754305151149e-07\n",
      "Cost at 70 epochs is 2.6062829700761767e-08\n",
      "Cost at 80 epochs is 0.016118488271088836\n",
      "Cost at 90 epochs is 3.007468850889487e-06\n",
      "Cost at 100 epochs is 6.211653812978768e-07\n"
     ]
    },
    {
     "data": {
      "image/png": "[encoded data removed]",
      "text/plain": [
       "<matplotlib.figure.Figure at 0x12f9992b0>"
      ]
     },
     "metadata": {},
     "output_type": "display_data"
    },
    {
     "name": "stdout",
     "output_type": "stream",
     "text": [
      "Train Accuracy: 1.0\n",
      "Test Accuracy: 0.97619\n"
     ]
    }
   ],
   "source": [
    "parameters = train_model(training_imgs_X, training_labels_y, dev_imgs_X, dev_labels_y, num_layers=5)"
   ]
  },
  {
   "cell_type": "code",
   "execution_count": 120,
   "metadata": {
    "collapsed": true
   },
   "outputs": [],
   "source": [
    "save_predictions(predict(test_imgs_norm, parameters, num_layers=5))"
   ]
  },
  {
   "cell_type": "markdown",
   "metadata": {},
   "source": [
    "Slightly better. Gets me a score of 0.97357, which gets me to 911 place - about 8 places better than before.\n",
    "\n",
    "Looks like I'm overfitting, since the training accuracy is 100%, so let's think about:\n",
    "\n",
    "  * Regularisation (L2 norm, dropout)\n",
    "  * Maybe data augmentation?\n",
    "  * Different architecture? CNN etc.\n",
    "\n",
    "Let's start with regularisation. Regularisation is a technique for encouraging weights to be smaller by basically adding the weights to the cost function. The point of it is to ensure a single weight doesn't get too big, thus overfitting the training data, and therefore we hope it generalises better on the dev/test set. L2 regularisation is simply the sum of the squared weights. Something like:\n",
    "\n",
    "$\\sum\\limits_{i=1}^{k} {w_i}^2$\n",
    "\n",
    "You also provide a \"lambda\" component that represents how much regularisation you want. A very high lambda, will ensure regularisation has a huge impact. A lambda of 0, will ensure regularisation has no impact. Tensorflow provides a method for implementing L2 regularisation in the cost function in `tf.nn.l2_loss` and would be implemented as follows:\n",
    "\n",
    "```\n",
    "cost = tf.reduce_mean(tf.nn.softmax_cross_entropy_with_logits(logits=logits, labels=labels)\n",
    "cost += 0.01 * tf.nn.l2_loss(weights)\n",
    "```\n",
    "\n",
    "Note: generally you don't need to regularise the bias term. I have gone back and refactored the `get_cost` method to add l2 reg."
   ]
  },
  {
   "cell_type": "code",
   "execution_count": 121,
   "metadata": {},
   "outputs": [
    {
     "name": "stdout",
     "output_type": "stream",
     "text": [
      "Training model with 0.1 l2\n",
      "Cost at 100 epochs is 2.156626937866211\n"
     ]
    },
    {
     "data": {
      "image/png": "[encoded data removed]",
      "text/plain": [
       "<matplotlib.figure.Figure at 0x12e48dcc0>"
      ]
     },
     "metadata": {},
     "output_type": "display_data"
    },
    {
     "name": "stdout",
     "output_type": "stream",
     "text": [
      "Train Accuracy: 0.782\n",
      "Test Accuracy: 0.751905\n",
      "Training model with 0.01 l2\n",
      "Cost at 100 epochs is 0.7170602397918702\n"
     ]
    },
    {
     "data": {
      "image/png": "[encoded data removed]",
      "text/plain": [
       "<matplotlib.figure.Figure at 0x12d9e73c8>"
      ]
     },
     "metadata": {},
     "output_type": "display_data"
    },
    {
     "name": "stdout",
     "output_type": "stream",
     "text": [
      "Train Accuracy: 0.998\n",
      "Test Accuracy: 0.912143\n",
      "Training model with 0.001 l2\n",
      "Cost at 100 epochs is 0.27829407882690427\n"
     ]
    },
    {
     "data": {
      "image/png": "[encoded data removed]",
      "text/plain": [
       "<matplotlib.figure.Figure at 0x12e48c2e8>"
      ]
     },
     "metadata": {},
     "output_type": "display_data"
    },
    {
     "name": "stdout",
     "output_type": "stream",
     "text": [
      "Train Accuracy: 1.0\n",
      "Test Accuracy: 0.918214\n",
      "Training model with 0.0001 l2\n",
      "Cost at 100 epochs is 0.047913573026657115\n"
     ]
    },
    {
     "data": {
      "image/png": "[encoded data removed]",
      "text/plain": [
       "<matplotlib.figure.Figure at 0x12e6ccf60>"
      ]
     },
     "metadata": {},
     "output_type": "display_data"
    },
    {
     "name": "stdout",
     "output_type": "stream",
     "text": [
      "Train Accuracy: 1.0\n",
      "Test Accuracy: 0.921429\n"
     ]
    }
   ],
   "source": [
    "for lambd in [0.1, 0.01, 0.001, 0.0001]:\n",
    "    print('Training model with {0} l2'.format(lambd))\n",
    "    train_model(training_imgs_X[:sample_size,:], training_labels_y[:sample_size,:], dev_imgs_X, dev_labels_y, num_layers=5, num_epochs=100, print_every=100, l2_lambda=lambd)"
   ]
  },
  {
   "cell_type": "markdown",
   "metadata": {},
   "source": [
    "None of these seem to help much. See how it goes training longer."
   ]
  },
  {
   "cell_type": "code",
   "execution_count": 166,
   "metadata": {},
   "outputs": [
    {
     "name": "stdout",
     "output_type": "stream",
     "text": [
      "Cost at 10 epochs is 0.7032029866036913\n",
      "Cost at 20 epochs is 0.5283693423725314\n",
      "Cost at 30 epochs is 0.4965198655923207\n",
      "Cost at 40 epochs is 0.4858313919249032\n",
      "Cost at 50 epochs is 0.48066374903633463\n",
      "Cost at 60 epochs is 0.47691385581379875\n",
      "Cost at 70 epochs is 0.4737046388217386\n",
      "Cost at 80 epochs is 0.47066327293713867\n",
      "Cost at 90 epochs is 0.46779108847890555\n",
      "Cost at 100 epochs is 0.46511590492157734\n"
     ]
    },
    {
     "data": {
      "image/png": "[encoded data removed]",
      "text/plain": [
       "<matplotlib.figure.Figure at 0x12980dd68>"
      ]
     },
     "metadata": {},
     "output_type": "display_data"
    },
    {
     "name": "stdout",
     "output_type": "stream",
     "text": [
      "Train Accuracy: 0.976637\n",
      "Test Accuracy: 0.961429\n"
     ]
    }
   ],
   "source": [
    "parameters = train_model(training_imgs_X, training_labels_y, dev_imgs_X, dev_labels_y, num_layers=5, l2_lambda=0.001)"
   ]
  },
  {
   "cell_type": "markdown",
   "metadata": {},
   "source": [
    "It appears to take much longer to converge and training accuracy has decreased. Seems to have helped with overfitting a lil but hasn't helped with dev accuracy. Let's get drastic and introduce a conv layer with dropout."
   ]
  },
  {
   "cell_type": "markdown",
   "metadata": {},
   "source": [
    "### Introducing a conv layer\n",
    "\n",
    "Conv layers are essentially a tool for performing automated feature engineering, discovering stand out patterns an dd the like in the image content. They can be implemented in Tensorflow using `tf.nn.conv2d`."
   ]
  },
  {
   "cell_type": "code",
   "execution_count": 26,
   "metadata": {
    "collapsed": true
   },
   "outputs": [],
   "source": [
    "def init_conv_params():\n",
    "    return {\n",
    "        \"W_conv_1\": tf.get_variable('W_conv_1', [5, 5, 1, 32], initializer=tf.contrib.layers.xavier_initializer(seed=1)),\n",
    "        \"b_conv_1\": tf.get_variable('b_conv_1', [32], initializer=tf.zeros_initializer()),\n",
    "        \"W_conv_2\": tf.get_variable('W_conv_2', [5, 5, 32, 64], initializer=tf.contrib.layers.xavier_initializer(seed=1)),\n",
    "        \"b_conv_2\": tf.get_variable('b_conv_2', [64], initializer=tf.zeros_initializer()),\n",
    "        \"W_fc_1\": tf.get_variable('W_fc_1', [7*7*64, 1024], initializer=tf.contrib.layers.xavier_initializer(seed=1)),\n",
    "        \"b_fc_1\": tf.get_variable('b_fc_1', [1024], initializer=tf.zeros_initializer()),\n",
    "        \"out\": tf.get_variable('out', [1024, 10], initializer=tf.contrib.layers.xavier_initializer(seed=1)),\n",
    "        \"b_out\": tf.get_variable('b_out', [10], initializer=tf.zeros_initializer())\n",
    "    }\n",
    "\n",
    "\n",
    "def conv_2d_block(X, W, b, strides=1):\n",
    "    \"\"\"Question to ask: what are strides?\"\"\"\n",
    "    # Strides refers to the \"stride of the sliding window for each dimension of input\"\n",
    "    x = tf.nn.conv2d(X, W, strides=[1, strides, strides, 1], padding='SAME')\n",
    "    x = tf.nn.bias_add(x, b)\n",
    "    x = tf.nn.relu(x)\n",
    "    return x\n",
    "\n",
    "\n",
    "def maxpool2d(x, k=2):\n",
    "    return tf.nn.max_pool(x, ksize=[1, k, k, 1], strides=[1, k, k, 1], padding='SAME')\n",
    "\n",
    "\n",
    "def get_conv_net(X, params, keep_prob=1):\n",
    "    # Need to be reshaped from flattened format for some reason?\n",
    "    # Tensorflow is 4d: (height, width, num channels, dataset size)\n",
    "    x = tf.reshape(X, shape=[-1, 28, 28, 1])\n",
    "    \n",
    "    conv1 = conv_2d_block(x, params['W_conv_1'], params['b_conv_1'])\n",
    "    conv1 = maxpool2d(conv1, k=2)\n",
    "    \n",
    "    conv2 = conv_2d_block(conv1, params['W_conv_2'], params['b_conv_2'])\n",
    "    conv2 = maxpool2d(conv2, k=2)\n",
    "    \n",
    "    # Need to flatten out the output for the fully connected layers\n",
    "    fc1 = tf.reshape(conv2, [-1, params['W_fc_1'].get_shape().as_list()[0]])\n",
    "    fc1 = tf.add(tf.matmul(fc1, params['W_fc_1']), params['b_fc_1'])\n",
    "    fc1 = tf.nn.relu(fc1)\n",
    "    \n",
    "    # Apply Dropout in fully-connected layer\n",
    "    fc1 = tf.nn.dropout(fc1, keep_prob)\n",
    "    \n",
    "    # Output, class prediction\n",
    "    out = tf.add(tf.matmul(fc1, params['out']), params['b_out'])\n",
    "    \n",
    "    return out"
   ]
  },
  {
   "cell_type": "code",
   "execution_count": 24,
   "metadata": {
    "collapsed": true
   },
   "outputs": [],
   "source": [
    "def train_conv_model(X_train, Y_train, X_test, Y_test, learning_rate=0.0001, num_epochs=100, print_every=10, num_layers=3, l2_lambda=0, print_summary=True):\n",
    "    m = X_train.shape[0]\n",
    "\n",
    "    tf.reset_default_graph()\n",
    "\n",
    "    with tf.Session() as sess:\n",
    "        X = tf.placeholder(tf.float32, shape=(None, X_train.shape[1]), name='X')\n",
    "        Y = tf.placeholder(tf.float32, shape=(None, Y_train.shape[1]), name='Y')\n",
    "\n",
    "        costs = []\n",
    "        num_mini_batches = m / mini_batch_size\n",
    "\n",
    "        params = init_conv_params()\n",
    "\n",
    "        logits = get_conv_net(X, params)\n",
    "\n",
    "        # Define loss and optimizer\n",
    "        cost = tf.reduce_mean(tf.nn.softmax_cross_entropy_with_logits(logits=logits, labels=Y))\n",
    "\n",
    "        optimizer = tf.train.AdamOptimizer(learning_rate=learning_rate).minimize(cost)\n",
    "\n",
    "        init = tf.global_variables_initializer()\n",
    "        \n",
    "        sess.run(init)\n",
    "\n",
    "        for epoch in range(1, num_epochs + 1):\n",
    "            epoch_cost = 0.\n",
    "\n",
    "            minibatches = get_random_minibatches(X_train, Y_train, mini_batch_size)\n",
    "\n",
    "            for X_mini, y_mini in minibatches:\n",
    "                _, batch_cost = sess.run([optimizer, cost], feed_dict={X: X_mini, Y: y_mini})\n",
    "                \n",
    "                epoch_cost += batch_cost / num_mini_batches\n",
    "\n",
    "            if epoch % print_every == 0:\n",
    "                print(\"Cost at {0} epochs is {1}\".format(epoch, epoch_cost))\n",
    "            if epoch % 5 == 0:\n",
    "                costs.append(epoch_cost)\n",
    "                \n",
    "        if print_summary:\n",
    "            plt.plot(np.squeeze(costs))\n",
    "            plt.ylabel('cost')\n",
    "            plt.xlabel('iterations (per 5)')\n",
    "            plt.title(\"Learning rate =\" + str(learning_rate))\n",
    "            plt.show()\n",
    "\n",
    "            correct_prediction = tf.equal(tf.argmax(logits, 1), tf.argmax(Y, 1))\n",
    "            accuracy = tf.reduce_mean(tf.cast(correct_prediction, \"float\"))\n",
    "            \n",
    "            # Get train accuracy in batches\n",
    "            train_accuracy = 0.0\n",
    "            \n",
    "            num_mini_batches = m / 256.\n",
    "            minibatches = get_random_minibatches(X_train, Y_train, 256)\n",
    "            for X_mini, y_mini in minibatches:\n",
    "                batch_accuracy = accuracy.eval({X: X_mini, Y: y_mini})\n",
    "                train_accuracy += batch_accuracy\n",
    "            train_accuracy /= num_mini_batches\n",
    "\n",
    "            print (\"Train Accuracy:\", train_accuracy)\n",
    "            print (\"Test Accuracy:\", accuracy.eval({X: X_test, Y: Y_test}))\n",
    "\n",
    "        # Save params\n",
    "        params = sess.run(params) \n",
    "        \n",
    "    return params, costs"
   ]
  },
  {
   "cell_type": "code",
   "execution_count": 27,
   "metadata": {},
   "outputs": [
    {
     "name": "stdout",
     "output_type": "stream",
     "text": [
      "Cost at 10 epochs is 0.14232596778869627\n",
      "Cost at 20 epochs is 0.04377660416066647\n",
      "Cost at 30 epochs is 0.015947328522801403\n",
      "Cost at 40 epochs is 0.007303789861500262\n",
      "Cost at 50 epochs is 0.00293982704821974\n",
      "Cost at 60 epochs is 0.0018901776606217024\n",
      "Cost at 70 epochs is 0.0012438798784278331\n",
      "Cost at 80 epochs is 0.0006043085698038338\n",
      "Cost at 90 epochs is 0.00042546018678694963\n",
      "Cost at 100 epochs is 0.00031885728018824015\n"
     ]
    },
    {
     "data": {
      "image/png": "[encoded data removed]",
      "text/plain": [
       "<matplotlib.figure.Figure at 0x7ff451e9e630>"
      ]
     },
     "metadata": {},
     "output_type": "display_data"
    },
    {
     "name": "stdout",
     "output_type": "stream",
     "text": [
      "Train Accuracy: 1.024\n",
      "Test Accuracy: 0.957857\n",
      "CPU times: user 35.8 s, sys: 4.08 s, total: 39.9 s\n",
      "Wall time: 42.6 s\n"
     ]
    }
   ],
   "source": [
    "%time parameters = train_conv_model(training_imgs_X[:sample_size,:], training_labels_y[:sample_size,:], dev_imgs_X, dev_labels_y)"
   ]
  },
  {
   "cell_type": "markdown",
   "metadata": {},
   "source": [
    "Try a larger learning rate."
   ]
  },
  {
   "cell_type": "code",
   "execution_count": 44,
   "metadata": {},
   "outputs": [
    {
     "name": "stdout",
     "output_type": "stream",
     "text": [
      "Cost at 10 epochs is 0.006599791581999054\n",
      "Cost at 20 epochs is 0.0003377885534843829\n",
      "Cost at 30 epochs is 0.0001439501834191069\n",
      "Cost at 40 epochs is 8.426290659539222e-05\n",
      "Cost at 50 epochs is 5.5511425244378404e-05\n",
      "Cost at 60 epochs is 3.906836334454984e-05\n",
      "Cost at 70 epochs is 2.866276421702089e-05\n",
      "Cost at 80 epochs is 2.1658890638755853e-05\n",
      "Cost at 90 epochs is 1.6690439382245483e-05\n",
      "Cost at 100 epochs is 1.3068660852083239e-05\n"
     ]
    },
    {
     "data": {
      "image/png": "[encoded data removed]",
      "text/plain": [
       "<matplotlib.figure.Figure at 0x7fbd8429f240>"
      ]
     },
     "metadata": {},
     "output_type": "display_data"
    },
    {
     "name": "stdout",
     "output_type": "stream",
     "text": [
      "Train Accuracy: 1.0\n",
      "Test Accuracy: 0.964286\n",
      "CPU times: user 27.9 s, sys: 3.79 s, total: 31.6 s\n",
      "Wall time: 32.2 s\n"
     ]
    }
   ],
   "source": [
    "%time parameters = train_conv_model(training_imgs_X[:sample_size,:], training_labels_y[:sample_size,:], dev_imgs_X, dev_labels_y, learning_rate=0.001)"
   ]
  },
  {
   "cell_type": "markdown",
   "metadata": {},
   "source": [
    "Seems like a definite winner. See how we go across the whole dataset with the original params."
   ]
  },
  {
   "cell_type": "code",
   "execution_count": 64,
   "metadata": {},
   "outputs": [
    {
     "name": "stdout",
     "output_type": "stream",
     "text": [
      "Cost at 10 epochs is 0.01705703459458339\n",
      "Cost at 20 epochs is 0.004186379174567435\n",
      "Cost at 30 epochs is 0.0019545146829005678\n",
      "Cost at 40 epochs is 0.008823197483285217\n",
      "Cost at 50 epochs is 2.804572293176951e-05\n",
      "Cost at 60 epochs is 5.946766158167467e-05\n",
      "Cost at 70 epochs is 5.416776007305072e-06\n",
      "Cost at 80 epochs is 5.296706533347846e-07\n",
      "Cost at 90 epochs is 4.129740702719602e-08\n",
      "Cost at 100 epochs is 3.860109510129518e-09\n"
     ]
    },
    {
     "data": {
      "image/png": "[encoded data removed]",
      "text/plain": [
       "<matplotlib.figure.Figure at 0x7f2284cc0860>"
      ]
     },
     "metadata": {},
     "output_type": "display_data"
    },
    {
     "name": "stdout",
     "output_type": "stream",
     "text": [
      "Train Accuracy: 1.00571428571\n",
      "Test Accuracy: 0.990119\n",
      "CPU times: user 7min 20s, sys: 1min 12s, total: 8min 32s\n",
      "Wall time: 8min 37s\n"
     ]
    }
   ],
   "source": [
    "%time parameters, costs = train_conv_model(training_imgs_X, training_labels_y, dev_imgs_X, dev_labels_y)"
   ]
  },
  {
   "cell_type": "code",
   "execution_count": 65,
   "metadata": {
    "collapsed": true
   },
   "outputs": [],
   "source": [
    "def predict(X, parameters):\n",
    "    params = {}\n",
    "    \n",
    "    for param in parameters:\n",
    "        converted = tf.convert_to_tensor(parameters[param])\n",
    "        params[param] = converted\n",
    "    \n",
    "    x = tf.placeholder(tf.float32, [None, X.shape[1]])\n",
    "\n",
    "    logits = get_conv_net(X, params)\n",
    "    p = tf.argmax(logits, 1)\n",
    "    \n",
    "    sess = tf.Session()\n",
    "    prediction = sess.run(p, feed_dict = {x: X})\n",
    "        \n",
    "    return prediction"
   ]
  },
  {
   "cell_type": "code",
   "execution_count": 67,
   "metadata": {
    "collapsed": true
   },
   "outputs": [],
   "source": []
  },
  {
   "cell_type": "code",
   "execution_count": 68,
   "metadata": {
    "collapsed": true
   },
   "outputs": [],
   "source": [
    "predictions = predict(test_imgs_norm, parameters)"
   ]
  },
  {
   "cell_type": "code",
   "execution_count": 71,
   "metadata": {
    "collapsed": true
   },
   "outputs": [],
   "source": [
    "save_predictions(predictions, 'conv_predictions.csv')"
   ]
  },
  {
   "cell_type": "markdown",
   "metadata": {},
   "source": [
    "Holy shit!\n",
    "\n",
    "You advanced 546 places on the leaderboard!\n",
    "Your submission scored 0.99128, which is an improvement of your previous score of 0.97357.\n",
    "\n",
    "Next up, let's try pseudo-labelling. Where our model is \"trained in a supervised fashion with labeled and unlabeled data simultaneously. For unlabeled data, Pseudo-Labels, just picking up the class which has the maximum predicted probability every weights update, are used as if they were true labels.\""
   ]
  },
  {
   "cell_type": "code",
   "execution_count": 72,
   "metadata": {
    "collapsed": true
   },
   "outputs": [],
   "source": [
    "C = tf.constant(10, name='c')\n",
    "one_hot_matrix = tf.one_hot(predictions, C, axis=1, dtype=tf.uint8)\n",
    "\n",
    "sess = tf.Session()\n",
    "predictions_one_hot = sess.run(one_hot_matrix)\n",
    "sess.close()"
   ]
  },
  {
   "cell_type": "code",
   "execution_count": 73,
   "metadata": {},
   "outputs": [
    {
     "name": "stdout",
     "output_type": "stream",
     "text": [
      "(28000, 784)\n",
      "(33600, 784)\n",
      "(33600, 10)\n",
      "(28000, 10)\n"
     ]
    }
   ],
   "source": [
    "print(test_imgs_norm.shape)\n",
    "print(training_imgs_X.shape)\n",
    "print(training_labels_y.shape)\n",
    "print(predictions_one_hot.shape)"
   ]
  },
  {
   "cell_type": "code",
   "execution_count": 74,
   "metadata": {
    "collapsed": true
   },
   "outputs": [],
   "source": [
    "# Create a new x and y concatenating the train and test data.\n",
    "\n",
    "pseudo_X = np.concatenate([training_imgs_X, test_imgs_norm])\n",
    "pseudo_y = np.concatenate([training_labels_y, predictions_one_hot])"
   ]
  },
  {
   "cell_type": "code",
   "execution_count": 75,
   "metadata": {},
   "outputs": [
    {
     "name": "stdout",
     "output_type": "stream",
     "text": [
      "(61600, 784)\n",
      "(61600, 10)\n"
     ]
    }
   ],
   "source": [
    "print(pseudo_X.shape)\n",
    "print(pseudo_y.shape)"
   ]
  },
  {
   "cell_type": "markdown",
   "metadata": {},
   "source": [
    "So we are almost doubling our training set. Let's see how we go!"
   ]
  },
  {
   "cell_type": "code",
   "execution_count": 76,
   "metadata": {},
   "outputs": [
    {
     "name": "stdout",
     "output_type": "stream",
     "text": [
      "Cost at 10 epochs is 0.008335905067942809\n",
      "Cost at 20 epochs is 0.0037132181472002953\n",
      "Cost at 30 epochs is 0.0022616172434577644\n",
      "Cost at 40 epochs is 5.027146583519917e-05\n",
      "Cost at 50 epochs is 1.7797992036729852e-05\n",
      "Cost at 60 epochs is 0.00048057305165808\n",
      "Cost at 70 epochs is 7.328760277302679e-07\n",
      "Cost at 80 epochs is 0.00018408966230062118\n",
      "Cost at 90 epochs is 2.8485196757314797e-07\n",
      "Cost at 100 epochs is 5.1670232147173e-09\n"
     ]
    },
    {
     "data": {
      "image/png": "[encoded data removed]",
      "text/plain": [
       "<matplotlib.figure.Figure at 0x7f2284c8c240>"
      ]
     },
     "metadata": {},
     "output_type": "display_data"
    },
    {
     "name": "stdout",
     "output_type": "stream",
     "text": [
      "Train Accuracy: 1.00155844156\n",
      "Test Accuracy: 0.989524\n",
      "CPU times: user 13min 18s, sys: 2min 11s, total: 15min 30s\n",
      "Wall time: 15min 48s\n"
     ]
    }
   ],
   "source": [
    "%time parameters, costs = train_conv_model(pseudo_X, pseudo_y, dev_imgs_X, dev_labels_y)"
   ]
  },
  {
   "cell_type": "code",
   "execution_count": 78,
   "metadata": {
    "collapsed": true
   },
   "outputs": [],
   "source": [
    "pseudo_predictions = predict(test_imgs_norm, parameters)"
   ]
  },
  {
   "cell_type": "code",
   "execution_count": 80,
   "metadata": {
    "collapsed": true
   },
   "outputs": [],
   "source": [
    "save_predictions(pseudo_predictions, 'pseudo_label_conv_predictions.csv')"
   ]
  },
  {
   "cell_type": "markdown",
   "metadata": {},
   "source": [
    "Didn't help at all...let's look at some of the bad predictions from the dev set."
   ]
  },
  {
   "cell_type": "code",
   "execution_count": 85,
   "metadata": {
    "collapsed": true
   },
   "outputs": [],
   "source": [
    "dev_set_predictions = predict(np.float32(dev_imgs_X), parameters)"
   ]
  },
  {
   "cell_type": "code",
   "execution_count": null,
   "metadata": {
    "collapsed": true
   },
   "outputs": [],
   "source": [
    "dev_set_predictions[:10]"
   ]
  },
  {
   "cell_type": "code",
   "execution_count": 29,
   "metadata": {
    "collapsed": true
   },
   "outputs": [],
   "source": [
    "import bcolz\n",
    "\n",
    "def save_array(filename, array):\n",
    "    return bcolz.carray(array, rootdir=filename, mode='w').flush()\n",
    "\n",
    "def load_array(filename):\n",
    "    return bcolz.open(filename)[:]"
   ]
  },
  {
   "cell_type": "code",
   "execution_count": 31,
   "metadata": {},
   "outputs": [],
   "source": [
    "save_array('small_preds.h5', parameters)"
   ]
  },
  {
   "cell_type": "code",
   "execution_count": 32,
   "metadata": {
    "collapsed": true
   },
   "outputs": [],
   "source": [
    "params = load_array('small_preds.h5')"
   ]
  },
  {
   "cell_type": "code",
   "execution_count": null,
   "metadata": {
    "collapsed": true
   },
   "outputs": [],
   "source": []
  }
 ],
 "metadata": {
  "kernelspec": {
   "display_name": "Python 3",
   "language": "python",
   "name": "python3"
  },
  "language_info": {
   "codemirror_mode": {
    "name": "ipython",
    "version": 3
   },
   "file_extension": ".py",
   "mimetype": "text/x-python",
   "name": "python",
   "nbconvert_exporter": "python",
   "pygments_lexer": "ipython3",
   "version": "3.6.2"
  }
 },
 "nbformat": 4,
 "nbformat_minor": 2
}
