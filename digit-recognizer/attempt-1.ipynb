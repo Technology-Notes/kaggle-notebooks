{
 "cells": [
  {
   "cell_type": "code",
   "execution_count": 1,
   "metadata": {
    "collapsed": true
   },
   "outputs": [],
   "source": [
    "import math\n",
    "from io import BytesIO\n",
    "\n",
    "import tensorflow as tf\n",
    "import numpy as np\n",
    "import PIL.Image\n",
    "import IPython.display\n",
    "import matplotlib.pyplot as plt\n",
    "\n",
    "%matplotlib inline"
   ]
  },
  {
   "cell_type": "markdown",
   "metadata": {},
   "source": [
    "## Preparing the data\n",
    "\n",
    "Data comes in CSV format, where the first column is the label and the others represent a pixel intensity value between 0 and 255, in cells 0 to 783 (allowing for 784 cells or 28 x 28).\n",
    "\n",
    "Going to load the labels and pixel values into a list, then create a numpy array for them both."
   ]
  },
  {
   "cell_type": "code",
   "execution_count": 2,
   "metadata": {
    "collapsed": false
   },
   "outputs": [],
   "source": [
    "import csv\n",
    "\n",
    "fh = open('./data/train.csv')\n",
    "reader = csv.reader(fh)\n",
    "\n",
    "# Skip header line\n",
    "_ = next(reader)"
   ]
  },
  {
   "cell_type": "code",
   "execution_count": 3,
   "metadata": {
    "collapsed": true
   },
   "outputs": [],
   "source": [
    "labels = []\n",
    "imgs = []\n",
    "\n",
    "for line in reader:\n",
    "    label, img = line[0], line[1:]\n",
    "    \n",
    "    labels.append(label)\n",
    "    imgs.append(img)"
   ]
  },
  {
   "cell_type": "code",
   "execution_count": 4,
   "metadata": {
    "collapsed": false
   },
   "outputs": [
    {
     "data": {
      "text/plain": [
       "784"
      ]
     },
     "execution_count": 4,
     "metadata": {},
     "output_type": "execute_result"
    }
   ],
   "source": [
    "len(imgs[0])"
   ]
  },
  {
   "cell_type": "code",
   "execution_count": 5,
   "metadata": {
    "collapsed": false
   },
   "outputs": [],
   "source": [
    "imgs = np.uint8(imgs)"
   ]
  },
  {
   "cell_type": "code",
   "execution_count": 6,
   "metadata": {
    "collapsed": false
   },
   "outputs": [
    {
     "name": "stdout",
     "output_type": "stream",
     "text": [
      "(42000, 784)\n",
      "(784, 42000)\n"
     ]
    }
   ],
   "source": [
    "print(imgs.shape)\n",
    "print(imgs.T.shape)"
   ]
  },
  {
   "cell_type": "code",
   "execution_count": 7,
   "metadata": {
    "collapsed": true
   },
   "outputs": [],
   "source": [
    "def show_digit(a, fmt='png'):\n",
    "    \"\"\"To do: optionally show label here.\"\"\"\n",
    "    a = a.reshape((28, 28))\n",
    "    f = BytesIO()\n",
    "    PIL.Image.fromarray(a).save(f, fmt)\n",
    "    IPython.display.display(IPython.display.Image(data=f.getvalue()))"
   ]
  },
  {
   "cell_type": "code",
   "execution_count": 8,
   "metadata": {
    "collapsed": false
   },
   "outputs": [
    {
     "data": {
      "image/png": "[encoded data removed]",
      "text/plain": [
       "<IPython.core.display.Image object>"
      ]
     },
     "metadata": {},
     "output_type": "display_data"
    }
   ],
   "source": [
    "show_digit(imgs[500])"
   ]
  },
  {
   "cell_type": "code",
   "execution_count": 9,
   "metadata": {
    "collapsed": false
   },
   "outputs": [
    {
     "data": {
      "image/png": "[encoded data removed]",
      "text/plain": [
       "<IPython.core.display.Image object>"
      ]
     },
     "metadata": {},
     "output_type": "display_data"
    }
   ],
   "source": [
    "show_digit(imgs[305])"
   ]
  },
  {
   "cell_type": "code",
   "execution_count": 10,
   "metadata": {
    "collapsed": false
   },
   "outputs": [
    {
     "data": {
      "text/plain": [
       "array([1, 0, 1, 4, 0], dtype=uint8)"
      ]
     },
     "execution_count": 10,
     "metadata": {},
     "output_type": "execute_result"
    }
   ],
   "source": [
    "labels = np.uint8(labels)\n",
    "labels_sample = labels[:1000]\n",
    "labels_sample[:5]"
   ]
  },
  {
   "cell_type": "markdown",
   "metadata": {},
   "source": [
    "Next, converting the labels into a one hot matrix and normalising the pixel values by dividing by the max."
   ]
  },
  {
   "cell_type": "code",
   "execution_count": 11,
   "metadata": {
    "collapsed": false
   },
   "outputs": [],
   "source": [
    "C = tf.constant(10, name='c')\n",
    "one_hot_matrix = tf.one_hot(labels, C, axis=0, dtype=tf.uint8)\n",
    "\n",
    "sess = tf.Session()\n",
    "labels_one_hot = sess.run(one_hot_matrix)\n",
    "sess.close()\n",
    "\n",
    "imgs_norm = imgs / 255."
   ]
  },
  {
   "cell_type": "code",
   "execution_count": 12,
   "metadata": {
    "collapsed": false
   },
   "outputs": [],
   "source": [
    "assert labels_one_hot.shape == (10, len(labels))"
   ]
  },
  {
   "cell_type": "code",
   "execution_count": 13,
   "metadata": {
    "collapsed": false
   },
   "outputs": [],
   "source": [
    "dev_set_size = int(len(imgs_norm) * 0.2)\n",
    "\n",
    "training_imgs_X = imgs_norm.T[:, dev_set_size:]\n",
    "training_labels_y = labels_one_hot[:, dev_set_size:]\n",
    "\n",
    "dev_imgs_X = imgs_norm.T[:, :dev_set_size]\n",
    "dev_labels_y = labels_one_hot[:, :dev_set_size]"
   ]
  },
  {
   "cell_type": "code",
   "execution_count": 14,
   "metadata": {
    "collapsed": false
   },
   "outputs": [
    {
     "name": "stdout",
     "output_type": "stream",
     "text": [
      "Training X shape:  (784, 33600)\n",
      "Training y shape:  (10, 33600)\n",
      "Dev X shape:  (784, 8400)\n",
      "Dev y shape:  (10, 8400)\n"
     ]
    }
   ],
   "source": [
    "print(\"Training X shape: \", training_imgs_X.shape)\n",
    "print(\"Training y shape: \", training_labels_y.shape)\n",
    "\n",
    "print(\"Dev X shape: \", dev_imgs_X.shape)\n",
    "print(\"Dev y shape: \", dev_labels_y.shape)"
   ]
  },
  {
   "cell_type": "markdown",
   "metadata": {},
   "source": [
    "## Simple Neural Net\n",
    "\n",
    "Going to build a simple 3-layer NN and see what sort of performance I get. Setting the mini batch size to 64."
   ]
  },
  {
   "cell_type": "code",
   "execution_count": 15,
   "metadata": {
    "collapsed": false
   },
   "outputs": [],
   "source": [
    "num_digits = 10\n",
    "learning_rate = 0.0001\n",
    "num_epochs = 1000\n",
    "print_every = 100\n",
    "mini_batch_size = 64"
   ]
  },
  {
   "cell_type": "code",
   "execution_count": 16,
   "metadata": {
    "collapsed": true
   },
   "outputs": [],
   "source": [
    "def get_random_minibatches(X, Y, mini_batch_size=64, seed=0):\n",
    "    \"\"\"Return a list of minibatches in format ([x...], [y...]).\"\"\"\n",
    "    np.random.seed(seed)\n",
    "    m = X.shape[1]\n",
    "    \n",
    "    # Create a random list of numbers\n",
    "    permutations = list(np.random.permutation(m))\n",
    "    shuffled_X = X[:, permutations]\n",
    "    shuffled_Y = Y[:, permutations]\n",
    "    \n",
    "    num_mini_batches = math.floor(m / mini_batch_size)\n",
    "    \n",
    "    for i in range(num_mini_batches):\n",
    "        start_pos = i * mini_batch_size\n",
    "        end_pos = start_pos + mini_batch_size\n",
    "        \n",
    "        mini_batch_X = shuffled_X[:, start_pos:end_pos]\n",
    "        mini_batch_Y = shuffled_Y[:, start_pos:end_pos]\n",
    "        \n",
    "        yield (mini_batch_X, mini_batch_Y)\n",
    "        \n",
    "    if m % mini_batch_size != 0:\n",
    "        mini_batch_X = shuffled_X[:, m - mini_batch_size : ]\n",
    "        mini_batch_Y = shuffled_Y[:, m - mini_batch_size : ]\n",
    "        yield (mini_batch_X, mini_batch_Y)"
   ]
  },
  {
   "cell_type": "markdown",
   "metadata": {},
   "source": [
    "Create a simple 3 layer network, by initialising weight vectors and defining simple cost function."
   ]
  },
  {
   "cell_type": "code",
   "execution_count": 21,
   "metadata": {
    "collapsed": true
   },
   "outputs": [],
   "source": [
    "def init_params():\n",
    "    W1 = tf.get_variable('W1', [256, training_imgs_X.shape[0]], initializer=tf.contrib.layers.xavier_initializer(seed=1))\n",
    "    b1 = tf.get_variable('b1', [256, 1], initializer=tf.zeros_initializer())\n",
    "    W2 = tf.get_variable('W2', [256, 256], initializer=tf.contrib.layers.xavier_initializer(seed=1))\n",
    "    b2 = tf.get_variable('b2', [256, 1], initializer=tf.zeros_initializer())\n",
    "    out = tf.get_variable('out', [10, 256], initializer=tf.contrib.layers.xavier_initializer(seed=1))\n",
    "    bout = tf.get_variable('bout', [10, 1], initializer=tf.zeros_initializer())\n",
    "    \n",
    "    return {\n",
    "        'W1': W1, 'b1': b1, 'W2': W2, 'b2': b2, 'out': out, 'bout': bout}"
   ]
  },
  {
   "cell_type": "code",
   "execution_count": 22,
   "metadata": {
    "collapsed": true
   },
   "outputs": [],
   "source": [
    "def forward_prop(X, params):\n",
    "    # Hidden fully connected layer with 256 neurons\n",
    "    Z1 = tf.matmul(params['W1'], X) + params['b1']\n",
    "    layer_1 = tf.nn.relu(Z1)\n",
    "\n",
    "    # Hidden fully connected layer with 256 neurons\n",
    "    Z2 = tf.matmul(params['W2'], layer_1) + params['b2']\n",
    "    layer_2 = tf.nn.relu(Z2)\n",
    "\n",
    "    # Output fully connected layer with a neuron for each class\n",
    "    out_layer = tf.add(tf.matmul(params['out'], layer_2), params['bout'])\n",
    "    \n",
    "    return out_layer"
   ]
  },
  {
   "cell_type": "code",
   "execution_count": 23,
   "metadata": {
    "collapsed": true
   },
   "outputs": [],
   "source": [
    "def get_cost(out_layer, Y):\n",
    "    logits = tf.transpose(out_layer)\n",
    "    labels = tf.transpose(Y)\n",
    "\n",
    "    cost = tf.reduce_mean(tf.nn.softmax_cross_entropy_with_logits(logits=logits, labels=labels))\n",
    "    \n",
    "    return cost"
   ]
  },
  {
   "cell_type": "code",
   "execution_count": 38,
   "metadata": {
    "collapsed": false
   },
   "outputs": [
    {
     "name": "stdout",
     "output_type": "stream",
     "text": [
      "Cost at 10 epochs is 0.07842702900547364\n",
      "Cost at 20 epochs is 0.02384482302325998\n",
      "Cost at 30 epochs is 0.005488241370933661\n",
      "Cost at 40 epochs is 0.0008986686833876383\n",
      "Cost at 50 epochs is 0.00011584080914785542\n",
      "Cost at 60 epochs is 1.2372904813722532e-05\n",
      "Cost at 70 epochs is 1.1787713789125827e-06\n",
      "Cost at 80 epochs is 1.1378082555775425e-07\n",
      "Cost at 90 epochs is 1.5844897879049202e-08\n",
      "Cost at 100 epochs is 4.970601140210019e-09\n"
     ]
    },
    {
     "data": {
      "image/png": "[encoded data removed]",
      "text/plain": [
       "<matplotlib.figure.Figure at 0x1285bdda0>"
      ]
     },
     "metadata": {},
     "output_type": "display_data"
    },
    {
     "name": "stdout",
     "output_type": "stream",
     "text": [
      "Train Accuracy: 1.0\n",
      "Test Accuracy: 0.973929\n"
     ]
    }
   ],
   "source": [
    "m = training_imgs_X.shape[1]\n",
    "\n",
    "num_epochs = 100\n",
    "print_every = 10\n",
    "\n",
    "tf.reset_default_graph()\n",
    "\n",
    "with tf.Session() as sess:\n",
    "    X = tf.placeholder(tf.float32, shape=(training_imgs_X.shape[0], None), name='X')\n",
    "    Y = tf.placeholder(tf.float32, shape=(10, None), name='Y')\n",
    "    \n",
    "    costs = []\n",
    "    num_mini_batches = m / mini_batch_size\n",
    "    \n",
    "    params = init_params()\n",
    "    \n",
    "    out_layer = forward_prop(X, params)\n",
    "    \n",
    "    cost = get_cost(out_layer, Y)\n",
    "    \n",
    "    optimizer = tf.train.AdamOptimizer(learning_rate=learning_rate).minimize(cost)\n",
    "    \n",
    "    init = tf.global_variables_initializer()\n",
    "    sess.run(init)\n",
    "        \n",
    "    for epoch in range(1, num_epochs + 1):\n",
    "        epoch_cost = 0.\n",
    "        \n",
    "        minibatches = get_random_minibatches(training_imgs_X, training_labels_y, mini_batch_size)\n",
    "        \n",
    "        for X_mini, y_mini in minibatches:\n",
    "            _, batch_cost = sess.run([optimizer, cost], feed_dict={X: X_mini, Y: y_mini})\n",
    "            epoch_cost += batch_cost / num_mini_batches\n",
    "            \n",
    "        if epoch % print_every == 0:\n",
    "            print(\"Cost at {0} epochs is {1}\".format(epoch, epoch_cost))\n",
    "        if epoch % 5 == 0:\n",
    "            costs.append(epoch_cost)\n",
    "            \n",
    "    plt.plot(np.squeeze(costs))\n",
    "    plt.ylabel('cost')\n",
    "    plt.xlabel('iterations (per 5)')\n",
    "    plt.title(\"Learning rate =\" + str(learning_rate))\n",
    "    plt.show()\n",
    "    \n",
    "    # Save params\n",
    "    params = sess.run(params)\n",
    "    \n",
    "    correct_prediction = tf.equal(tf.argmax(out_layer), tf.argmax(Y))\n",
    "    accuracy = tf.reduce_mean(tf.cast(correct_prediction, \"float\"))\n",
    "    \n",
    "    print (\"Train Accuracy:\", accuracy.eval({X: training_imgs_X, Y: training_labels_y}))\n",
    "    print (\"Test Accuracy:\", accuracy.eval({X: dev_imgs_X, Y: dev_labels_y}))"
   ]
  },
  {
   "cell_type": "markdown",
   "metadata": {},
   "source": [
    "Can't really beat that for train accuracy! Let's see how the model does on the test data."
   ]
  },
  {
   "cell_type": "code",
   "execution_count": 45,
   "metadata": {
    "collapsed": true
   },
   "outputs": [],
   "source": [
    "def predict(X, parameters):  \n",
    "    W1 = tf.convert_to_tensor(parameters[\"W1\"])\n",
    "    b1 = tf.convert_to_tensor(parameters[\"b1\"])\n",
    "    W2 = tf.convert_to_tensor(parameters[\"W2\"])\n",
    "    b2 = tf.convert_to_tensor(parameters[\"b2\"])\n",
    "    out = tf.convert_to_tensor(parameters[\"out\"])\n",
    "    bout = tf.convert_to_tensor(parameters[\"bout\"])\n",
    "    \n",
    "    params = {\"W1\": W1,\n",
    "              \"b1\": b1,\n",
    "              \"W2\": W2,\n",
    "              \"b2\": b2,\n",
    "              \"out\": out,\n",
    "              \"bout\": bout}\n",
    "    \n",
    "    x = tf.placeholder(\"float\", [784, None])\n",
    "    \n",
    "    out_layer = forward_prop(x, params)\n",
    "    p = tf.argmax(out_layer)\n",
    "    \n",
    "    sess = tf.Session()\n",
    "    prediction = sess.run(p, feed_dict = {x: X})\n",
    "        \n",
    "    return prediction"
   ]
  },
  {
   "cell_type": "code",
   "execution_count": 65,
   "metadata": {
    "collapsed": true
   },
   "outputs": [],
   "source": [
    "fh = open('./data/test.csv')\n",
    "reader = csv.reader(fh)\n",
    "\n",
    "# Skip header line\n",
    "_ = next(reader)\n",
    "\n",
    "test_imgs = [line for line in reader]\n",
    "\n",
    "test_imgs = np.uint8(test_imgs)\n",
    "test_imgs_norm = test_imgs / 255."
   ]
  },
  {
   "cell_type": "code",
   "execution_count": 66,
   "metadata": {
    "collapsed": false
   },
   "outputs": [],
   "source": [
    "predictions = predict(test_imgs_norm.T, params)"
   ]
  },
  {
   "cell_type": "code",
   "execution_count": 69,
   "metadata": {
    "collapsed": false
   },
   "outputs": [
    {
     "data": {
      "image/png": "[encoded data removed]",
      "text/plain": [
       "<IPython.core.display.Image object>"
      ]
     },
     "metadata": {},
     "output_type": "display_data"
    },
    {
     "data": {
      "text/plain": [
       "(None, 2)"
      ]
     },
     "execution_count": 69,
     "metadata": {},
     "output_type": "execute_result"
    }
   ],
   "source": [
    "show_digit(test_imgs[0]), predictions[0]"
   ]
  },
  {
   "cell_type": "code",
   "execution_count": 70,
   "metadata": {
    "collapsed": false
   },
   "outputs": [],
   "source": [
    "output = open('output.csv', 'w')\n",
    "output.write(u'ImageId,Label\\n')\n",
    "for count, pred in enumerate(predictions):\n",
    "    output.write(u'{0},{1}\\n'.format(count + 1, pred))\n",
    "output.close()"
   ]
  }
 ],
 "metadata": {
  "kernelspec": {
   "display_name": "Python 3",
   "language": "python",
   "name": "python3"
  },
  "language_info": {
   "codemirror_mode": {
    "name": "ipython",
    "version": 3
   },
   "file_extension": ".py",
   "mimetype": "text/x-python",
   "name": "python",
   "nbconvert_exporter": "python",
   "pygments_lexer": "ipython3",
   "version": "3.6.0"
  }
 },
 "nbformat": 4,
 "nbformat_minor": 2
}
