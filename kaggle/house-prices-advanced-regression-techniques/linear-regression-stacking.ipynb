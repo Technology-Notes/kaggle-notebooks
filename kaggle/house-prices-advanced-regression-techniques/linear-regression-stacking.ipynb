{
 "cells": [
  {
   "cell_type": "code",
   "execution_count": 2,
   "metadata": {},
   "outputs": [],
   "source": [
    "%load_ext autoreload\n",
    "%autoreload 2\n",
    "\n",
    "%matplotlib inline\n",
    "\n",
    "from math import sqrt\n",
    "\n",
    "import pandas as pd\n",
    "import numpy as np\n",
    "import matplotlib.pyplot as plt\n",
    "import seaborn as sns\n",
    "import os\n",
    "from pathlib import Path\n",
    "from IPython.display import display, FileLink\n",
    "from sklearn.preprocessing import MinMaxScaler\n",
    "from sklearn.linear_model import Lasso, Ridge, ElasticNet\n",
    "from sklearn.ensemble import RandomForestRegressor\n",
    "from sklearn.ensemble import GradientBoostingRegressor\n",
    "from lightgbm import LGBMRegressor\n",
    "from sklearn.model_selection import train_test_split, cross_val_score\n",
    "from scipy.stats import skew\n",
    "from scipy.special import boxcox1p\n",
    "from sklearn.model_selection import KFold\n",
    "from xgboost import XGBRegressor"
   ]
  },
  {
   "cell_type": "markdown",
   "metadata": {},
   "source": [
    "# House prices predictions: stacking models"
   ]
  },
  {
   "cell_type": "markdown",
   "metadata": {},
   "source": [
    "Another attempt to improve upon my Housing Prices Prediction score using stacked models.\n",
    "\n",
    "See [linear-regression](./linear-regression.ipynb) for feature engineering."
   ]
  },
  {
   "cell_type": "code",
   "execution_count": 3,
   "metadata": {},
   "outputs": [],
   "source": [
    "PATH = Path('./data')"
   ]
  },
  {
   "cell_type": "code",
   "execution_count": 4,
   "metadata": {},
   "outputs": [],
   "source": [
    "df_train = pd.read_feather(PATH / 'df_numeric')\n",
    "df_test = pd.read_feather(PATH / 'df_test')\n",
    "sale_price_log = pd.read_feather(PATH / 'sale_price_log')\n",
    "test_house_ids = pd.read_feather(PATH / 'test_house_ids')\n",
    "\n",
    "sale_price_log = sale_price_log['SalePrice']\n",
    "test_house_ids = test_house_ids['Id']"
   ]
  },
  {
   "cell_type": "code",
   "execution_count": 10,
   "metadata": {},
   "outputs": [],
   "source": [
    "X_train, X_val, y_train, y_val = train_test_split(\n",
    "    df_train, sale_price_log, test_size=0.2, random_state=42, shuffle=True)"
   ]
  },
  {
   "cell_type": "code",
   "execution_count": 11,
   "metadata": {},
   "outputs": [],
   "source": [
    "kf = KFold(n_splits=10, shuffle=True, random_state=42)"
   ]
  },
  {
   "cell_type": "markdown",
   "metadata": {},
   "source": [
    "### Lasso"
   ]
  },
  {
   "cell_type": "code",
   "execution_count": 12,
   "metadata": {},
   "outputs": [],
   "source": [
    "lasso_model = Lasso(alpha=0.0004)\n",
    "scores = np.sqrt(\n",
    "    -cross_val_score(lasso_model, df_train, sale_price_log, cv=kf, scoring='neg_mean_squared_error'))"
   ]
  },
  {
   "cell_type": "code",
   "execution_count": 13,
   "metadata": {},
   "outputs": [
    {
     "data": {
      "text/plain": [
       "0.10823729456698991"
      ]
     },
     "execution_count": 13,
     "metadata": {},
     "output_type": "execute_result"
    }
   ],
   "source": [
    "scores.mean()"
   ]
  },
  {
   "cell_type": "code",
   "execution_count": 14,
   "metadata": {},
   "outputs": [
    {
     "name": "stdout",
     "output_type": "stream",
     "text": [
      "RMSE on val set: 0.11070044379233307\n"
     ]
    }
   ],
   "source": [
    "lasso_model.fit(X_train, y_train)\n",
    "lasso_val_preds = lasso_model.predict(X_val)\n",
    "print(f\"RMSE on val set: {sqrt(((lasso_val_preds - y_val)**2).mean())}\")"
   ]
  },
  {
   "cell_type": "markdown",
   "metadata": {},
   "source": [
    "### Ridge"
   ]
  },
  {
   "cell_type": "code",
   "execution_count": 16,
   "metadata": {},
   "outputs": [],
   "source": [
    "ridge_model = Ridge(alpha=30, fit_intercept = True)\n",
    "scores = np.sqrt(\n",
    "    -cross_val_score(ridge_model, df_train, sale_price_log, cv=kf, scoring='neg_mean_squared_error'))"
   ]
  },
  {
   "cell_type": "code",
   "execution_count": 17,
   "metadata": {},
   "outputs": [
    {
     "data": {
      "text/plain": [
       "0.10958086474232627"
      ]
     },
     "execution_count": 17,
     "metadata": {},
     "output_type": "execute_result"
    }
   ],
   "source": [
    "scores.mean()"
   ]
  },
  {
   "cell_type": "code",
   "execution_count": 18,
   "metadata": {},
   "outputs": [
    {
     "name": "stdout",
     "output_type": "stream",
     "text": [
      "RMSE on val set: 0.1160855649761875\n"
     ]
    }
   ],
   "source": [
    "ridge_model.fit(X_train, y_train)\n",
    "ridge_val_preds = ridge_model.predict(X_val)\n",
    "print(f\"RMSE on val set: {sqrt(((ridge_val_preds - y_val)**2).mean())}\")"
   ]
  },
  {
   "cell_type": "markdown",
   "metadata": {},
   "source": [
    "### ElasticNet"
   ]
  },
  {
   "cell_type": "code",
   "execution_count": 19,
   "metadata": {},
   "outputs": [],
   "source": [
    "elasticnet_model = ElasticNet(alpha=0.0006, l1_ratio=0.8)\n",
    "scores = np.sqrt(\n",
    "    -cross_val_score(elasticnet_model, df_train, sale_price_log, cv=kf, scoring='neg_mean_squared_error'))"
   ]
  },
  {
   "cell_type": "code",
   "execution_count": 20,
   "metadata": {},
   "outputs": [
    {
     "data": {
      "text/plain": [
       "0.10810810326324131"
      ]
     },
     "execution_count": 20,
     "metadata": {},
     "output_type": "execute_result"
    }
   ],
   "source": [
    "scores.mean()"
   ]
  },
  {
   "cell_type": "code",
   "execution_count": 21,
   "metadata": {},
   "outputs": [
    {
     "name": "stdout",
     "output_type": "stream",
     "text": [
      "RMSE on val set: 0.11033188290550583\n"
     ]
    }
   ],
   "source": [
    "elasticnet_model.fit(X_train, y_train)\n",
    "elasticnet_val_preds = elasticnet_model.predict(X_val)\n",
    "print(f\"RMSE on val set: {sqrt(((elasticnet_val_preds - y_val)**2).mean())}\")"
   ]
  },
  {
   "cell_type": "markdown",
   "metadata": {},
   "source": [
    "### GradientBoostingRegressor"
   ]
  },
  {
   "cell_type": "code",
   "execution_count": 23,
   "metadata": {},
   "outputs": [],
   "source": [
    "gbr_model = GradientBoostingRegressor(\n",
    "    n_estimators=3000, learning_rate=0.02,\n",
    "    max_depth=6, max_features='sqrt',\n",
    "    min_samples_leaf=15, min_samples_split=50,\n",
    "    loss='huber', random_state = 5)\n",
    "scores = np.sqrt(\n",
    "    -cross_val_score(gbr_model, df_train, sale_price_log, cv=kf, scoring='neg_mean_squared_error'))"
   ]
  },
  {
   "cell_type": "code",
   "execution_count": 24,
   "metadata": {},
   "outputs": [
    {
     "data": {
      "text/plain": [
       "0.1135230901245946"
      ]
     },
     "execution_count": 24,
     "metadata": {},
     "output_type": "execute_result"
    }
   ],
   "source": [
    "scores.mean()"
   ]
  },
  {
   "cell_type": "code",
   "execution_count": 25,
   "metadata": {},
   "outputs": [
    {
     "name": "stdout",
     "output_type": "stream",
     "text": [
      "RMSE on val set: 0.12258554724859602\n"
     ]
    }
   ],
   "source": [
    "gbr_model.fit(X_train, y_train)\n",
    "gbr_val_preds = gbr_model.predict(X_val)\n",
    "print(f\"RMSE on val set: {sqrt(((gbr_val_preds - y_val)**2).mean())}\")"
   ]
  },
  {
   "cell_type": "markdown",
   "metadata": {},
   "source": [
    "### LightGBM"
   ]
  },
  {
   "cell_type": "code",
   "execution_count": 27,
   "metadata": {},
   "outputs": [],
   "source": [
    "lgbm_model = LGBMRegressor(\n",
    "    objective='regression', num_leaves=5,\n",
    "    learning_rate=0.05, n_estimators=720,\n",
    "    max_bin = 55, bagging_fraction = 0.8,\n",
    "    bagging_freq = 5, feature_fraction = 0.2319,\n",
    "    feature_fraction_seed=9, bagging_seed=9,\n",
    "    min_data_in_leaf =6, min_sum_hessian_in_leaf=11)\n",
    "scores = np.sqrt(\n",
    "    -cross_val_score(lgbm_model, df_train, sale_price_log, cv=kf, scoring='neg_mean_squared_error'))"
   ]
  },
  {
   "cell_type": "code",
   "execution_count": 28,
   "metadata": {},
   "outputs": [
    {
     "data": {
      "text/plain": [
       "0.11593711158827336"
      ]
     },
     "execution_count": 28,
     "metadata": {},
     "output_type": "execute_result"
    }
   ],
   "source": [
    "scores.mean()"
   ]
  },
  {
   "cell_type": "code",
   "execution_count": 29,
   "metadata": {},
   "outputs": [
    {
     "name": "stdout",
     "output_type": "stream",
     "text": [
      "RMSE on val set: 0.12305123423884004\n"
     ]
    }
   ],
   "source": [
    "lgbm_model.fit(X_train, y_train)\n",
    "lgbm_val_preds = lgbm_model.predict(X_val)\n",
    "print(f\"RMSE on val set: {sqrt(((lgbm_val_preds - y_val)**2).mean())}\")"
   ]
  },
  {
   "cell_type": "markdown",
   "metadata": {},
   "source": [
    "### Average models"
   ]
  },
  {
   "cell_type": "code",
   "execution_count": 31,
   "metadata": {},
   "outputs": [],
   "source": [
    "average_preds = (\n",
    "    lgbm_val_preds +\n",
    "    gbr_val_preds +\n",
    "    elasticnet_val_preds +\n",
    "    ridge_val_preds +\n",
    "    lasso_val_preds\n",
    ") / 5"
   ]
  },
  {
   "cell_type": "code",
   "execution_count": 32,
   "metadata": {},
   "outputs": [
    {
     "name": "stdout",
     "output_type": "stream",
     "text": [
      "RMSE on ensemble: 0.112181069990364\n"
     ]
    }
   ],
   "source": [
    "print(f\"RMSE on ensemble: {sqrt(((average_preds - y_val)**2).mean())}\")"
   ]
  },
  {
   "cell_type": "markdown",
   "metadata": {},
   "source": [
    "Finally, we'll train the model on the whole training set and submit the predictions."
   ]
  },
  {
   "cell_type": "code",
   "execution_count": 33,
   "metadata": {},
   "outputs": [
    {
     "data": {
      "text/plain": [
       "LGBMRegressor(bagging_fraction=0.8, bagging_freq=5, bagging_seed=9,\n",
       "       boosting_type='gbdt', class_weight=None, colsample_bytree=1.0,\n",
       "       feature_fraction=0.2319, feature_fraction_seed=9,\n",
       "       learning_rate=0.05, max_bin=55, max_depth=-1, min_child_samples=20,\n",
       "       min_child_weight=0.001, min_data_in_leaf=6, min_split_gain=0.0,\n",
       "       min_sum_hessian_in_leaf=11, n_estimators=720, n_jobs=-1,\n",
       "       num_leaves=5, objective='regression', random_state=None,\n",
       "       reg_alpha=0.0, reg_lambda=0.0, silent=True, subsample=1.0,\n",
       "       subsample_for_bin=200000, subsample_freq=0)"
      ]
     },
     "execution_count": 33,
     "metadata": {},
     "output_type": "execute_result"
    }
   ],
   "source": [
    "lasso_model.fit(df_train, sale_price_log)\n",
    "ridge_model.fit(df_train, sale_price_log)\n",
    "elasticnet_model.fit(df_train, sale_price_log)\n",
    "gbr_model.fit(df_train, sale_price_log)\n",
    "lgbm_model.fit(df_train, sale_price_log)"
   ]
  },
  {
   "cell_type": "markdown",
   "metadata": {},
   "source": [
    "## 4. Submit predictions"
   ]
  },
  {
   "cell_type": "code",
   "execution_count": 34,
   "metadata": {},
   "outputs": [],
   "source": [
    "lasso_test_preds = lasso_model.predict(df_test)\n",
    "ridge_test_preds = ridge_model.predict(df_test)\n",
    "elasticnet_test_preds = elasticnet_model.predict(df_test)\n",
    "gbr_test_preds = gbr_model.predict(df_test)\n",
    "lgbm_test_preds = lgbm_model.predict(df_test)"
   ]
  },
  {
   "cell_type": "code",
   "execution_count": 35,
   "metadata": {},
   "outputs": [],
   "source": [
    "average_preds = (\n",
    "    lasso_test_preds +\n",
    "    ridge_test_preds +\n",
    "    elasticnet_test_preds +\n",
    "    gbr_test_preds +\n",
    "    lgbm_test_preds\n",
    ") / 5"
   ]
  },
  {
   "cell_type": "code",
   "execution_count": 37,
   "metadata": {},
   "outputs": [],
   "source": [
    "pd.DataFrame({'Id': test_house_ids, 'SalePrice': np.exp(average_preds)}).to_csv(f'{PATH}/sub_stack.csv', index=False)"
   ]
  },
  {
   "cell_type": "code",
   "execution_count": 38,
   "metadata": {},
   "outputs": [
    {
     "data": {
      "text/html": [
       "<a href='data/sub_stack.csv' target='_blank'>data/sub_stack.csv</a><br>"
      ],
      "text/plain": [
       "/Users/lex/code/notebooks/kaggle/house-prices-advanced-regression-techniques/data/sub_stack.csv"
      ]
     },
     "execution_count": 38,
     "metadata": {},
     "output_type": "execute_result"
    }
   ],
   "source": [
    "FileLink(str(PATH / 'sub_stack.csv'))"
   ]
  },
  {
   "cell_type": "markdown",
   "metadata": {},
   "source": [
    "<img src=\"./images/submission-12.png\">"
   ]
  },
  {
   "cell_type": "markdown",
   "metadata": {},
   "source": []
  },
  {
   "cell_type": "code",
   "execution_count": null,
   "metadata": {},
   "outputs": [],
   "source": []
  }
 ],
 "metadata": {
  "kernelspec": {
   "display_name": "Python 3",
   "language": "python",
   "name": "python3"
  },
  "language_info": {
   "codemirror_mode": {
    "name": "ipython",
    "version": 3
   },
   "file_extension": ".py",
   "mimetype": "text/x-python",
   "name": "python",
   "nbconvert_exporter": "python",
   "pygments_lexer": "ipython3",
   "version": "3.6.4"
  }
 },
 "nbformat": 4,
 "nbformat_minor": 2
}
