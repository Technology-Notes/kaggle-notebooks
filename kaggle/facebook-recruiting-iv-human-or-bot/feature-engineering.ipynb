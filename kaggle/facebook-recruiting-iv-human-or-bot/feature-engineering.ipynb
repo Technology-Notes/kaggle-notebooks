{
 "cells": [
  {
   "cell_type": "markdown",
   "metadata": {},
   "source": [
    "# Facebook Recruiting IV: Human or Bot"
   ]
  },
  {
   "cell_type": "markdown",
   "metadata": {},
   "source": [
    "This notebook is a Machine Learning driven exploration of the Facebook Human vs Bot dataset from competition https://www.kaggle.com/c/facebook-recruiting-iv-human-or-bot"
   ]
  },
  {
   "cell_type": "code",
   "execution_count": 86,
   "metadata": {},
   "outputs": [],
   "source": [
    "%reload_ext autoreload\n",
    "%autoreload 2\n",
    "%matplotlib inline\n",
    "\n",
    "import os\n",
    "from pathlib import Path\n",
    "\n",
    "import pandas as pd\n",
    "import numpy as np\n",
    "\n",
    "from collections import defaultdict\n",
    "from matplotlib import pyplot as plt\n",
    "from lightgbm import LGBMRegressor\n",
    "from sklearn.model_selection import train_test_split\n",
    "from sklearn.metrics import roc_auc_score\n",
    "import matplotlib.pyplot as plt\n",
    "import seaborn as sns\n",
    "from sklearn.model_selection import KFold\n",
    "\n",
    "# Don't display scientific notation\n",
    "pd.options.display.float_format = '{:20,.2f}'.format"
   ]
  },
  {
   "cell_type": "code",
   "execution_count": 2,
   "metadata": {},
   "outputs": [],
   "source": [
    "PATH = Path('./data')"
   ]
  },
  {
   "cell_type": "code",
   "execution_count": 2,
   "metadata": {},
   "outputs": [
    {
     "name": "stdout",
     "output_type": "stream",
     "text": [
      "Warning: Looks like you're using an outdated API Version, please consider updating (server 1.3.9.1 / client 1.3.8)\n",
      "train.csv.zip: Downloaded 115KB of 115KB to ./data\n",
      "sampleSubmission.csv: Downloaded 193KB of 193KB to ./data\n",
      "test.csv.zip: Downloaded 264KB of 264KB to ./data\n",
      "bids.csv.zip: Downloaded 249MB of 249MB to ./data\n"
     ]
    }
   ],
   "source": [
    "!kaggle competitions download -c facebook-recruiting-iv-human-or-bot --path={PATH}"
   ]
  },
  {
   "cell_type": "code",
   "execution_count": 6,
   "metadata": {},
   "outputs": [],
   "source": [
    "for file in os.listdir(PATH):\n",
    "    if not file.endswith('zip'):\n",
    "        continue\n",
    "        \n",
    "    !unzip -q -d {PATH} {PATH}/{file}"
   ]
  },
  {
   "cell_type": "code",
   "execution_count": 3,
   "metadata": {},
   "outputs": [],
   "source": [
    "train_df = pd.read_csv(PATH / 'train.csv')"
   ]
  },
  {
   "cell_type": "code",
   "execution_count": 4,
   "metadata": {},
   "outputs": [],
   "source": [
    "bids = pd.read_csv(PATH / 'bids.csv')"
   ]
  },
  {
   "cell_type": "code",
   "execution_count": 5,
   "metadata": {},
   "outputs": [
    {
     "data": {
      "text/html": [
       "<div>\n",
       "<style scoped>\n",
       "    .dataframe tbody tr th:only-of-type {\n",
       "        vertical-align: middle;\n",
       "    }\n",
       "\n",
       "    .dataframe tbody tr th {\n",
       "        vertical-align: top;\n",
       "    }\n",
       "\n",
       "    .dataframe thead th {\n",
       "        text-align: right;\n",
       "    }\n",
       "</style>\n",
       "<table border=\"1\" class=\"dataframe\">\n",
       "  <thead>\n",
       "    <tr style=\"text-align: right;\">\n",
       "      <th></th>\n",
       "      <th>bid_id</th>\n",
       "      <th>bidder_id</th>\n",
       "      <th>auction</th>\n",
       "      <th>merchandise</th>\n",
       "      <th>device</th>\n",
       "      <th>time</th>\n",
       "      <th>country</th>\n",
       "      <th>ip</th>\n",
       "      <th>url</th>\n",
       "    </tr>\n",
       "  </thead>\n",
       "  <tbody>\n",
       "    <tr>\n",
       "      <th>0</th>\n",
       "      <td>0</td>\n",
       "      <td>8dac2b259fd1c6d1120e519fb1ac14fbqvax8</td>\n",
       "      <td>ewmzr</td>\n",
       "      <td>jewelry</td>\n",
       "      <td>phone0</td>\n",
       "      <td>9759243157894736</td>\n",
       "      <td>us</td>\n",
       "      <td>69.166.231.58</td>\n",
       "      <td>vasstdc27m7nks3</td>\n",
       "    </tr>\n",
       "    <tr>\n",
       "      <th>1</th>\n",
       "      <td>1</td>\n",
       "      <td>668d393e858e8126275433046bbd35c6tywop</td>\n",
       "      <td>aeqok</td>\n",
       "      <td>furniture</td>\n",
       "      <td>phone1</td>\n",
       "      <td>9759243157894736</td>\n",
       "      <td>in</td>\n",
       "      <td>50.201.125.84</td>\n",
       "      <td>jmqlhflrzwuay9c</td>\n",
       "    </tr>\n",
       "    <tr>\n",
       "      <th>2</th>\n",
       "      <td>2</td>\n",
       "      <td>aa5f360084278b35d746fa6af3a7a1a5ra3xe</td>\n",
       "      <td>wa00e</td>\n",
       "      <td>home goods</td>\n",
       "      <td>phone2</td>\n",
       "      <td>9759243157894736</td>\n",
       "      <td>py</td>\n",
       "      <td>112.54.208.157</td>\n",
       "      <td>vasstdc27m7nks3</td>\n",
       "    </tr>\n",
       "    <tr>\n",
       "      <th>3</th>\n",
       "      <td>3</td>\n",
       "      <td>3939ac3ef7d472a59a9c5f893dd3e39fh9ofi</td>\n",
       "      <td>jefix</td>\n",
       "      <td>jewelry</td>\n",
       "      <td>phone4</td>\n",
       "      <td>9759243157894736</td>\n",
       "      <td>in</td>\n",
       "      <td>18.99.175.133</td>\n",
       "      <td>vasstdc27m7nks3</td>\n",
       "    </tr>\n",
       "    <tr>\n",
       "      <th>4</th>\n",
       "      <td>4</td>\n",
       "      <td>8393c48eaf4b8fa96886edc7cf27b372dsibi</td>\n",
       "      <td>jefix</td>\n",
       "      <td>jewelry</td>\n",
       "      <td>phone5</td>\n",
       "      <td>9759243157894736</td>\n",
       "      <td>in</td>\n",
       "      <td>145.138.5.37</td>\n",
       "      <td>vasstdc27m7nks3</td>\n",
       "    </tr>\n",
       "  </tbody>\n",
       "</table>\n",
       "</div>"
      ],
      "text/plain": [
       "   bid_id                              bidder_id auction merchandise  device  \\\n",
       "0       0  8dac2b259fd1c6d1120e519fb1ac14fbqvax8   ewmzr     jewelry  phone0   \n",
       "1       1  668d393e858e8126275433046bbd35c6tywop   aeqok   furniture  phone1   \n",
       "2       2  aa5f360084278b35d746fa6af3a7a1a5ra3xe   wa00e  home goods  phone2   \n",
       "3       3  3939ac3ef7d472a59a9c5f893dd3e39fh9ofi   jefix     jewelry  phone4   \n",
       "4       4  8393c48eaf4b8fa96886edc7cf27b372dsibi   jefix     jewelry  phone5   \n",
       "\n",
       "               time country              ip              url  \n",
       "0  9759243157894736      us   69.166.231.58  vasstdc27m7nks3  \n",
       "1  9759243157894736      in   50.201.125.84  jmqlhflrzwuay9c  \n",
       "2  9759243157894736      py  112.54.208.157  vasstdc27m7nks3  \n",
       "3  9759243157894736      in   18.99.175.133  vasstdc27m7nks3  \n",
       "4  9759243157894736      in    145.138.5.37  vasstdc27m7nks3  "
      ]
     },
     "execution_count": 5,
     "metadata": {},
     "output_type": "execute_result"
    }
   ],
   "source": [
    "bids.head()"
   ]
  },
  {
   "cell_type": "code",
   "execution_count": 6,
   "metadata": {},
   "outputs": [
    {
     "data": {
      "text/html": [
       "<div>\n",
       "<style scoped>\n",
       "    .dataframe tbody tr th:only-of-type {\n",
       "        vertical-align: middle;\n",
       "    }\n",
       "\n",
       "    .dataframe tbody tr th {\n",
       "        vertical-align: top;\n",
       "    }\n",
       "\n",
       "    .dataframe thead th {\n",
       "        text-align: right;\n",
       "    }\n",
       "</style>\n",
       "<table border=\"1\" class=\"dataframe\">\n",
       "  <thead>\n",
       "    <tr style=\"text-align: right;\">\n",
       "      <th></th>\n",
       "      <th>bidder_id</th>\n",
       "      <th>payment_account</th>\n",
       "      <th>address</th>\n",
       "      <th>outcome</th>\n",
       "    </tr>\n",
       "  </thead>\n",
       "  <tbody>\n",
       "    <tr>\n",
       "      <th>0</th>\n",
       "      <td>91a3c57b13234af24875c56fb7e2b2f4rb56a</td>\n",
       "      <td>a3d2de7675556553a5f08e4c88d2c228754av</td>\n",
       "      <td>a3d2de7675556553a5f08e4c88d2c228vt0u4</td>\n",
       "      <td>0.00</td>\n",
       "    </tr>\n",
       "    <tr>\n",
       "      <th>1</th>\n",
       "      <td>624f258b49e77713fc34034560f93fb3hu3jo</td>\n",
       "      <td>a3d2de7675556553a5f08e4c88d2c228v1sga</td>\n",
       "      <td>ae87054e5a97a8f840a3991d12611fdcrfbq3</td>\n",
       "      <td>0.00</td>\n",
       "    </tr>\n",
       "    <tr>\n",
       "      <th>2</th>\n",
       "      <td>1c5f4fc669099bfbfac515cd26997bd12ruaj</td>\n",
       "      <td>a3d2de7675556553a5f08e4c88d2c2280cybl</td>\n",
       "      <td>92520288b50f03907041887884ba49c0cl0pd</td>\n",
       "      <td>0.00</td>\n",
       "    </tr>\n",
       "    <tr>\n",
       "      <th>3</th>\n",
       "      <td>4bee9aba2abda51bf43d639013d6efe12iycd</td>\n",
       "      <td>51d80e233f7b6a7dfdee484a3c120f3b2ita8</td>\n",
       "      <td>4cb9717c8ad7e88a9a284989dd79b98dbevyi</td>\n",
       "      <td>0.00</td>\n",
       "    </tr>\n",
       "    <tr>\n",
       "      <th>4</th>\n",
       "      <td>4ab12bc61c82ddd9c2d65e60555808acqgos1</td>\n",
       "      <td>a3d2de7675556553a5f08e4c88d2c22857ddh</td>\n",
       "      <td>2a96c3ce94b3be921e0296097b88b56a7x1ji</td>\n",
       "      <td>0.00</td>\n",
       "    </tr>\n",
       "  </tbody>\n",
       "</table>\n",
       "</div>"
      ],
      "text/plain": [
       "                               bidder_id  \\\n",
       "0  91a3c57b13234af24875c56fb7e2b2f4rb56a   \n",
       "1  624f258b49e77713fc34034560f93fb3hu3jo   \n",
       "2  1c5f4fc669099bfbfac515cd26997bd12ruaj   \n",
       "3  4bee9aba2abda51bf43d639013d6efe12iycd   \n",
       "4  4ab12bc61c82ddd9c2d65e60555808acqgos1   \n",
       "\n",
       "                         payment_account  \\\n",
       "0  a3d2de7675556553a5f08e4c88d2c228754av   \n",
       "1  a3d2de7675556553a5f08e4c88d2c228v1sga   \n",
       "2  a3d2de7675556553a5f08e4c88d2c2280cybl   \n",
       "3  51d80e233f7b6a7dfdee484a3c120f3b2ita8   \n",
       "4  a3d2de7675556553a5f08e4c88d2c22857ddh   \n",
       "\n",
       "                                 address              outcome  \n",
       "0  a3d2de7675556553a5f08e4c88d2c228vt0u4                 0.00  \n",
       "1  ae87054e5a97a8f840a3991d12611fdcrfbq3                 0.00  \n",
       "2  92520288b50f03907041887884ba49c0cl0pd                 0.00  \n",
       "3  4cb9717c8ad7e88a9a284989dd79b98dbevyi                 0.00  \n",
       "4  2a96c3ce94b3be921e0296097b88b56a7x1ji                 0.00  "
      ]
     },
     "execution_count": 6,
     "metadata": {},
     "output_type": "execute_result"
    }
   ],
   "source": [
    "train_df.head()"
   ]
  },
  {
   "cell_type": "markdown",
   "metadata": {},
   "source": [
    "Let's take a sample of 200 train rows and use that to filter `bids`."
   ]
  },
  {
   "cell_type": "code",
   "execution_count": 7,
   "metadata": {},
   "outputs": [],
   "source": [
    "train_df_sample = train_df.sample(n=200)"
   ]
  },
  {
   "cell_type": "code",
   "execution_count": 8,
   "metadata": {},
   "outputs": [],
   "source": [
    "sample_bids = bids[bids.bidder_id.isin(set(train_df_sample.bidder_id.values))]"
   ]
  },
  {
   "cell_type": "markdown",
   "metadata": {},
   "source": [
    "## EDA"
   ]
  },
  {
   "cell_type": "markdown",
   "metadata": {},
   "source": [
    "### Time series breakdown"
   ]
  },
  {
   "cell_type": "code",
   "execution_count": 9,
   "metadata": {},
   "outputs": [],
   "source": [
    "bids_sorted_by_time = bids.sort_values('time')"
   ]
  },
  {
   "cell_type": "code",
   "execution_count": 10,
   "metadata": {},
   "outputs": [
    {
     "data": {
      "image/png": "[encoded data removed]",
      "text/plain": [
       "<Figure size 432x288 with 1 Axes>"
      ]
     },
     "metadata": {},
     "output_type": "display_data"
    }
   ],
   "source": [
    "plt.hist(bids_sorted_by_time['time'], bins=100)\n",
    "plt.show()"
   ]
  },
  {
   "cell_type": "markdown",
   "metadata": {},
   "source": [
    "Looks like there are 3 distinct periods of bids.\n",
    "\n",
    "Would be interesting to see how balanced the dataset is."
   ]
  },
  {
   "cell_type": "markdown",
   "metadata": {},
   "source": [
    "### Bids balance"
   ]
  },
  {
   "cell_type": "code",
   "execution_count": 11,
   "metadata": {},
   "outputs": [],
   "source": [
    "bids_joined = bids.merge(train_df[['bidder_id', 'outcome']], left_on='bidder_id', right_on='bidder_id')"
   ]
  },
  {
   "cell_type": "code",
   "execution_count": 12,
   "metadata": {},
   "outputs": [],
   "source": [
    "breakdown = bids_joined[['bid_id', 'outcome']].groupby('outcome').count()['bid_id']"
   ]
  },
  {
   "cell_type": "code",
   "execution_count": 13,
   "metadata": {},
   "outputs": [
    {
     "data": {
      "image/png": "[encoded data removed]",
      "text/plain": [
       "<Figure size 432x288 with 1 Axes>"
      ]
     },
     "metadata": {},
     "output_type": "display_data"
    }
   ],
   "source": [
    "plt.title('Bids by type')\n",
    "plt.bar(['Humans', 'Bots'], breakdown)\n",
    "plt.show()"
   ]
  },
  {
   "cell_type": "markdown",
   "metadata": {},
   "source": [
    "### Dataset description"
   ]
  },
  {
   "cell_type": "code",
   "execution_count": 14,
   "metadata": {},
   "outputs": [
    {
     "data": {
      "text/html": [
       "<div>\n",
       "<style scoped>\n",
       "    .dataframe tbody tr th:only-of-type {\n",
       "        vertical-align: middle;\n",
       "    }\n",
       "\n",
       "    .dataframe tbody tr th {\n",
       "        vertical-align: top;\n",
       "    }\n",
       "\n",
       "    .dataframe thead th {\n",
       "        text-align: right;\n",
       "    }\n",
       "</style>\n",
       "<table border=\"1\" class=\"dataframe\">\n",
       "  <thead>\n",
       "    <tr style=\"text-align: right;\">\n",
       "      <th></th>\n",
       "      <th>bid_id</th>\n",
       "      <th>bidder_id</th>\n",
       "      <th>auction</th>\n",
       "      <th>merchandise</th>\n",
       "      <th>device</th>\n",
       "      <th>time</th>\n",
       "      <th>country</th>\n",
       "      <th>ip</th>\n",
       "      <th>url</th>\n",
       "    </tr>\n",
       "  </thead>\n",
       "  <tbody>\n",
       "    <tr>\n",
       "      <th>count</th>\n",
       "      <td>7,656,334.00</td>\n",
       "      <td>7656334</td>\n",
       "      <td>7656334</td>\n",
       "      <td>7656334</td>\n",
       "      <td>7656334</td>\n",
       "      <td>7,656,334.00</td>\n",
       "      <td>7647475</td>\n",
       "      <td>7656334</td>\n",
       "      <td>7656334</td>\n",
       "    </tr>\n",
       "    <tr>\n",
       "      <th>unique</th>\n",
       "      <td>nan</td>\n",
       "      <td>6614</td>\n",
       "      <td>15051</td>\n",
       "      <td>10</td>\n",
       "      <td>7351</td>\n",
       "      <td>nan</td>\n",
       "      <td>199</td>\n",
       "      <td>2303991</td>\n",
       "      <td>1786351</td>\n",
       "    </tr>\n",
       "    <tr>\n",
       "      <th>top</th>\n",
       "      <td>nan</td>\n",
       "      <td>f5b2bbad20d1d7ded3ed960393bec0f40u6hn</td>\n",
       "      <td>jqx39</td>\n",
       "      <td>mobile</td>\n",
       "      <td>phone4</td>\n",
       "      <td>nan</td>\n",
       "      <td>in</td>\n",
       "      <td>37.95.134.218</td>\n",
       "      <td>vasstdc27m7nks3</td>\n",
       "    </tr>\n",
       "    <tr>\n",
       "      <th>freq</th>\n",
       "      <td>nan</td>\n",
       "      <td>515033</td>\n",
       "      <td>537347</td>\n",
       "      <td>2126587</td>\n",
       "      <td>706573</td>\n",
       "      <td>nan</td>\n",
       "      <td>1788731</td>\n",
       "      <td>61203</td>\n",
       "      <td>3499409</td>\n",
       "    </tr>\n",
       "    <tr>\n",
       "      <th>mean</th>\n",
       "      <td>3,828,166.50</td>\n",
       "      <td>NaN</td>\n",
       "      <td>NaN</td>\n",
       "      <td>NaN</td>\n",
       "      <td>NaN</td>\n",
       "      <td>9,697,977,781,760,554.00</td>\n",
       "      <td>NaN</td>\n",
       "      <td>NaN</td>\n",
       "      <td>NaN</td>\n",
       "    </tr>\n",
       "    <tr>\n",
       "      <th>std</th>\n",
       "      <td>2,210,193.39</td>\n",
       "      <td>NaN</td>\n",
       "      <td>NaN</td>\n",
       "      <td>NaN</td>\n",
       "      <td>NaN</td>\n",
       "      <td>52,505,176,512,005.31</td>\n",
       "      <td>NaN</td>\n",
       "      <td>NaN</td>\n",
       "      <td>NaN</td>\n",
       "    </tr>\n",
       "    <tr>\n",
       "      <th>min</th>\n",
       "      <td>0.00</td>\n",
       "      <td>NaN</td>\n",
       "      <td>NaN</td>\n",
       "      <td>NaN</td>\n",
       "      <td>NaN</td>\n",
       "      <td>9,631,916,842,105,264.00</td>\n",
       "      <td>NaN</td>\n",
       "      <td>NaN</td>\n",
       "      <td>NaN</td>\n",
       "    </tr>\n",
       "    <tr>\n",
       "      <th>25%</th>\n",
       "      <td>1,914,083.25</td>\n",
       "      <td>NaN</td>\n",
       "      <td>NaN</td>\n",
       "      <td>NaN</td>\n",
       "      <td>NaN</td>\n",
       "      <td>9,641,138,736,842,104.00</td>\n",
       "      <td>NaN</td>\n",
       "      <td>NaN</td>\n",
       "      <td>NaN</td>\n",
       "    </tr>\n",
       "    <tr>\n",
       "      <th>50%</th>\n",
       "      <td>3,828,166.50</td>\n",
       "      <td>NaN</td>\n",
       "      <td>NaN</td>\n",
       "      <td>NaN</td>\n",
       "      <td>NaN</td>\n",
       "      <td>9,700,653,894,736,842.00</td>\n",
       "      <td>NaN</td>\n",
       "      <td>NaN</td>\n",
       "      <td>NaN</td>\n",
       "    </tr>\n",
       "    <tr>\n",
       "      <th>75%</th>\n",
       "      <td>5,742,249.75</td>\n",
       "      <td>NaN</td>\n",
       "      <td>NaN</td>\n",
       "      <td>NaN</td>\n",
       "      <td>NaN</td>\n",
       "      <td>9,761,744,315,789,472.00</td>\n",
       "      <td>NaN</td>\n",
       "      <td>NaN</td>\n",
       "      <td>NaN</td>\n",
       "    </tr>\n",
       "    <tr>\n",
       "      <th>max</th>\n",
       "      <td>7,656,333.00</td>\n",
       "      <td>NaN</td>\n",
       "      <td>NaN</td>\n",
       "      <td>NaN</td>\n",
       "      <td>NaN</td>\n",
       "      <td>9,772,885,210,526,316.00</td>\n",
       "      <td>NaN</td>\n",
       "      <td>NaN</td>\n",
       "      <td>NaN</td>\n",
       "    </tr>\n",
       "  </tbody>\n",
       "</table>\n",
       "</div>"
      ],
      "text/plain": [
       "                     bid_id                              bidder_id  auction  \\\n",
       "count          7,656,334.00                                7656334  7656334   \n",
       "unique                  nan                                   6614    15051   \n",
       "top                     nan  f5b2bbad20d1d7ded3ed960393bec0f40u6hn    jqx39   \n",
       "freq                    nan                                 515033   537347   \n",
       "mean           3,828,166.50                                    NaN      NaN   \n",
       "std            2,210,193.39                                    NaN      NaN   \n",
       "min                    0.00                                    NaN      NaN   \n",
       "25%            1,914,083.25                                    NaN      NaN   \n",
       "50%            3,828,166.50                                    NaN      NaN   \n",
       "75%            5,742,249.75                                    NaN      NaN   \n",
       "max            7,656,333.00                                    NaN      NaN   \n",
       "\n",
       "       merchandise   device                     time  country             ip  \\\n",
       "count      7656334  7656334             7,656,334.00  7647475        7656334   \n",
       "unique          10     7351                      nan      199        2303991   \n",
       "top         mobile   phone4                      nan       in  37.95.134.218   \n",
       "freq       2126587   706573                      nan  1788731          61203   \n",
       "mean           NaN      NaN 9,697,977,781,760,554.00      NaN            NaN   \n",
       "std            NaN      NaN    52,505,176,512,005.31      NaN            NaN   \n",
       "min            NaN      NaN 9,631,916,842,105,264.00      NaN            NaN   \n",
       "25%            NaN      NaN 9,641,138,736,842,104.00      NaN            NaN   \n",
       "50%            NaN      NaN 9,700,653,894,736,842.00      NaN            NaN   \n",
       "75%            NaN      NaN 9,761,744,315,789,472.00      NaN            NaN   \n",
       "max            NaN      NaN 9,772,885,210,526,316.00      NaN            NaN   \n",
       "\n",
       "                    url  \n",
       "count           7656334  \n",
       "unique          1786351  \n",
       "top     vasstdc27m7nks3  \n",
       "freq            3499409  \n",
       "mean                NaN  \n",
       "std                 NaN  \n",
       "min                 NaN  \n",
       "25%                 NaN  \n",
       "50%                 NaN  \n",
       "75%                 NaN  \n",
       "max                 NaN  "
      ]
     },
     "execution_count": 14,
     "metadata": {},
     "output_type": "execute_result"
    }
   ],
   "source": [
    "bids.describe(include='all')"
   ]
  },
  {
   "cell_type": "markdown",
   "metadata": {},
   "source": [
    "## Feature eng"
   ]
  },
  {
   "cell_type": "markdown",
   "metadata": {},
   "source": [
    "Firstly, some of my own features."
   ]
  },
  {
   "cell_type": "markdown",
   "metadata": {},
   "source": [
    "### Number of unique devices per bidder"
   ]
  },
  {
   "cell_type": "code",
   "execution_count": 15,
   "metadata": {},
   "outputs": [],
   "source": [
    "unique_devices = bids.groupby('bidder_id')['device'].nunique().rename('NUM_UNIQUE_DEVICES')"
   ]
  },
  {
   "cell_type": "code",
   "execution_count": 16,
   "metadata": {},
   "outputs": [],
   "source": [
    "train_df = train_df.join(unique_devices, on='bidder_id')"
   ]
  },
  {
   "cell_type": "markdown",
   "metadata": {},
   "source": [
    "### Mean unique devices per auction per bidder"
   ]
  },
  {
   "cell_type": "code",
   "execution_count": 17,
   "metadata": {},
   "outputs": [],
   "source": [
    "mean_unique_per_auction = bids.groupby(['bidder_id', 'auction'])['device'].nunique().groupby('bidder_id').mean().rename('MEAN_UNIQUE_DEVICES_PER_AUCTION')"
   ]
  },
  {
   "cell_type": "code",
   "execution_count": 18,
   "metadata": {},
   "outputs": [],
   "source": [
    "train_df = train_df.join(mean_unique_per_auction, on='bidder_id')"
   ]
  },
  {
   "cell_type": "markdown",
   "metadata": {},
   "source": [
    "### Number unique auctions per bidder"
   ]
  },
  {
   "cell_type": "code",
   "execution_count": 19,
   "metadata": {},
   "outputs": [],
   "source": [
    "unique_auctions = bids.groupby('bidder_id')['auction'].nunique().rename('NUM_UNIQUE_AUCTIONS')"
   ]
  },
  {
   "cell_type": "code",
   "execution_count": 20,
   "metadata": {},
   "outputs": [],
   "source": [
    "train_df = train_df.join(unique_auctions, on='bidder_id')"
   ]
  },
  {
   "cell_type": "markdown",
   "metadata": {},
   "source": [
    "### Mean bids per auction"
   ]
  },
  {
   "cell_type": "code",
   "execution_count": 21,
   "metadata": {},
   "outputs": [],
   "source": [
    "avg_bids_per_auction = bids.groupby(['bidder_id', 'auction'])['bid_id'].count().groupby('bidder_id').mean().rename('AVG_BIDS_PER_AUCTION')"
   ]
  },
  {
   "cell_type": "code",
   "execution_count": 22,
   "metadata": {},
   "outputs": [],
   "source": [
    "train_df = train_df.join(avg_bids_per_auction, on='bidder_id')"
   ]
  },
  {
   "cell_type": "markdown",
   "metadata": {},
   "source": [
    "### Total unique countries"
   ]
  },
  {
   "cell_type": "code",
   "execution_count": 23,
   "metadata": {},
   "outputs": [],
   "source": [
    "total_unique_countries = bids.groupby('bidder_id')['country'].nunique()"
   ]
  },
  {
   "cell_type": "code",
   "execution_count": 24,
   "metadata": {},
   "outputs": [],
   "source": [
    "train_df = train_df.join(total_unique_countries, on='bidder_id')"
   ]
  },
  {
   "cell_type": "markdown",
   "metadata": {},
   "source": [
    "### Mean unique countries per auction"
   ]
  },
  {
   "cell_type": "code",
   "execution_count": 25,
   "metadata": {},
   "outputs": [],
   "source": [
    "avg_unique_countries_per_auction = bids.groupby(['bidder_id', 'auction'])['country'].nunique().groupby('bidder_id').mean().rename('AVG_UNIQUE_COUNTRIES_PER_AUCTION')"
   ]
  },
  {
   "cell_type": "code",
   "execution_count": 26,
   "metadata": {},
   "outputs": [],
   "source": [
    "train_df = train_df.join(avg_unique_countries_per_auction, on='bidder_id')"
   ]
  },
  {
   "cell_type": "markdown",
   "metadata": {},
   "source": [
    "### Mean bids per country"
   ]
  },
  {
   "cell_type": "code",
   "execution_count": 27,
   "metadata": {},
   "outputs": [],
   "source": [
    "bids_country_one_hot = pd.get_dummies(bids, columns=['country'])"
   ]
  },
  {
   "cell_type": "code",
   "execution_count": 28,
   "metadata": {},
   "outputs": [],
   "source": [
    "new_cols = [c for c in bids_country_one_hot.columns if 'country' in c]"
   ]
  },
  {
   "cell_type": "code",
   "execution_count": 29,
   "metadata": {},
   "outputs": [],
   "source": [
    "avg_bid_by_country = bids_country_one_hot[['bidder_id', 'auction'] + new_cols].groupby(['bidder_id', 'auction']).sum().groupby('bidder_id').mean()"
   ]
  },
  {
   "cell_type": "code",
   "execution_count": 30,
   "metadata": {},
   "outputs": [],
   "source": [
    "avg_bid_by_country.columns = pd.Index([f'MEAN_BIDS_{c.upper()}' for c in avg_bid_by_country.columns])"
   ]
  },
  {
   "cell_type": "code",
   "execution_count": 31,
   "metadata": {},
   "outputs": [],
   "source": [
    "train_df = train_df.join(avg_bid_by_country, on='bidder_id')"
   ]
  },
  {
   "cell_type": "markdown",
   "metadata": {},
   "source": [
    "### Breakdown per merchandise type"
   ]
  },
  {
   "cell_type": "code",
   "execution_count": 32,
   "metadata": {},
   "outputs": [],
   "source": [
    "bids_merch_one_hot = pd.get_dummies(bids, columns=['merchandise'])"
   ]
  },
  {
   "cell_type": "code",
   "execution_count": 33,
   "metadata": {},
   "outputs": [],
   "source": [
    "new_cols = [c for c in bids_merch_one_hot.columns if 'merchandise' in c]"
   ]
  },
  {
   "cell_type": "code",
   "execution_count": 34,
   "metadata": {},
   "outputs": [],
   "source": [
    "avg_merch_per_auction_breakdown = bids_merch_one_hot[['bidder_id', 'auction'] + new_cols].groupby(['bidder_id', 'auction']).sum().groupby('bidder_id').mean()"
   ]
  },
  {
   "cell_type": "code",
   "execution_count": 35,
   "metadata": {},
   "outputs": [],
   "source": [
    "avg_merch_per_auction_breakdown.columns = pd.Index([f'AVG_{c.upper()}' for c in avg_merch_per_auction_breakdown.columns])"
   ]
  },
  {
   "cell_type": "code",
   "execution_count": 36,
   "metadata": {},
   "outputs": [],
   "source": [
    "train_df = train_df.join(avg_merch_per_auction_breakdown, on='bidder_id')"
   ]
  },
  {
   "cell_type": "markdown",
   "metadata": {},
   "source": [
    "### Total unique ip addresses"
   ]
  },
  {
   "cell_type": "code",
   "execution_count": 37,
   "metadata": {},
   "outputs": [],
   "source": [
    "count_unique_ips = bids.groupby('bidder_id').ip.nunique().rename('COUNT_UNIQUE_IPS')"
   ]
  },
  {
   "cell_type": "code",
   "execution_count": 38,
   "metadata": {},
   "outputs": [],
   "source": [
    "train_df = train_df.join(count_unique_ips, on='bidder_id')"
   ]
  },
  {
   "cell_type": "markdown",
   "metadata": {},
   "source": [
    "### Unique ips per auction"
   ]
  },
  {
   "cell_type": "code",
   "execution_count": 39,
   "metadata": {},
   "outputs": [],
   "source": [
    "unique_ips_per_auction = bids.groupby(['bidder_id', 'auction']).ip.nunique().groupby('bidder_id').mean().rename('UNIQUE_IPS_PER_AUCTION')"
   ]
  },
  {
   "cell_type": "code",
   "execution_count": 40,
   "metadata": {},
   "outputs": [],
   "source": [
    "train_df = train_df.join(unique_ips_per_auction, on='bidder_id')"
   ]
  },
  {
   "cell_type": "markdown",
   "metadata": {},
   "source": [
    "The winners of the competition shared their feature engineering techniques in this article: https://www.kaggle.com/c/facebook-recruiting-iv-human-or-bot/discussion/14628\n",
    "\n",
    "The second place winner said that the most useful features were:\n",
    "\n",
    "* the median time between a user's bid and that user's previous bid\n",
    "* the mean number of bids a user made per auction\n",
    "* the entropy for how many bids a user placed on each day of the week\n",
    "* the means of the per-auction URL entropy and IP entropy for each user\n",
    "* the maximum number of bids in a 20 min span\n",
    "* the total number of bids placed by the user\n",
    "* the average number of bids a user placed per referring URL\n",
    "* the number of bids placed by the user on each of the three weekdays in the data\n",
    "* the minimum and median times between a user's bid and the previous bid by another user in the same auction.\n",
    "* the fraction of IPs used by a bidder which were also used by another user which was a bot\n",
    "\n",
    "I'll create those features initially."
   ]
  },
  {
   "cell_type": "markdown",
   "metadata": {},
   "source": [
    "### Median time between user's bids\n",
    "\n",
    "1. Sort by bid time.\n",
    "2. Diff the bid times.\n",
    "3. Take the median diff per user."
   ]
  },
  {
   "cell_type": "code",
   "execution_count": 41,
   "metadata": {},
   "outputs": [],
   "source": [
    "def median_time_between_bids(df):\n",
    "    bidder_ids_to_mean_diff = defaultdict(list)\n",
    "\n",
    "    grp = df.groupby(['bidder_id', 'auction'])\n",
    "\n",
    "    for key, df in grp:\n",
    "        bidder_id, auction = key\n",
    "        mean_value = df.sort_values('time')['time'].diff().mean()\n",
    "        if np.isnan(mean_value):\n",
    "            continue\n",
    "\n",
    "        bidder_ids_to_mean_diff[bidder_id].append(mean_value)\n",
    "\n",
    "    bidder_ids = []\n",
    "    medians = []\n",
    "\n",
    "    for bidder_id, diffs in bidder_ids_to_mean_diff.items():\n",
    "        bidder_ids.append(bidder_id)\n",
    "        medians.append(np.median(diffs))\n",
    "\n",
    "    output = pd.DataFrame({'bidder_id': bidder_ids, 'median_between_bids': medians})\n",
    "    return output.set_index('bidder_id')"
   ]
  },
  {
   "cell_type": "code",
   "execution_count": 42,
   "metadata": {},
   "outputs": [],
   "source": [
    "# Test media time function.\n",
    "\n",
    "test_dfs = pd.DataFrame({\n",
    "    'bidder_id': ['abc123', 'abc123', 'abc123', 'abc123', 'abc124', 'abc124', 'abc124'],\n",
    "    'time': [1000, 1002, 2000, 2002, 1000, 1005, 1006],\n",
    "    'auction': ['a1', 'a1', 'a2', 'a2', 'a1', 'a1', 'a1']})\n",
    "median_times = median_time_between_bids(test_dfs)\n",
    "assert median_times[median_times.index == 'abc123']['median_between_bids'].values[0] == 2"
   ]
  },
  {
   "cell_type": "code",
   "execution_count": 43,
   "metadata": {},
   "outputs": [
    {
     "name": "stdout",
     "output_type": "stream",
     "text": [
      "CPU times: user 7.15 s, sys: 68.7 ms, total: 7.21 s\n",
      "Wall time: 7.24 s\n"
     ]
    }
   ],
   "source": [
    "%%time\n",
    "median_df = median_time_between_bids(sample_bids)"
   ]
  },
  {
   "cell_type": "code",
   "execution_count": 44,
   "metadata": {},
   "outputs": [
    {
     "data": {
      "text/html": [
       "<div>\n",
       "<style scoped>\n",
       "    .dataframe tbody tr th:only-of-type {\n",
       "        vertical-align: middle;\n",
       "    }\n",
       "\n",
       "    .dataframe tbody tr th {\n",
       "        vertical-align: top;\n",
       "    }\n",
       "\n",
       "    .dataframe thead th {\n",
       "        text-align: right;\n",
       "    }\n",
       "</style>\n",
       "<table border=\"1\" class=\"dataframe\">\n",
       "  <thead>\n",
       "    <tr style=\"text-align: right;\">\n",
       "      <th></th>\n",
       "      <th>median_between_bids</th>\n",
       "    </tr>\n",
       "    <tr>\n",
       "      <th>bidder_id</th>\n",
       "      <th></th>\n",
       "    </tr>\n",
       "  </thead>\n",
       "  <tbody>\n",
       "    <tr>\n",
       "      <th>01067975436d123f717ee5aba0dd4bbfa0937</th>\n",
       "      <td>1,190,786,715,343.37</td>\n",
       "    </tr>\n",
       "    <tr>\n",
       "      <th>01255c2c7c5578c186873422fc00fd7afwk8k</th>\n",
       "      <td>1,901,720,604,703.05</td>\n",
       "    </tr>\n",
       "    <tr>\n",
       "      <th>0318e0a173f7c65db40116b903884c854x258</th>\n",
       "      <td>406,592,656,379.00</td>\n",
       "    </tr>\n",
       "    <tr>\n",
       "      <th>0496c24a6a7f593f28bf7896350e946advl6i</th>\n",
       "      <td>1,064,157,894,736.67</td>\n",
       "    </tr>\n",
       "    <tr>\n",
       "      <th>05c9fe8f8852ea069a93dfe39fc0571er9mdt</th>\n",
       "      <td>4,113,315,789,474.00</td>\n",
       "    </tr>\n",
       "  </tbody>\n",
       "</table>\n",
       "</div>"
      ],
      "text/plain": [
       "                                       median_between_bids\n",
       "bidder_id                                                 \n",
       "01067975436d123f717ee5aba0dd4bbfa0937 1,190,786,715,343.37\n",
       "01255c2c7c5578c186873422fc00fd7afwk8k 1,901,720,604,703.05\n",
       "0318e0a173f7c65db40116b903884c854x258   406,592,656,379.00\n",
       "0496c24a6a7f593f28bf7896350e946advl6i 1,064,157,894,736.67\n",
       "05c9fe8f8852ea069a93dfe39fc0571er9mdt 4,113,315,789,474.00"
      ]
     },
     "execution_count": 44,
     "metadata": {},
     "output_type": "execute_result"
    }
   ],
   "source": [
    "median_df.head()"
   ]
  },
  {
   "cell_type": "code",
   "execution_count": 45,
   "metadata": {},
   "outputs": [],
   "source": [
    "train_df['AVG_TIME_BETWEEN_BIDS'] = train_df['bidder_id'].map(median_df['median_between_bids'])"
   ]
  },
  {
   "cell_type": "markdown",
   "metadata": {},
   "source": [
    "### Entropy for how many bids a user placed on each day of the week"
   ]
  },
  {
   "cell_type": "code",
   "execution_count": 46,
   "metadata": {},
   "outputs": [],
   "source": [
    "# To do"
   ]
  },
  {
   "cell_type": "markdown",
   "metadata": {},
   "source": [
    "### Mean of the per-auction URL entropy and IP entropy for each user"
   ]
  },
  {
   "cell_type": "markdown",
   "metadata": {},
   "source": [
    "### Maximum number of bids in a 20 minute window\n",
    "\n",
    "* Calculate all 20 minute windows in dataset.\n"
   ]
  },
  {
   "cell_type": "markdown",
   "metadata": {},
   "source": [
    "### Total number of bids placed by the user"
   ]
  },
  {
   "cell_type": "code",
   "execution_count": 47,
   "metadata": {},
   "outputs": [],
   "source": [
    "total_bids_per_user = sample_bids.groupby(by=['bidder_id'])['bid_id'].count()\n",
    "\n",
    "train_df['TOTAL_BIDS'] = train_df['bidder_id'].map(total_bids_per_user)\n",
    "train_df['TOTAL_BIDS'] = train_df['TOTAL_BIDS'].fillna(0)"
   ]
  },
  {
   "cell_type": "markdown",
   "metadata": {},
   "source": [
    "## Train"
   ]
  },
  {
   "cell_type": "markdown",
   "metadata": {},
   "source": [
    "Start by training a LightGBM classifier."
   ]
  },
  {
   "cell_type": "code",
   "execution_count": 48,
   "metadata": {},
   "outputs": [],
   "source": [
    "target = train_df.pop('outcome')"
   ]
  },
  {
   "cell_type": "code",
   "execution_count": 98,
   "metadata": {},
   "outputs": [
    {
     "name": "stdout",
     "output_type": "stream",
     "text": [
      "Fold 1 AUC: 0.937814357567444\n",
      "Fold 2 AUC: 0.7299645960733827\n",
      "Fold 3 AUC: 0.8553266816865144\n",
      "Fold 4 AUC: 0.9187060478199718\n",
      "Fold 5 AUC: 0.8840277777777777\n",
      "Fold 6 AUC: 0.9170243204577967\n",
      "Fold 7 AUC: 0.7670850767085078\n",
      "Fold 8 AUC: 0.7859848484848486\n",
      "Full AUC score: 0.8531871092360088\n"
     ]
    }
   ],
   "source": [
    "folds = KFold(n_splits=8, shuffle=True, random_state=546789)\n",
    "\n",
    "oof_preds = np.zeros(train_df.shape[0])\n",
    "\n",
    "feats = [f for f in train_df.columns if f not in ['bidder_id', 'payment_account', 'address']]\n",
    "feature_importance_df = pd.DataFrame()\n",
    "\n",
    "best_iterations = []\n",
    "\n",
    "for n_fold, (trn_idx, val_idx) in enumerate(folds.split(train_df)):\n",
    "    train_X, train_y = train_df[feats].iloc[trn_idx], target.iloc[trn_idx]\n",
    "    val_X, val_y = train_df[feats].iloc[val_idx], target.iloc[val_idx]\n",
    "    \n",
    "    model = LGBMRegressor()\n",
    "    \n",
    "    model.fit(train_X, train_y)\n",
    "    \n",
    "    oof_preds[val_idx] = model.predict(val_X)\n",
    "    \n",
    "    fold_importance_df = pd.DataFrame()\n",
    "    fold_importance_df[\"feature\"] = feats\n",
    "    fold_importance_df[\"importance\"] = model.feature_importances_\n",
    "    fold_importance_df[\"fold\"] = n_fold + 1\n",
    "    feature_importance_df = pd.concat([feature_importance_df, fold_importance_df], axis=0)\n",
    "    \n",
    "    print(f'Fold {n_fold + 1} AUC: {roc_auc_score(val_y, oof_preds[val_idx])}')\n",
    "\n",
    "print(f'Full AUC score: {roc_auc_score(target, oof_preds)}')"
   ]
  },
  {
   "cell_type": "code",
   "execution_count": null,
   "metadata": {},
   "outputs": [],
   "source": [
    "total_feat_importance = feature_importance_df[[\"feature\", \"importance\"]].groupby('feature').mean().sort_values(by='importance', ascending=False)\n",
    "total_feat_importance['feature'] = total_feat_importance.index"
   ]
  },
  {
   "cell_type": "code",
   "execution_count": 84,
   "metadata": {},
   "outputs": [
    {
     "data": {
      "text/plain": [
       "<matplotlib.axes._subplots.AxesSubplot at 0x1a1c813ac8>"
      ]
     },
     "execution_count": 84,
     "metadata": {},
     "output_type": "execute_result"
    },
    {
     "data": {
      "image/png": "[encoded data removed]",
      "text/plain": [
       "<Figure size 576x1440 with 1 Axes>"
      ]
     },
     "metadata": {},
     "output_type": "display_data"
    }
   ],
   "source": [
    "plt.figure(figsize=(8, 10))\n",
    "sns.barplot(x=\"importance\", y=\"feature\",\n",
    "    data=total_feat_importance.head(20))"
   ]
  },
  {
   "cell_type": "code",
   "execution_count": null,
   "metadata": {},
   "outputs": [],
   "source": []
  }
 ],
 "metadata": {
  "kernelspec": {
   "display_name": "Python 3",
   "language": "python",
   "name": "python3"
  },
  "language_info": {
   "codemirror_mode": {
    "name": "ipython",
    "version": 3
   },
   "file_extension": ".py",
   "mimetype": "text/x-python",
   "name": "python",
   "nbconvert_exporter": "python",
   "pygments_lexer": "ipython3",
   "version": "3.6.5"
  }
 },
 "nbformat": 4,
 "nbformat_minor": 2
}
